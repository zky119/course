{
 "cells": [
  {
   "cell_type": "code",
   "execution_count": null,
   "id": "b2859a70",
   "metadata": {},
   "outputs": [],
   "source": [
    "df1 = data1.groupby('地区')['销售额'].sum()\n",
    "df1 = pd.DataFrame(df1)\n",
    "df1"
   ]
  },
  {
   "cell_type": "code",
   "execution_count": null,
   "id": "8507a57d",
   "metadata": {},
   "outputs": [],
   "source": [
    "# 取数\n",
    "location = df1.index.to_list()\n",
    "values =df1['销售额'].to_list()"
   ]
  },
  {
   "cell_type": "code",
   "execution_count": null,
   "id": "3d684f35",
   "metadata": {},
   "outputs": [],
   "source": [
    "from pyecharts import options as opts\n",
    "from pyecharts.charts import PictorialBar\n",
    "from pyecharts.globals import SymbolType\n",
    "\n",
    "c = (\n",
    "PictorialBar()  # 👇第一个参数\n",
    "    .add_xaxis(location)\n",
    "    .add_yaxis(\n",
    "        \"\",\n",
    "        # 👇 第二个参数\n",
    "        values,\n",
    "        label_opts=opts.LabelOpts(is_show=False),\n",
    "        symbol_size=18,\n",
    "        symbol_repeat=\"fixed\",\n",
    "        is_symbol_clip=True,\n",
    "        symbol=SymbolType.ROUND_RECT\n",
    "    )                     # 👆 这个是形状\n",
    "    .reversal_axis()\n",
    "    .set_global_opts(\n",
    "        title_opts=opts.TitleOpts(title=\"各地区销售额分布\"),\n",
    "        xaxis_opts=opts.AxisOpts(is_show=False),\n",
    "        yaxis_opts=opts.AxisOpts()\n",
    "    )\n",
    ")\n",
    "c.render_notebook()"
   ]
  }
 ],
 "metadata": {
  "kernelspec": {
   "display_name": "Python 3 (ipykernel)",
   "language": "python",
   "name": "python3"
  },
  "language_info": {
   "codemirror_mode": {
    "name": "ipython",
    "version": 3
   },
   "file_extension": ".py",
   "mimetype": "text/x-python",
   "name": "python",
   "nbconvert_exporter": "python",
   "pygments_lexer": "ipython3",
   "version": "3.10.9"
  }
 },
 "nbformat": 4,
 "nbformat_minor": 5
}
