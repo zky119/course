{
 "cells": [
  {
   "cell_type": "markdown",
   "metadata": {},
   "source": [
    "# 数据表示\n",
    "我们使用数据训练模型，例如，某城市房屋信息与价格如下：  \n",
    "\n",
    "|  面积   |  楼层   | $\\dots$ | 价格（万元） |\n",
    "| :-----: | :-----: | :-----: | :----------: |\n",
    "|   95    |    6    | $\\dots$ |     125      |\n",
    "|   80    |    3    | $\\dots$ |     102      |\n",
    "| $\\dots$ | $\\dots$ | $\\dots$ |   $\\dots$    |\n",
    "|   125    |    10    | $\\dots$ |     158      |\n",
    "\n",
    "每条历史数据（每一行），我们称为一个**样本**，每个属性（每一列），我们称为**特征**。每条数据对应的目标输出值，我们称为**标签**。\n",
    "\n",
    "习惯上，我们使用如下的方式进行表示：  \n",
    "<font size=5>  \n",
    "$\\begin{bmatrix}\n",
    "x_1^{(1)}, x_2^{(1)}, x_3^{(1)}, \\dots, x_n^{(1)}, y^{(1)} \\\\ \n",
    "x_1^{(2)}, x_2^{(2)}, x_3^{(2)}, \\dots, x_n^{(2)}, y^{(2)} \\\\ \n",
    "\\dots \\\\ \n",
    "x_1^{(m)}, x_2^{(m)}, x_3^{(m)}, \\dots, x_n^{(m)}, y^{(m)}\n",
    "\\end{bmatrix}\n",
    "$\n",
    "</font>\n",
    "\n",
    "|      符号       | 含义                           |\n",
    "| :-------------: | :----------------------------- |\n",
    "|       $x$       | 特征。                         |\n",
    "|       $y$       | 标签，即目标输出值（真实值）。 |\n",
    "|    $\\hat{y}$    | 模型的预测值。                 |\n",
    "|      $x_j$      | 第$j$个特征。                  |\n",
    "|   $x_j^{(i)}$   | 第$i$个样本中的第$j$个特征。   |\n",
    "|    $y^{(i)}$    | 第$i$个样本的真实值。          |\n",
    "| $\\hat{y}^{(i)}$ | 第$i$个样本的预测值。          |"
   ]
  },
  {
   "cell_type": "markdown",
   "metadata": {},
   "source": [
    "# 回归分析\n",
    "**回归分析**是用来评估变量之间关系的统计过程。用来解释自变量$X$与因变量$Y$的关系。即当自变量$X$发生改变时，因变量$Y$会如何发生改变。\n",
    "\n",
    "## 线性回归\n",
    "线性回归，是回归分析的一种，评估自变量$X$与因变量$Y$之间是一种线性关系。线性回归可以分为两种：\n",
    "* 简单线性回归：具有一个自变量。\n",
    "* 多元线性回归：具有多个自变量。\n",
    "  \n",
    "线性关系的理解：  \n",
    "* 画出来的图像是直的。\n",
    "* 每个自变量的最高次项为1。\n",
    "\n",
    "![图像无法显示](../imgs/exercise.png)\n",
    "以下方程中，$y$与$x$哪个是线性关系？  \n",
    "A $y = e^x + 8x$  \n",
    "B $y = x ^ 2 - 6x + 3$  \n",
    "C $y = 8x - 2$  \n",
    "D $y = sinx$\n",
    "![图像无法显示](../imgs/split_line.png)"
   ]
  },
  {
   "cell_type": "markdown",
   "metadata": {},
   "source": [
    "## 拟合\n",
    "**拟合**，是指构建一种算法（数学函数），使得该算法的计算结果能够与真实数据相吻合。从机器学习角度讲，线性回归就是要构建一个线性函数，使得该函数与目标值之间的相符性最好。从空间的角度来看，就是要让函数的直线（面），尽可能靠近空间中所有的数据点（点到直线的平行于$y$轴的距离之和最短）。线性回归会输出一个连续值。  \n",
    "\n",
    "![图像无法显示](../imgs/linear.png \"线性回归\")"
   ]
  },
  {
   "cell_type": "markdown",
   "metadata": {},
   "source": [
    "![图形无法显示](../imgs/summary.png \"小结\")"
   ]
  },
  {
   "cell_type": "markdown",
   "metadata": {},
   "source": [
    "# 简单线性回归\n",
    "## 模型说明\n",
    "当线性回归中，仅有一个自变量时，我们称为**简单线性回归**。\n",
    "\n",
    "这里，我们以房屋面积（$x$）与房屋价格（$y$）为例，显而易见，二者是一种线性关系，房屋价格正比于房屋面积，我们假设比例为$w$：  \n",
    "<font size=5>  \n",
    "$\\hat{y} = w * x$  \n",
    "</font>\n",
    "\n",
    "* $\\hat{y}$：预测值。\n",
    "* $w$：权重。\n",
    "\n",
    "然而，这种线性方程一定是过原点的，即当$x$为0时，$y$也一定为0。这可能并不符合现实中某些场景。为了能够让方程具有更广泛的适应性，我们这里再增加一个截距，设为$w_0$，即之前的方程变为：  \n",
    "<font size=5>  \n",
    "$\\hat{y} = w_0 + w_1 * x$  \n",
    "</font>\n",
    "\n",
    "* $w_0$：截距（偏置），即bias（$b$）。\n",
    "* 这里为了统一使用$w$参数，使用$w_0$表示$b$。\n",
    "\n",
    "而以上方程，就是简单线性回归的模型。方程中的$w$（$w_0$与$w_1$），就是模型的参数。"
   ]
  },
  {
   "cell_type": "markdown",
   "metadata": {},
   "source": [
    "## 损失函数\n",
    "通过之前的介绍，我们得知，对机器学习来讲，就是从已知数据（经验）去建立一个模型，使得该模型能够对未知的数据进行预测。实际上，机器学习的过程，就是确定（学习）模型参数（即模型的权重与偏置）的过程，因为只要模型的参数确定了，我们就可以利用模型进行预测（参数模型）。\n",
    "\n",
    "那么，模型的参数该如何求解呢？对于监督学习来说，我们可以通过建立损失函数来实现。**损失函数**，简单的说，就是关于误差的一个函数。损失函数用来衡量模型预测值与真实值之间的差异。机器学习的目标，就是要建立一个损失函数，使得该函数的值最小。\n",
    "\n",
    "也就是说，损失函数是一个关于模型参数的函数（以模型参数$w$作为自变量的函数），自变量可能的取值组合通常是无限的，我们的目标，就是要在众多可能的组合中，找到一组最合适的自变量组合（值），使得损失函数的值最小。\n",
    "\n",
    "损失函数我们习惯使用$J$来表示，例如，$J(w)$则表示以$w$为自变量的函数。"
   ]
  },
  {
   "cell_type": "code",
   "execution_count": 2,
   "metadata": {},
   "outputs": [
    {
     "name": "stdout",
     "output_type": "stream",
     "text": [
      "[5.]\n",
      "-3.9999999999999716\n"
     ]
    }
   ],
   "source": [
    "import numpy as np\n",
    "import pandas as pd\n",
    "# 机器学习库，提供很多有用的机器学习算法。\n",
    "from sklearn.linear_model import LinearRegression\n",
    "\n",
    "x = np.arange(0, 100, 0.1)\n",
    "y = 5 * x - 4\n",
    "# 将x转换为二维数据，以便在sklearn中使用。\n",
    "x = x.reshape(len(x), 1)\n",
    "# 创建线性回归类的对象。\n",
    "lr = LinearRegression()\n",
    "# 拟合。根据现有的数据集，建立模型。找出x与y之间的关系（方程式或函数）。\n",
    "# 注意，fit方法要求的x，必须是二维的x。\n",
    "lr.fit(x, y)\n",
    "# 输出权重w1。\n",
    "print(lr.coef_)\n",
    "# 输出偏置（截距）w0\n",
    "print(lr.intercept_)"
   ]
  },
  {
   "cell_type": "markdown",
   "metadata": {},
   "source": [
    "改变数据，让数据不那么完美，即x与y之间不是严格的函数映射关系。"
   ]
  },
  {
   "cell_type": "code",
   "execution_count": 4,
   "metadata": {},
   "outputs": [
    {
     "name": "stdout",
     "output_type": "stream",
     "text": [
      "[4.9992736]\n",
      "-3.9221928341671912\n"
     ]
    }
   ],
   "source": [
    "# 生成一个正态分布的干扰项（噪声）。\n",
    "noise = np.random.normal(0, 1.2, len(x))\n",
    "x = np.arange(0, 100, 0.1)\n",
    "y = 5 * x - 4 + noise\n",
    "x = x.reshape(len(x), 1)\n",
    "lr = LinearRegression()\n",
    "lr.fit(x, y)\n",
    "print(lr.coef_)\n",
    "print(lr.intercept_)"
   ]
  },
  {
   "cell_type": "markdown",
   "metadata": {},
   "source": [
    "当拟合之后，回归方程就确定了，就可以对未知的x实现预测任务。"
   ]
  },
  {
   "cell_type": "code",
   "execution_count": 6,
   "metadata": {},
   "outputs": [
    {
     "name": "stdout",
     "output_type": "stream",
     "text": [
      "501.0044404310869\n"
     ]
    }
   ],
   "source": [
    "# 自己预测。\n",
    "unknown_x = 101\n",
    "w0 = lr.intercept_\n",
    "w1 = lr.coef_[0]\n",
    "y_hat = w0 + w1 * unknown_x\n",
    "print(y_hat)"
   ]
  },
  {
   "cell_type": "code",
   "execution_count": 8,
   "metadata": {},
   "outputs": [
    {
     "name": "stdout",
     "output_type": "stream",
     "text": [
      "501.0044404310869\n"
     ]
    }
   ],
   "source": [
    "# 使用模型预测。\n",
    "# 根据给定的x数据，返回预测结果。要求：x必须是二维数据。\n",
    "y_hat = lr.predict([[unknown_x]])\n",
    "print(y_hat[0])"
   ]
  },
  {
   "cell_type": "code",
   "execution_count": 16,
   "metadata": {},
   "outputs": [
    {
     "data": {
      "text/plain": [
       "[<matplotlib.lines.Line2D at 0x2294aaca410>]"
      ]
     },
     "execution_count": 16,
     "metadata": {},
     "output_type": "execute_result"
    },
    {
     "data": {
      "image/png": "[encoded data removed]",
      "text/plain": [
       "<Figure size 640x480 with 1 Axes>"
      ]
     },
     "metadata": {},
     "output_type": "display_data"
    }
   ],
   "source": [
    "import matplotlib.pyplot as plt\n",
    "plt.rcParams[\"font.family\"] = \"SimHei\"\n",
    "plt.rcParams[\"axes.unicode_minus\"] = False\n",
    "\n",
    "# 在指定区间之内，生成等差数列。\n",
    "x = np.linspace(0, 10, 100)\n",
    "# 标准差越大，数据越分散。\n",
    "y = 4 * x - 3 + np.random.normal(0, 3.5, len(x))\n",
    "plt.scatter(x, y)\n",
    "lr = LinearRegression()\n",
    "lr.fit(np.reshape(x, (len(x), 1)), y)\n",
    "w0 = lr.intercept_\n",
    "w1 = lr.coef_[0]\n",
    "y_hat = w1 * x + w0\n",
    "y_hat = lr.predict(np.reshape(x, (len(x), 1)))\n",
    "plt.plot(x, y_hat, c=\"r\")"
   ]
  },
  {
   "cell_type": "markdown",
   "metadata": {},
   "source": [
    "# 切分数据集\n",
    "我们的目的，不应该只是让模型在现有的数据中表现优秀，更重要的是，模型也应该能够适用于未知的数据，即模型在未知数据中，同样能够具有不错的预测能力，我们将这种行为称为模型的泛化能力。\n",
    "\n",
    "为了能够验证模型的泛化能力，我们需要将现有的数据集分成两个部分：\n",
    "* 训练集：用于训练模型，求解出最佳参数值（参数估计）。\n",
    "* 测试集：用于验证模型的泛化能力。"
   ]
  },
  {
   "cell_type": "code",
   "execution_count": 5,
   "metadata": {},
   "outputs": [
    {
     "data": {
      "text/plain": [
       "[array([1.11111111, 8.88888889, 2.22222222, 6.66666667, 0.        ,\n",
       "        5.55555556, 7.77777778]),\n",
       " array([10.        ,  4.44444444,  3.33333333]),\n",
       " array([ 1.46871949, 40.85451709,  6.7315608 , 23.26522487, -2.59797346,\n",
       "        21.1717955 , 26.83886971]),\n",
       " array([31.2557075 , 13.0071911 , 11.07077333])]"
      ]
     },
     "execution_count": 5,
     "metadata": {},
     "output_type": "execute_result"
    }
   ],
   "source": [
    "from sklearn.model_selection import train_test_split\n",
    "\n",
    "\n",
    "x = np.linspace(0, 10, 10)\n",
    "y = y = 4 * x - 3 + np.random.normal(0, 3.5, len(x))\n",
    "x_train, x_test, y_train, y_test = train_test_split(x, y, test_size=0.3)\n",
    "\n",
    "lr = LinearRegression()\n",
    "# reshape可以指定-1，表示根据其他维度的长度，自动计算当前的维度。\n",
    "lr.fit(x_train.reshape(-1, 1), y_train)\n",
    "y_hat = lr.predict(x_test.reshape(-1, 1))"
   ]
  },
  {
   "cell_type": "code",
   "execution_count": 13,
   "metadata": {},
   "outputs": [
    {
     "data": {
      "text/plain": [
       "[[2, 5, 1, 4], [3]]"
      ]
     },
     "execution_count": 13,
     "metadata": {},
     "output_type": "execute_result"
    }
   ],
   "source": [
    "# shuffle：用来指定是否进行洗牌操作，默认值为True。\n",
    "# random_state：随机种子。用来控制随机行为。随机种子相同，洗牌的时候，顺序就相同。\n",
    "train_test_split([1, 2, 3, 4, 5], test_size=0.2, random_state=1)"
   ]
  },
  {
   "cell_type": "markdown",
   "metadata": {},
   "source": [
    "# 练习\n",
    "* 根据家庭电流数据集，使用全局有用功率（x）与全局电流（y）建立简单线性回归。\n",
    "    + global_active_power：全局有用功率。\n",
    "    + Global_intensity：全局电流。\n",
    "    + 注意：数据中存在缺失值（?表示缺失）。"
   ]
  }
 ],
 "metadata": {
  "kernelspec": {
   "display_name": "Python 3 (ipykernel)",
   "language": "python",
   "name": "python3"
  },
  "language_info": {
   "codemirror_mode": {
    "name": "ipython",
    "version": 3
   },
   "file_extension": ".py",
   "mimetype": "text/x-python",
   "name": "python",
   "nbconvert_exporter": "python",
   "pygments_lexer": "ipython3",
   "version": "3.10.9"
  },
  "toc": {
   "base_numbering": 1,
   "nav_menu": {},
   "number_sections": true,
   "sideBar": true,
   "skip_h1_title": false,
   "title_cell": "Table of Contents",
   "title_sidebar": "Contents",
   "toc_cell": false,
   "toc_position": {
    "height": "calc(100% - 180px)",
    "left": "10px",
    "top": "150px",
    "width": "286.575px"
   },
   "toc_section_display": true,
   "toc_window_display": true
  }
 },
 "nbformat": 4,
 "nbformat_minor": 2
}
