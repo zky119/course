{
 "cells": [
  {
   "attachments": {},
   "cell_type": "markdown",
   "metadata": {},
   "source": [
    "# 多元线性回归\n",
    "## 模型说明\n",
    "在线性回归中，如果存在多个自变量时，我们称该线性回归为**多元线性回归**。\n",
    "\n",
    "上节课中，我们学习了简单线性回归，并且使用房屋面积（$X$）来拟合房屋价格（$y$）。然而，现实中的数据通常是比较复杂的，自变量也很可能不只一个。例如，影响房屋价格不只房屋面积一个因素，可能还有距地铁距离，距市中心距离，房间数量，房屋所在层数，房屋建筑年代等诸多因素。不过，这些因素，对房屋价格影响的力度（权重）是不同的，例如，房屋所在层数对房屋价格的影响就远不及房屋面积，因此，我们可以为每个特征指定一个不同的权重。  \n",
    "<font size=5>  \n",
    "$\\hat{y} = w_0 + w_{1} * x_{1} + w_{2} * x_{2} + w_{3} * x_{3} + \\dots + w_{n} * x_{n}$  \n",
    "</font>  \n",
    "\n",
    "* $x_i$：第$i$个输入特征。\n",
    "* $w_i$：第$i$个特征的权重（影响力度）。\n",
    "* $n$：特征的个数。\n",
    "* $\\hat y$：预测值（房屋价格）。"
   ]
  },
  {
   "attachments": {},
   "cell_type": "markdown",
   "metadata": {},
   "source": [
    "## 向量表示\n",
    "我们也可以使用向量的表示方式，设$\\vec x$与$\\vec w$为两个向量：  \n",
    "<font size=5>  \n",
    "$\\vec w = (w_{1}, w_{2}, w_{3}, \\dots, w_{n})^T \\\\ \n",
    "\\vec x = (x_{1}, x_{2}, x_{3}, \\dots, x_{n})^T$  \n",
    "</font>  \n",
    "\n",
    "则回归方程可表示为：  \n",
    "<font size=5>  \n",
    "$\\hat{y} = \\sum_{j=1}^{n}(w_{j} * x_{j}) + w_0 \\\\ \n",
    "= \\vec w^T \\cdot \\vec x + w_0$  \n",
    "</font>  \n",
    "\n",
    "我们可以进一步简化，为向量$\\vec w$与$\\vec x$各加入一个分量$w_0$与$x_0$，并且令：  \n",
    "<font size=5>  \n",
    "$x_0 \\equiv 1$  \n",
    "</font>  \n",
    "\n",
    "于是，向量$\\vec w$与$\\vec x$就会变成：  \n",
    "<font size=5>  \n",
    "$\\vec w = (w_0, w_{1}, w_{2}, w_{3}, \\dots, w_{n})^T \\\\ \n",
    "\\vec x = (x_0, x_{1}, x_{2}, x_{3}, \\dots, x_{n})^T$  \n",
    "</font>  \n",
    "\n",
    "这样，就可以表示为：  \n",
    "<font size=5>  \n",
    "$\\hat{y} = w_{0} * x_{0} + w_{1} * x_{1} + w_{2} * x_{2} + w_{3} * x_{3} + \\dots + w_{n} * x_{n} \\\\ \n",
    "= \\sum_{j=0}^{n}(w_{j} * x_{j}) \\\\ \n",
    "= \\vec w^T \\cdot \\vec x$  \n",
    "</font>  "
   ]
  },
  {
   "attachments": {},
   "cell_type": "markdown",
   "metadata": {},
   "source": [
    "![图像无法显示](../imgs/exercise.png)\n",
    "设$\\vec w = (w_{1}, w_{2}, w_{3}, \\dots, w_{n})^T$，则$\\sum_{i=1}^{n}w_i^2$如果用向量表示，等价于（  ）。  \n",
    "A $\\vec w \\cdot \\vec w$  \n",
    "B $\\vec w^T \\cdot \\vec w$  \n",
    "C $\\vec w^T \\cdot \\vec w^T$  \n",
    "D $\\vec w \\cdot \\vec w^T$\n",
    "![图像无法显示](../imgs/split_line.png)"
   ]
  },
  {
   "attachments": {},
   "cell_type": "markdown",
   "metadata": {},
   "source": [
    "## 参数估计\n",
    "### 误差与分布\n",
    "接下来，我们来看一下线性回归模型中的误差。正如我们之前所提及的，线性回归中的自变量与因变量，是存在线性关系的。然而，这种关系并不是严格的函数映射关系，但是，我们构建的模型（方程）却是严格的函数映射关系，因此，对于每个样本来说，我们拟合的结果会与真实值之间存在一定的误差，我们可以将误差表示为：  \n",
    "<font size=5>  \n",
    "$\\hat{y} ^ {(i)} = \\vec{w}^T \\cdot \\vec{x}^{(i)}\\\\\n",
    "y ^ {(i)} = \\hat{y}^{(i)} + \\varepsilon^{(i)}\n",
    "$\n",
    "</font>\n",
    "\n",
    "* $\\varepsilon^{(i)}$：第$i$个样本真实值与预测值之间的误差（残差）。\n",
    "\n",
    "对于线性回归而言，具有一个前提假设：误差$\\varepsilon$服从均值为0，方差为$\\sigma^2$的正态分布。因此，根据正态分布的概率密度函数：  \n",
    "<font size=5>  \n",
    "$f(x) = \\frac{1}{\\sqrt{2\\pi}\\sigma}exp(-\\frac{(x - \\mu)^2}{2\\sigma^2})$\n",
    "</font>\n",
    "\n",
    "则误差$\\varepsilon$的分布为：  \n",
    "<font size=5>  \n",
    "$p(\\varepsilon) = \\frac{1}{\\sqrt{2\\pi}\\sigma}exp(-\\frac{\\varepsilon^2}{2\\sigma^2})\n",
    "$\n",
    "</font>\n",
    "\n",
    "因此，对于每一个样本的误差$\\varepsilon^{(i)}$，其概率值为：  \n",
    "<font size=5>  \n",
    "$p(\\varepsilon^{(i)};w) = \\frac{1}{\\sqrt{2\\pi}\\sigma}exp(-\\frac{(\\varepsilon^{(i)})^2}{2\\sigma^2}) \\\\\n",
    "= \\frac{1}{\\sqrt{2\\pi}\\sigma}exp(-\\frac{(y^{(i)} - \\vec{w}^T\\vec{x}^{(i)})^2}{2\\sigma^2})\n",
    "$\n",
    "</font>  "
   ]
  },
  {
   "attachments": {},
   "cell_type": "markdown",
   "metadata": {},
   "source": [
    "![图像无法显示](../imgs/summary.png)"
   ]
  },
  {
   "attachments": {},
   "cell_type": "markdown",
   "metadata": {},
   "source": [
    "### 极大似然估计\n",
    "极大似然估计（最大似然估计），是根据试验结果来估计未知参数的一种方式。其原则为：已经出现的，就是最有可能出现的，也就是令试验结果的概率值最大，来求解此时的未知参数值。\n",
    "\n",
    "根据该原则，我们让所有误差出现的联合概率最大，则此时参数w的值，就是我们要求解的值，我们构建似然函数：  \n",
    "<font size=5>  \n",
    "$L(w) = \\prod_{i=1}^{m}p(\\varepsilon^{(i)};w) \\\\ \n",
    "= \\prod_{i=1}^{m}\\frac{1}{\\sqrt{2\\pi}\\sigma}exp(-\\frac{(y^{(i)} - \\vec{w}^T\\vec{x}^{(i)})^2}{2\\sigma^2})\n",
    "$\n",
    "</font>\n",
    "\n",
    "* $m$：样本的数量。"
   ]
  },
  {
   "attachments": {},
   "cell_type": "markdown",
   "metadata": {},
   "source": [
    "### 对数似然函数\n",
    "不过，累计乘积的方式不利于求解，我们这里使用对数似然函数，即在似然函数上取对数操作，这样就可以将累计乘积转换为累计求和的形式。  \n",
    "<font size=5>  \n",
    "$ln(L(w)) = ln\\prod_{i=1}^{m}\\frac{1}{\\sqrt{2\\pi}\\sigma}exp(-\\frac{(y^{(i)} - \\vec{w}^T\\vec{x}^{(i)})^2}{2\\sigma^2}) \\\\\n",
    "= \\sum_{i=1}^{m}ln\\frac{1}{\\sqrt{2\\pi}\\sigma}exp(-\\frac{(y^{(i)} - \\vec{w}^T\\vec{x}^{(i)})^2}{2\\sigma^2}) \\\\\n",
    "= m * ln\\frac{1}{\\sqrt{2\\pi}\\sigma} - \\frac{1}{\\sigma^2} * \\frac{1}{2} * \\sum_{i=1}^{m}(y^{(i)} - \\vec{w}^T\\vec{x}^{(i)})^2\n",
    "$\n",
    "</font>"
   ]
  },
  {
   "attachments": {},
   "cell_type": "markdown",
   "metadata": {},
   "source": [
    "![图像无法显示](../imgs/thinking.png)\n",
    "\n",
    "* 我们原本的目的，是要求得令似然函数$L(w)$最大时，参数$w$的值。\n",
    "* 然而，我们对似然函数$L(w)$取对数，得到对数似然函数$ln(L(w))$，这样，就会将原似然函数$L(w)$改变。\n",
    "* 那这样一来，在对数似然函数$ln(L(w))$取得极大值时，计算得出的$w$会与原似然函数$L(w)$取得极大值，计算的$w$相同吗？\n"
   ]
  },
  {
   "cell_type": "code",
   "execution_count": 1,
   "metadata": {},
   "outputs": [
    {
     "data": {
      "text/plain": [
       "<matplotlib.legend.Legend at 0x1d1e3c49810>"
      ]
     },
     "execution_count": 1,
     "metadata": {},
     "output_type": "execute_result"
    },
    {
     "data": {
      "image/png": "[encoded data removed]",
      "text/plain": [
       "<Figure size 640x480 with 1 Axes>"
      ]
     },
     "metadata": {},
     "output_type": "display_data"
    }
   ],
   "source": [
    "import numpy as np\n",
    "import matplotlib.pyplot as plt\n",
    "plt.rcParams[\"font.family\"] = \"SimHei\"\n",
    "plt.rcParams[\"axes.unicode_minus\"] = False\n",
    "plt.rcParams[\"font.size\"] = 12\n",
    "\n",
    "x = np.linspace(-3, 3, 200)\n",
    "# 原函数。\n",
    "y = 0.5 * x ** 2 + 1\n",
    "# 对数函数。\n",
    "lny = np.log(y)\n",
    "plt.plot(x, y, label=\"原函数\")\n",
    "plt.plot(x, lny, label=\"对数函数\")\n",
    "plt.legend()"
   ]
  },
  {
   "attachments": {},
   "cell_type": "markdown",
   "metadata": {},
   "source": [
    "### 损失函数\n",
    "上式中，前半部分都是常数，我们的目的是为了让对数似然函数值最大，故我们只需要让后半部分的值最小即可，因此，后半部分，就可以作为线性回归的损失函数。该函数是二次函数，具有唯一极小值。  \n",
    "<font size=5>  \n",
    "$J(w) = \\frac{1}{2} * \\sum_{i=1}^{m}(y^{(i)} - \\vec{w}^T\\vec{x}^{(i)})^2 \\qquad (1)$\n",
    "</font>  "
   ]
  },
  {
   "attachments": {},
   "cell_type": "markdown",
   "metadata": {},
   "source": [
    "### 损失函数向量化表示\n",
    "在上面的损失函数中，我们是使用标量的方式来表示的。这不方便在实际应用中计算，我们可以采用矩阵与向量的方式来表示。\n",
    "\n",
    "<font size=5>  \n",
    "$%定义向量y。\n",
    "\\vec{y} = \\begin{bmatrix}\n",
    "y^{(1)} \\\\ \n",
    "y^{(2)} \\\\ \n",
    "\\dots \\\\ \n",
    "y^{(m)}\n",
    "\\end{bmatrix} \\\\\n",
    "%定义向量y_hat。\n",
    "\\vec{\\hat{y}} = \\begin{bmatrix}\n",
    "\\hat{y}^{(1)} \\\\ \n",
    "\\hat{y}^{(2)} \\\\ \n",
    "\\dots \\\\ \n",
    "\\hat{y}^{(m)}\n",
    "\\end{bmatrix} = \n",
    "% y_hat的展开。\n",
    "\\begin{bmatrix}\n",
    "\\vec{w}^T\\vec{x}^{(1)} \\\\ \n",
    "\\vec{w}^T\\vec{x}^{(2)} \\\\ \n",
    "\\dots \\\\ \n",
    "\\vec{w}^T\\vec{x}^{(m)}\n",
    "\\end{bmatrix} =\n",
    "%y_hat再次展开。\n",
    "\\begin{bmatrix}\n",
    "w_0x_0^{(1)} + w_1x_1^{(1)} + w_2x_2^{(1)} + \\dots + w_nx_n^{(1)} \\\\ \n",
    "w_0x_0^{(2)} + w_1x_1^{(2)} + w_2x_2^{(2)} + \\dots + w_nx_n^{(2)} \\\\ \n",
    "\\dots \\\\ \n",
    "w_0x_0^{(m)} + w_1x_1^{(m)} + w_2x_2^{(m)} + \\dots + w_nx_n^{(m)} \\\\ \n",
    "\\end{bmatrix} \\\\\n",
    "%提取X矩阵元素与w向量元素。\n",
    "= \\begin{bmatrix}\n",
    "x_0^{(1)}, x_1^{(1)}, x_2^{(1)}, \\dots, x_n^{(1)} \\\\ \n",
    "x_0^{(2)}, x_1^{(2)}, x_2^{(2)}, \\dots, x_n^{(2)} \\\\ \n",
    "\\dots \\\\ \n",
    "x_0^{(m)}, x_1^{(m)}, x_2^{(m)}, \\dots, x_n^{(m)}\n",
    "\\end{bmatrix} \\cdot\n",
    "\\begin{bmatrix}\n",
    "w_0 \\\\\n",
    "w_1 \\\\ \n",
    "w_2 \\\\ \n",
    "\\dots \\\\ \n",
    "w_n\n",
    "\\end{bmatrix} = X\\cdot \\vec{w} \\qquad \\Rightarrow\n",
    "$\n",
    "</font>"
   ]
  },
  {
   "attachments": {},
   "cell_type": "markdown",
   "metadata": {},
   "source": [
    "<font size=5>\n",
    "$%定义向量epsilon。\n",
    "\\vec{\\varepsilon} = \\begin{bmatrix}\n",
    "\\varepsilon^{(1)} \\\\ \n",
    "\\varepsilon^{(2)} \\\\ \n",
    "\\dots \\\\ \n",
    "\\varepsilon^{(m)}\n",
    "\\end{bmatrix} = \n",
    "% 定义向量epsilon展开式。\n",
    "\\begin{bmatrix}\n",
    "y^{(1)} - \\hat{y}^{(1)} \\\\ \n",
    "y^{(2)} - \\hat{y}^{(2)} \\\\ \n",
    "\\dots \\\\ \n",
    "y^{(m)} - \\hat{y}^{(m)}\n",
    "\\end{bmatrix} =\n",
    "% 向量y - y_hat。\n",
    "\\vec{y} - \\vec{\\hat{y}} =\n",
    "\\vec{y} - X \\cdot \\vec{w} \\qquad \\Rightarrow \\\\\n",
    "% epsilon转换为矩阵表示。\n",
    "\\sum_{i=1}^{m}(\\varepsilon^{(i)})^2 = \\vec{\\varepsilon}^T \\cdot \\vec{\\varepsilon}\n",
    "= (\\vec{y} - X\\vec{w})^T(\\vec{y} - X\\vec{w}) \\qquad （2）\n",
    "$\n",
    "</font>\n",
    "\n",
    "将（2）带入（1）：  \n",
    "<font size=5>  \n",
    "$J(w) = \\frac{1}{2} * \\sum_{i=1}^{m}(y^{(i)} - \\vec{w}^T\\vec{x}^{(i)})^2 \\\\\n",
    "= \\frac{1}{2} * (\\vec{y} - X\\vec{w})^T(\\vec{y} - X\\vec{w})\n",
    "$\n",
    "</font>"
   ]
  },
  {
   "attachments": {},
   "cell_type": "markdown",
   "metadata": {},
   "source": [
    "### 损失函数求导\n",
    "我们要求该损失函数的最小值，只需要对向量$\\vec{w}$进行求导，令导数为0，此时$\\vec{w}$的值，就是最佳解。  \n",
    "<font size=5>  \n",
    "$\\frac{\\partial J(w)}{\\partial \\vec{w}} = \n",
    "\\frac{\\partial}{\\partial \\vec{w}}(\\frac{1}{2}(\\vec{y} - X\\vec{w})^T(\\vec{y} - X\\vec{w})) \\\\ \n",
    "= \\frac{\\partial}{\\partial \\vec{w}}(\\frac{1}{2}(\\vec{y}^T - \\vec{w}^TX^T)(\\vec{y} - X\\vec{w}))\\\\ \n",
    "= \\frac{\\partial}{\\partial \\vec{w}}(\\frac{1}{2}(\\vec{y}^T\\vec{y} - \\vec{y}^TX\\vec{w} - \\vec{w}^TX^T\\vec{y} + \\vec{w}^TX^TX\\vec{w}))\n",
    "$</font>"
   ]
  },
  {
   "attachments": {},
   "cell_type": "markdown",
   "metadata": {},
   "source": [
    "### 损失函数化简\n",
    "根据矩阵与向量的求导公式，有：  \n",
    "<font size=5>  \n",
    "$\\frac{\\partial A\\vec{x}}{\\partial \\vec{x}} = A^T \\qquad \n",
    "\\frac{\\partial A\\vec{x}}{\\partial \\vec{x}^T} = A \\qquad\n",
    "\\frac{\\partial (\\vec{x}^TA)}{\\partial \\vec{x}} = A \\\\ \n",
    "\\frac{\\partial (\\vec{x}^TA\\vec{x})}{\\partial \\vec{x}} = (A^T + A)\\vec{x}\n",
    "$\n",
    "</font>\n",
    "\n",
    "特别的，如果$A = A ^ {T}$（A为对称矩阵），则：  \n",
    "<font size=5>  \n",
    "$\\frac{\\partial (\\vec{x}^TA\\vec{x})}{\\partial \\vec{x}} = 2A\\vec{x}\n",
    "$</font>\n",
    "\n",
    "因此：  \n",
    "<font size=5>  \n",
    "$\\frac{\\partial}{\\partial \\vec{w}}(\\frac{1}{2}(\\vec{y}^T\\vec{y} - \\vec{y}^TX\\vec{w} - \\vec{w}^TX^T\\vec{y} + \\vec{w}^TX^TX\\vec{w})) \\\\ \n",
    "= \\frac{1}{2}(-(\\vec{y}^TX)^T - X^T\\vec{y} + 2X^TX\\vec{w}) \\\\ \n",
    "= X^{T}X\\vec{w} - X^T\\vec{y}\n",
    "$</font>\n",
    "\n",
    "令导函数的值为0，则：  \n",
    "<font size=5>  \n",
    "$\\vec{w} = (X^TX)^{-1}X^T\\vec{y}$</font>\n",
    "\n",
    "* 矩阵$X^TX$必须是可逆的。"
   ]
  },
  {
   "cell_type": "code",
   "execution_count": 2,
   "metadata": {},
   "outputs": [
    {
     "data": {
      "text/html": [
       "<div>\n",
       "<style scoped>\n",
       "    .dataframe tbody tr th:only-of-type {\n",
       "        vertical-align: middle;\n",
       "    }\n",
       "\n",
       "    .dataframe tbody tr th {\n",
       "        vertical-align: top;\n",
       "    }\n",
       "\n",
       "    .dataframe thead th {\n",
       "        text-align: right;\n",
       "    }\n",
       "</style>\n",
       "<table border=\"1\" class=\"dataframe\">\n",
       "  <thead>\n",
       "    <tr style=\"text-align: right;\">\n",
       "      <th></th>\n",
       "      <th>TV</th>\n",
       "      <th>Radio</th>\n",
       "      <th>Newspaper</th>\n",
       "      <th>Sales</th>\n",
       "    </tr>\n",
       "  </thead>\n",
       "  <tbody>\n",
       "    <tr>\n",
       "      <th>0</th>\n",
       "      <td>230.1</td>\n",
       "      <td>37.8</td>\n",
       "      <td>69.2</td>\n",
       "      <td>22.1</td>\n",
       "    </tr>\n",
       "    <tr>\n",
       "      <th>1</th>\n",
       "      <td>44.5</td>\n",
       "      <td>39.3</td>\n",
       "      <td>45.1</td>\n",
       "      <td>10.4</td>\n",
       "    </tr>\n",
       "    <tr>\n",
       "      <th>2</th>\n",
       "      <td>17.2</td>\n",
       "      <td>45.9</td>\n",
       "      <td>69.3</td>\n",
       "      <td>9.3</td>\n",
       "    </tr>\n",
       "    <tr>\n",
       "      <th>3</th>\n",
       "      <td>151.5</td>\n",
       "      <td>41.3</td>\n",
       "      <td>58.5</td>\n",
       "      <td>18.5</td>\n",
       "    </tr>\n",
       "    <tr>\n",
       "      <th>4</th>\n",
       "      <td>180.8</td>\n",
       "      <td>10.8</td>\n",
       "      <td>58.4</td>\n",
       "      <td>12.9</td>\n",
       "    </tr>\n",
       "  </tbody>\n",
       "</table>\n",
       "</div>"
      ],
      "text/plain": [
       "      TV  Radio  Newspaper  Sales\n",
       "0  230.1   37.8       69.2   22.1\n",
       "1   44.5   39.3       45.1   10.4\n",
       "2   17.2   45.9       69.3    9.3\n",
       "3  151.5   41.3       58.5   18.5\n",
       "4  180.8   10.8       58.4   12.9"
      ]
     },
     "execution_count": 2,
     "metadata": {},
     "output_type": "execute_result"
    }
   ],
   "source": [
    "import numpy as np\n",
    "import pandas as pd\n",
    "from sklearn.linear_model import LinearRegression\n",
    "from sklearn.model_selection import train_test_split\n",
    "\n",
    "data = pd.read_csv(\"Advertising.csv\", usecols=[\"TV\",\"Radio\",\"Newspaper\",\"Sales\"], header=0)\n",
    "data.head()"
   ]
  },
  {
   "cell_type": "code",
   "execution_count": 3,
   "metadata": {},
   "outputs": [
    {
     "name": "stdout",
     "output_type": "stream",
     "text": [
      "[0.04391531 0.20027962 0.00184368]\n",
      "2.880255286331323\n",
      "[10.05866652  7.43318827  6.95305695 24.16874598 11.98172029]\n",
      "18     11.3\n",
      "170     8.4\n",
      "107     8.7\n",
      "98     25.4\n",
      "177    11.7\n",
      "Name: Sales, dtype: float64\n"
     ]
    }
   ],
   "source": [
    "X, y = data[[\"TV\", \"Radio\", \"Newspaper\"]], data[\"Sales\"]\n",
    "X_train, X_test, y_train, y_test = train_test_split(X, y, test_size=0.3, random_state=0)\n",
    "lr = LinearRegression()\n",
    "lr.fit(X_train, y_train)\n",
    "print(lr.coef_)\n",
    "print(lr.intercept_)\n",
    "y_hat = lr.predict(X_test)\n",
    "print(y_hat[:5])\n",
    "print(y_test[:5])"
   ]
  },
  {
   "cell_type": "code",
   "execution_count": 4,
   "metadata": {},
   "outputs": [
    {
     "name": "stdout",
     "output_type": "stream",
     "text": [
      "[2.88025529e+00 4.39153137e-02 2.00279617e-01 1.84368178e-03]\n"
     ]
    }
   ],
   "source": [
    "# 自力更生。\n",
    "X = X_train.values\n",
    "y = y_train.values\n",
    "one = np.ones(shape=(len(X), 1))\n",
    "X = np.concatenate([one, X], axis=1)\n",
    "# np.linalg.inv求矩阵的逆。\n",
    "w = np.linalg.inv(X.T.dot(X)).dot(X.T).dot(y)\n",
    "print(w)"
   ]
  },
  {
   "attachments": {},
   "cell_type": "markdown",
   "metadata": {},
   "source": [
    "![图像无法显示](../imgs/extend.png)\n",
    "## 三维可视化\n",
    "多元线性回归在空间中，可以表示为一个超平面，去拟合空间中的数据点。这里，为了可视化方便，我们仅选取NOX与RM两个特征（自变量）进行拟合。"
   ]
  },
  {
   "cell_type": "code",
   "execution_count": 13,
   "metadata": {},
   "outputs": [
    {
     "data": {
      "text/html": [
       "<style>#sk-container-id-1 {color: black;background-color: white;}#sk-container-id-1 pre{padding: 0;}#sk-container-id-1 div.sk-toggleable {background-color: white;}#sk-container-id-1 label.sk-toggleable__label {cursor: pointer;display: block;width: 100%;margin-bottom: 0;padding: 0.3em;box-sizing: border-box;text-align: center;}#sk-container-id-1 label.sk-toggleable__label-arrow:before {content: \"▸\";float: left;margin-right: 0.25em;color: #696969;}#sk-container-id-1 label.sk-toggleable__label-arrow:hover:before {color: black;}#sk-container-id-1 div.sk-estimator:hover label.sk-toggleable__label-arrow:before {color: black;}#sk-container-id-1 div.sk-toggleable__content {max-height: 0;max-width: 0;overflow: hidden;text-align: left;background-color: #f0f8ff;}#sk-container-id-1 div.sk-toggleable__content pre {margin: 0.2em;color: black;border-radius: 0.25em;background-color: #f0f8ff;}#sk-container-id-1 input.sk-toggleable__control:checked~div.sk-toggleable__content {max-height: 200px;max-width: 100%;overflow: auto;}#sk-container-id-1 input.sk-toggleable__control:checked~label.sk-toggleable__label-arrow:before {content: \"▾\";}#sk-container-id-1 div.sk-estimator input.sk-toggleable__control:checked~label.sk-toggleable__label {background-color: #d4ebff;}#sk-container-id-1 div.sk-label input.sk-toggleable__control:checked~label.sk-toggleable__label {background-color: #d4ebff;}#sk-container-id-1 input.sk-hidden--visually {border: 0;clip: rect(1px 1px 1px 1px);clip: rect(1px, 1px, 1px, 1px);height: 1px;margin: -1px;overflow: hidden;padding: 0;position: absolute;width: 1px;}#sk-container-id-1 div.sk-estimator {font-family: monospace;background-color: #f0f8ff;border: 1px dotted black;border-radius: 0.25em;box-sizing: border-box;margin-bottom: 0.5em;}#sk-container-id-1 div.sk-estimator:hover {background-color: #d4ebff;}#sk-container-id-1 div.sk-parallel-item::after {content: \"\";width: 100%;border-bottom: 1px solid gray;flex-grow: 1;}#sk-container-id-1 div.sk-label:hover label.sk-toggleable__label {background-color: #d4ebff;}#sk-container-id-1 div.sk-serial::before {content: \"\";position: absolute;border-left: 1px solid gray;box-sizing: border-box;top: 0;bottom: 0;left: 50%;z-index: 0;}#sk-container-id-1 div.sk-serial {display: flex;flex-direction: column;align-items: center;background-color: white;padding-right: 0.2em;padding-left: 0.2em;position: relative;}#sk-container-id-1 div.sk-item {position: relative;z-index: 1;}#sk-container-id-1 div.sk-parallel {display: flex;align-items: stretch;justify-content: center;background-color: white;position: relative;}#sk-container-id-1 div.sk-item::before, #sk-container-id-1 div.sk-parallel-item::before {content: \"\";position: absolute;border-left: 1px solid gray;box-sizing: border-box;top: 0;bottom: 0;left: 50%;z-index: -1;}#sk-container-id-1 div.sk-parallel-item {display: flex;flex-direction: column;z-index: 1;position: relative;background-color: white;}#sk-container-id-1 div.sk-parallel-item:first-child::after {align-self: flex-end;width: 50%;}#sk-container-id-1 div.sk-parallel-item:last-child::after {align-self: flex-start;width: 50%;}#sk-container-id-1 div.sk-parallel-item:only-child::after {width: 0;}#sk-container-id-1 div.sk-dashed-wrapped {border: 1px dashed gray;margin: 0 0.4em 0.5em 0.4em;box-sizing: border-box;padding-bottom: 0.4em;background-color: white;}#sk-container-id-1 div.sk-label label {font-family: monospace;font-weight: bold;display: inline-block;line-height: 1.2em;}#sk-container-id-1 div.sk-label-container {text-align: center;}#sk-container-id-1 div.sk-container {/* jupyter's `normalize.less` sets `[hidden] { display: none; }` but bootstrap.min.css set `[hidden] { display: none !important; }` so we also need the `!important` here to be able to override the default hidden behavior on the sphinx rendered scikit-learn.org. See: https://github.com/scikit-learn/scikit-learn/issues/21755 */display: inline-block !important;position: relative;}#sk-container-id-1 div.sk-text-repr-fallback {display: none;}</style><div id=\"sk-container-id-1\" class=\"sk-top-container\"><div class=\"sk-text-repr-fallback\"><pre>LinearRegression()</pre><b>In a Jupyter environment, please rerun this cell to show the HTML representation or trust the notebook. <br />On GitHub, the HTML representation is unable to render, please try loading this page with nbviewer.org.</b></div><div class=\"sk-container\" hidden><div class=\"sk-item\"><div class=\"sk-estimator sk-toggleable\"><input class=\"sk-toggleable__control sk-hidden--visually\" id=\"sk-estimator-id-1\" type=\"checkbox\" checked><label for=\"sk-estimator-id-1\" class=\"sk-toggleable__label sk-toggleable__label-arrow\">LinearRegression</label><div class=\"sk-toggleable__content\"><pre>LinearRegression()</pre></div></div></div></div></div>"
      ],
      "text/plain": [
       "LinearRegression()"
      ]
     },
     "execution_count": 13,
     "metadata": {},
     "output_type": "execute_result"
    }
   ],
   "source": [
    "# 提取前两个特征。\n",
    "X_partial = X[:,[1,2]]\n",
    "lr2 = LinearRegression()\n",
    "lr2.fit(X_partial, y)"
   ]
  },
  {
   "cell_type": "code",
   "execution_count": 14,
   "metadata": {},
   "outputs": [],
   "source": [
    "from mpl_toolkits.mplot3d import Axes3D\n",
    "# 图形显示方式，默认为嵌入显示。\n",
    "# %matplotlib inline\n",
    "# 弹出框显示。\n",
    "%matplotlib qt\n",
    "\n",
    "# 分别提取两个特征的最小值与最大值。\n",
    "max1, max2 = np.max(X_partial, axis=0)\n",
    "min1, min2 = np.min(X_partial, axis=0)\n",
    "# 在区间取值区间内，均匀选取若干个点。\n",
    "x1 = np.linspace(min1, max1, 30)\n",
    "x2 = np.linspace(min2, max2, 30)\n",
    "# 生成网状结果，用来绘制三维立体图。\n",
    "# 参数x1与x2是一维数组（向量）,将x1沿着行进行扩展，扩展的行数与x2元素的个数相同。\n",
    "# 将x2沿着列进行扩展，扩展的列数与x1元素的个数相同。返回x1与x2扩展之后的数据X1与X2（扩展之后\n",
    "# 的数组是二维的）。\n",
    "# 这样扩展的目的是，依次对位获取X1与X2（扩展之后的数组）中的每个元素，\n",
    "# 就能够构成x1与x2（扩展之前的数组）的任意组合。\n",
    "X1, X2 = np.meshgrid(x1, x2)\n",
    "# 返回figure对象。figure对象是我们绘图的底层对象，相当于画布。\n",
    "fig = plt.figure()\n",
    "# Axes3D在figure对象上进行绘制。\n",
    "ax = Axes3D(fig)\n",
    "fig.add_axes(ax)\n",
    "# 绘制真实的样本散点图。\n",
    "ax.scatter(X_partial[:, 0], X_partial[:, 1], y, color=\"b\")\n",
    "ax.set_xlabel(\"TV投放额度\")\n",
    "ax.set_ylabel(\"Radio投放额度\")\n",
    "ax.set_zlabel(\"销售额\")\n",
    "# 绘制预测的平面。\n",
    "# rstride：行上的增量。增量越大，网格越宽。\n",
    "# cstride：列上的增量。\n",
    "# cmap：颜色图。\n",
    "# alpha：透明度。1 完全不透明，0完全透明。\n",
    "surf = ax.plot_surface(X1, X2, lr2.predict(np.array([X1.ravel(), X2.ravel()]).T).reshape(X1.shape),\n",
    "        rstride=5, cstride=5, cmap=\"rainbow\", alpha=0.5)\n",
    "# 显示颜色条。\n",
    "fig.colorbar(surf)\n",
    "plt.show()"
   ]
  },
  {
   "attachments": {},
   "cell_type": "markdown",
   "metadata": {},
   "source": [
    "# 回归模型评估\n",
    "当我们建立好模型后，模型的效果如何呢？对于回归模型，我们可以采用如下的指标来进行衡量。  \n",
    "* MSE\n",
    "* RMSE\n",
    "* MAE\n",
    "* $R^2$\n",
    "\n",
    "## MSE\n",
    "MSE（Mean Squared Error），平均平方误差，为所有样本数据误差（真实值与预测值之差）的平方和，然后取均值。  \n",
    "<font size=5>  \n",
    "$MSE = \\frac{1}{m}\\sum_{i=1}^{m}(y ^ {(i)} - \\hat{y} ^ {(i)}) ^ {2}$\n",
    "</font>\n",
    "\n",
    "## RMSE\n",
    "RMSE（Root Mean Squared Error），平均平方误差的平方根，即在MSE的基础上，取平方根。  \n",
    "<font size=5>  \n",
    "$RMSE = \\sqrt{MSE} = \\sqrt{\\frac{1}{m}\\sum_{i=1}^{m}(y ^ {(i)} - \\hat{y} ^ {(i)}) ^ {2}}$\n",
    "</font>\n",
    "\n",
    "## MAE\n",
    "MAE（Mean Absolute Error），平均绝对值误差，为所有样本数据误差的绝对值和。  \n",
    "<font size=5>  \n",
    "$MAE = \\frac{1}{m}\\sum_{i=1}^{m}|y ^ {(i)} - \\hat{y} ^ {(i)}|$  \n",
    "</font>\n",
    "\n",
    "## $R^2$\n",
    "$R^2$为决定系数，用来表示模型拟合性的分值，值越高表示模型拟合性越好，在训练集中，$R^2$的取值范围为$[0, 1]$。在测试集（未知数据）中，$R^2$的取值范围为$(-\\infty, 1]$。  \n",
    "$R^2$的计算公式为1减去RSS与TSS的商。其中，TSS（Total Sum of Squares）为所有样本数据与均值的差异，是方差的$m$倍。而RSS（Residual sum of squares）为所有样本数据误差的平方和，是MSE的$m$倍。  \n",
    "<font size=5>  \n",
    "$R^2 = 1 - \\frac{RSS}{TSS} = 1 - \\frac{\\sum_{i=1}^{m}(y^{(i)} - \\hat{y}^{(i)})^2}\n",
    "{\\sum_{i=1}^{m}(y^{(i)} - \\bar{y})^2} \\\\ \n",
    "\\bar{y} = \\frac{1}{m}\\sum_{i=1}^{m}y^{(i)}\n",
    "$\n",
    "</font>\n",
    "\n",
    "从公式定义可知，最理想情况，所有的样本数据的预测值与真实值相同，即RSS为0，此时$R^2$为1。"
   ]
  },
  {
   "cell_type": "code",
   "execution_count": null,
   "metadata": {},
   "outputs": [],
   "source": [
    "# MSE，MAE，R^2函数。\n",
    "from sklearn.metrics import mean_squared_error, mean_absolute_error, r2_score\n",
    "\n",
    "print(\"均方误差(MSE)：\", mean_squared_error(y_test, y_hat))\n",
    "print(\"根均方误差(RMSE)：\", np.sqrt(mean_squared_error(y_test, y_hat)))\n",
    "print(\"平均绝对值误差(MAE)：\", mean_absolute_error(y_test, y_hat))\n",
    "print(\"训练集R^2：\", r2_score(y_train, lr.predict(X_train)))\n",
    "print(\"测试集R^2：\", r2_score(y_test, y_hat))\n",
    "# socre其实求解的就是r^2的值。但是注意，r2_score方法与score方法传递参数的内容是不同的。\n",
    "print(\"训练集R^2：\", lr.score(X_train, y_train))\n",
    "print(\"测试集R^2：\", lr.score(X_test, y_test))"
   ]
  },
  {
   "attachments": {},
   "cell_type": "markdown",
   "metadata": {},
   "source": [
    "## 模型持久化\n",
    "当我们训练好模型后，就可以使用模型进行预测。然而，这毕竟不像打印一个Hello World那样简单，当我们需要的时候，重新运行一次就可以了。在实际生产环境中，数据集可能非常庞大，如果在我们每次需要使用该模型时，都去重新运行程序去训练模型，势必会耗费大量的时间。\n",
    "\n",
    "为了方便以后能够复用，我们可以将模型保存，在需要的时候，直接加载之前保存的模型，就可以直接进行预测。其实，保存模型，就是保存模型的参数（结构），在载入模型的时候，将参数（结构）恢复成模型保存时的参数（结构）而已。"
   ]
  },
  {
   "attachments": {},
   "cell_type": "markdown",
   "metadata": {},
   "source": [
    "### 保存模型\n",
    "注意：保存模型时，保存位置的目录必须事先存在，否则会出现错误。"
   ]
  },
  {
   "cell_type": "code",
   "execution_count": null,
   "metadata": {},
   "outputs": [],
   "source": [
    "# 糖尿病数据集。\n",
    "from sklearn.datasets import load_diabetes\n",
    "import joblib\n",
    "\n",
    "# return_X_y：返回X与y，而不是返回数据对象。\n",
    "X, y = load_diabetes(return_X_y=True)\n",
    "X_train, X_test, y_train, y_test = train_test_split(X, y, test_size=0.25, random_state=0)\n",
    "lr = LinearRegression()\n",
    "lr.fit(X_train, y_train)\n",
    "print(lr.coef_, lr.intercept_)\n",
    "# 对模型进行保存。(模型保存的目录必须事先存在，否则会产生错误。)\n",
    "joblib.dump(lr, \"lr.model\")"
   ]
  },
  {
   "attachments": {},
   "cell_type": "markdown",
   "metadata": {},
   "source": [
    "### 载入模型\n",
    "我们可以载入之前保存的模型，进行预测。"
   ]
  },
  {
   "cell_type": "code",
   "execution_count": null,
   "metadata": {},
   "outputs": [],
   "source": [
    "# 恢复保存的模型。\n",
    "model = joblib.load(\"lr.model\")\n",
    "print(type(model))\n",
    "print(model.coef_, model.intercept_)\n",
    "y_hat = model.predict(X_test)\n",
    "print(y_hat[:10])"
   ]
  },
  {
   "attachments": {},
   "cell_type": "markdown",
   "metadata": {},
   "source": [
    "![图形无法显示](../imgs/summary.png \"小结\")"
   ]
  },
  {
   "attachments": {},
   "cell_type": "markdown",
   "metadata": {},
   "source": [
    "# 练习\n",
    "* 参考sklearn中的LinearRegression，自己编写一个简单的线性回归类，能够实现多元线性回归。要求如下：\n",
    "    + 具有fit方法，训练模型。\n",
    "    + 具有predict方法，预测未知数据。\n",
    "    + 具有coef_属性，返回所有权重（不包括偏置$w_0$）。\n",
    "    + 具有intercept_属性，返回偏置$b$（$w_0$）。\n",
    "    + 不允许借助于sklearn中的LinearRegression类。"
   ]
  }
 ],
 "metadata": {
  "kernelspec": {
   "display_name": "Python 3 (ipykernel)",
   "language": "python",
   "name": "python3"
  },
  "language_info": {
   "codemirror_mode": {
    "name": "ipython",
    "version": 3
   },
   "file_extension": ".py",
   "mimetype": "text/x-python",
   "name": "python",
   "nbconvert_exporter": "python",
   "pygments_lexer": "ipython3",
   "version": "3.10.9"
  },
  "toc": {
   "base_numbering": 1,
   "nav_menu": {},
   "number_sections": true,
   "sideBar": true,
   "skip_h1_title": false,
   "title_cell": "Table of Contents",
   "title_sidebar": "Contents",
   "toc_cell": false,
   "toc_position": {
    "height": "526.4px",
    "left": "214px",
    "top": "136.8px",
    "width": "268.975px"
   },
   "toc_section_display": true,
   "toc_window_display": true
  }
 },
 "nbformat": 4,
 "nbformat_minor": 2
}
