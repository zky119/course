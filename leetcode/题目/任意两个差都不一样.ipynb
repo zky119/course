{
 "cells": [
  {
   "cell_type": "code",
   "execution_count": 1,
   "metadata": {},
   "outputs": [
    {
     "data": {
      "text/plain": [
       "{0, 1, 3, 7, 12, 20, 30, 44, 65, 80}"
      ]
     },
     "execution_count": 1,
     "metadata": {},
     "output_type": "execute_result"
    }
   ],
   "source": [
    "# 从0开始，选出10个非负整数。要求是 任意 两个数的差全不相同，\n",
    "# 问：10个数字从小到大排列，其中最大者(记为)A(10)的 最小值 是多少？\n",
    "\n",
    "set_shu = set()   # 初始化 数 的集合\n",
    "set_cha = set()   # 初始化 差 的集合\n",
    "\n",
    "i = 0             # 初始化 i\n",
    "while len(set_shu) < 10:       # 当集合小于10个数时\n",
    "    \n",
    "    if i == 0:                 # 从0开始\n",
    "        set_shu.add(i)         # 加入 数 的集合 \n",
    "    i = i + 1                  # i 累加\n",
    "    if i > 0:                  # i 大于 0 时\n",
    "        set_cha_linshi = set() # 初始化 临时的 差 的集合\n",
    "        for j in set_shu:      # 遍历\n",
    "            cha = i - j        # 计算差\n",
    "            set_cha_linshi.add(cha)  # 把差加入到 临时差的 集合\n",
    "        if set_cha_linshi & set_cha == set():   # 如果临时差 和 固定差 没有交集\n",
    "            set_shu.add(i)         # 把 i 加入进 数 的集合\n",
    "            set_cha = set_cha | set_cha_linshi   # 把临时的差加入到 固定 的 差的集合\n",
    "        else:\n",
    "            continue\n",
    "set_shu"
   ]
  },
  {
   "cell_type": "code",
   "execution_count": 2,
   "metadata": {},
   "outputs": [
    {
     "data": {
      "text/plain": [
       "80"
      ]
     },
     "execution_count": 2,
     "metadata": {},
     "output_type": "execute_result"
    }
   ],
   "source": [
    "max(set_shu)"
   ]
  }
 ],
 "metadata": {
  "kernelspec": {
   "display_name": "base",
   "language": "python",
   "name": "python3"
  },
  "language_info": {
   "codemirror_mode": {
    "name": "ipython",
    "version": 3
   },
   "file_extension": ".py",
   "mimetype": "text/x-python",
   "name": "python",
   "nbconvert_exporter": "python",
   "pygments_lexer": "ipython3",
   "version": "3.10.9"
  },
  "orig_nbformat": 4
 },
 "nbformat": 4,
 "nbformat_minor": 2
}
