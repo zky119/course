{
 "cells": [
  {
   "cell_type": "code",
   "execution_count": 4,
   "metadata": {},
   "outputs": [
    {
     "data": {
      "text/plain": [
       "['a2', 's2', 'd2', 'f2', 'q2', 'w2', 'e2', 'r2']"
      ]
     },
     "execution_count": 4,
     "metadata": {},
     "output_type": "execute_result"
    }
   ],
   "source": [
    "numbers = 'asdfqwer'\n",
    "list(map(lambda x: x +'2', numbers))"
   ]
  },
  {
   "cell_type": "code",
   "execution_count": 11,
   "metadata": {},
   "outputs": [
    {
     "name": "stdout",
     "output_type": "stream",
     "text": [
      "bytearray(b'Hello')\n"
     ]
    }
   ],
   "source": [
    "arr = bytearray(b'hello')\n",
    "mv = memoryview(arr)\n",
    "mv[0] = ord('H')\n",
    "print(arr) # bytearray(b'Hello')"
   ]
  },
  {
   "cell_type": "code",
   "execution_count": 26,
   "metadata": {},
   "outputs": [
    {
     "data": {
      "text/plain": [
       "(1+3j)"
      ]
     },
     "execution_count": 26,
     "metadata": {},
     "output_type": "execute_result"
    }
   ],
   "source": [
    "complex(1,3)"
   ]
  },
  {
   "cell_type": "code",
   "execution_count": 13,
   "metadata": {},
   "outputs": [
    {
     "data": {
      "text/plain": [
       "(5, 15)"
      ]
     },
     "execution_count": 13,
     "metadata": {},
     "output_type": "execute_result"
    }
   ],
   "source": [
    "divmod(100,17)"
   ]
  },
  {
   "cell_type": "code",
   "execution_count": 15,
   "metadata": {},
   "outputs": [
    {
     "data": {
      "text/plain": [
       "10715086071862673209484250490600018105614048117055336074437503883703510511249361224931983788156958581275946729175531468251871452856923140435984577574698574803934567774824230985421074605062371141877954182153046474983581941267398767559165543946077062914571196477686542167660429831652624386837205668069376"
      ]
     },
     "execution_count": 15,
     "metadata": {},
     "output_type": "execute_result"
    }
   ],
   "source": [
    "pow(2,1000)"
   ]
  },
  {
   "cell_type": "code",
   "execution_count": 19,
   "metadata": {},
   "outputs": [
    {
     "data": {
      "text/plain": [
       "int"
      ]
     },
     "execution_count": 19,
     "metadata": {},
     "output_type": "execute_result"
    }
   ],
   "source": [
    "type(round(5.49))"
   ]
  },
  {
   "cell_type": "code",
   "execution_count": 24,
   "metadata": {},
   "outputs": [
    {
     "data": {
      "text/plain": [
       "'0o12'"
      ]
     },
     "execution_count": 24,
     "metadata": {},
     "output_type": "execute_result"
    }
   ],
   "source": [
    "oct(10)"
   ]
  },
  {
   "cell_type": "code",
   "execution_count": 29,
   "metadata": {},
   "outputs": [
    {
     "data": {
      "text/plain": [
       "'0x11'"
      ]
     },
     "execution_count": 29,
     "metadata": {},
     "output_type": "execute_result"
    }
   ],
   "source": [
    "hex(17)"
   ]
  },
  {
   "cell_type": "code",
   "execution_count": 27,
   "metadata": {},
   "outputs": [
    {
     "data": {
      "text/plain": [
       "{'__name__': '__main__',\n",
       " '__doc__': 'Automatically created module for IPython interactive environment',\n",
       " '__package__': None,\n",
       " '__loader__': None,\n",
       " '__spec__': None,\n",
       " '__builtin__': <module 'builtins' (built-in)>,\n",
       " '__builtins__': <module 'builtins' (built-in)>,\n",
       " '_ih': ['',\n",
       "  'numbers = [1, 2, 3, 4, 5]\\nmap(lambda x: x * 2, numbers)',\n",
       "  'numbers = [1, 2, 3, 4, 5]\\nprint(map(lambda x: x * 2, numbers))',\n",
       "  'numbers = [1, 2, 3, 4, 5]\\nlist(map(lambda x: x * 2, numbers))',\n",
       "  \"numbers = 'asdfqwer'\\nlist(map(lambda x: x +'2', numbers))\",\n",
       "  'memoryview(numbers)',\n",
       "  \"bytearray(b'hello')\",\n",
       "  \"type(bytearray(b'hello'))\",\n",
       "  \"memoryview((bytearray(b'hello')))\",\n",
       "  \"memoryview((bytearray(b'hello')))\\nmv[0] = ord('H')\",\n",
       "  \"mv = memoryview((bytearray(b'hello')))\\nmv[0] = ord('H')\",\n",
       "  \"arr = bytearray(b'hello')\\nmv = memoryview(arr)\\nmv[0] = ord('H')\\nprint(arr) # bytearray(b'Hello')\",\n",
       "  'complex(1)',\n",
       "  'divmod(100,17)',\n",
       "  'pow(2,100)',\n",
       "  'pow(2,1000)',\n",
       "  'round(5.5)',\n",
       "  'round(5.45)',\n",
       "  'round(5.49)',\n",
       "  'type(round(5.49))',\n",
       "  'oct(1234567)',\n",
       "  'oct(8)',\n",
       "  'oct(7)',\n",
       "  'oct(9)',\n",
       "  'oct(10)',\n",
       "  'hex(17)',\n",
       "  'complex(1,3)',\n",
       "  'locals()'],\n",
       " '_oh': {1: <map at 0x1f9e5d4a3b0>,\n",
       "  3: [2, 4, 6, 8, 10],\n",
       "  4: ['a2', 's2', 'd2', 'f2', 'q2', 'w2', 'e2', 'r2'],\n",
       "  6: bytearray(b'hello'),\n",
       "  7: bytearray,\n",
       "  8: <memory at 0x000001F9E7864F40>,\n",
       "  12: (1+0j),\n",
       "  13: (5, 15),\n",
       "  14: 1267650600228229401496703205376,\n",
       "  15: 10715086071862673209484250490600018105614048117055336074437503883703510511249361224931983788156958581275946729175531468251871452856923140435984577574698574803934567774824230985421074605062371141877954182153046474983581941267398767559165543946077062914571196477686542167660429831652624386837205668069376,\n",
       "  16: 6,\n",
       "  17: 5,\n",
       "  18: 5,\n",
       "  19: int,\n",
       "  20: '0o4553207',\n",
       "  21: '0o10',\n",
       "  22: '0o7',\n",
       "  23: '0o11',\n",
       "  24: '0o12',\n",
       "  25: '0x11',\n",
       "  26: (1+3j)},\n",
       " '_dh': [WindowsPath('c:/Users/zky/Desktop/python/course/leetcode/题目'),\n",
       "  WindowsPath('c:/Users/zky/Desktop/python/course/leetcode/题目')],\n",
       " 'In': ['',\n",
       "  'numbers = [1, 2, 3, 4, 5]\\nmap(lambda x: x * 2, numbers)',\n",
       "  'numbers = [1, 2, 3, 4, 5]\\nprint(map(lambda x: x * 2, numbers))',\n",
       "  'numbers = [1, 2, 3, 4, 5]\\nlist(map(lambda x: x * 2, numbers))',\n",
       "  \"numbers = 'asdfqwer'\\nlist(map(lambda x: x +'2', numbers))\",\n",
       "  'memoryview(numbers)',\n",
       "  \"bytearray(b'hello')\",\n",
       "  \"type(bytearray(b'hello'))\",\n",
       "  \"memoryview((bytearray(b'hello')))\",\n",
       "  \"memoryview((bytearray(b'hello')))\\nmv[0] = ord('H')\",\n",
       "  \"mv = memoryview((bytearray(b'hello')))\\nmv[0] = ord('H')\",\n",
       "  \"arr = bytearray(b'hello')\\nmv = memoryview(arr)\\nmv[0] = ord('H')\\nprint(arr) # bytearray(b'Hello')\",\n",
       "  'complex(1)',\n",
       "  'divmod(100,17)',\n",
       "  'pow(2,100)',\n",
       "  'pow(2,1000)',\n",
       "  'round(5.5)',\n",
       "  'round(5.45)',\n",
       "  'round(5.49)',\n",
       "  'type(round(5.49))',\n",
       "  'oct(1234567)',\n",
       "  'oct(8)',\n",
       "  'oct(7)',\n",
       "  'oct(9)',\n",
       "  'oct(10)',\n",
       "  'hex(17)',\n",
       "  'complex(1,3)',\n",
       "  'locals()'],\n",
       " 'Out': {1: <map at 0x1f9e5d4a3b0>,\n",
       "  3: [2, 4, 6, 8, 10],\n",
       "  4: ['a2', 's2', 'd2', 'f2', 'q2', 'w2', 'e2', 'r2'],\n",
       "  6: bytearray(b'hello'),\n",
       "  7: bytearray,\n",
       "  8: <memory at 0x000001F9E7864F40>,\n",
       "  12: (1+0j),\n",
       "  13: (5, 15),\n",
       "  14: 1267650600228229401496703205376,\n",
       "  15: 10715086071862673209484250490600018105614048117055336074437503883703510511249361224931983788156958581275946729175531468251871452856923140435984577574698574803934567774824230985421074605062371141877954182153046474983581941267398767559165543946077062914571196477686542167660429831652624386837205668069376,\n",
       "  16: 6,\n",
       "  17: 5,\n",
       "  18: 5,\n",
       "  19: int,\n",
       "  20: '0o4553207',\n",
       "  21: '0o10',\n",
       "  22: '0o7',\n",
       "  23: '0o11',\n",
       "  24: '0o12',\n",
       "  25: '0x11',\n",
       "  26: (1+3j)},\n",
       " 'get_ipython': <bound method InteractiveShell.get_ipython of <ipykernel.zmqshell.ZMQInteractiveShell object at 0x000001F9E57B0E80>>,\n",
       " 'exit': <IPython.core.autocall.ZMQExitAutocall at 0x1f9e57949a0>,\n",
       " 'quit': <IPython.core.autocall.ZMQExitAutocall at 0x1f9e57949a0>,\n",
       " 'open': <function io.open(file, mode='r', buffering=-1, encoding=None, errors=None, newline=None, closefd=True, opener=None)>,\n",
       " '_': (1+3j),\n",
       " '__': '0x11',\n",
       " '___': '0o12',\n",
       " '__vsc_ipynb_file__': 'c:\\\\Users\\\\zky\\\\Desktop\\\\python\\\\course\\\\leetcode\\\\题目\\\\内置函数.ipynb',\n",
       " '_i': 'complex(1,3)',\n",
       " '_ii': 'hex(17)',\n",
       " '_iii': 'oct(10)',\n",
       " '_i1': 'numbers = [1, 2, 3, 4, 5]\\nmap(lambda x: x * 2, numbers)',\n",
       " 'numbers': 'asdfqwer',\n",
       " '_1': <map at 0x1f9e5d4a3b0>,\n",
       " '_i2': 'numbers = [1, 2, 3, 4, 5]\\nprint(map(lambda x: x * 2, numbers))',\n",
       " '_i3': 'numbers = [1, 2, 3, 4, 5]\\nlist(map(lambda x: x * 2, numbers))',\n",
       " '_3': [2, 4, 6, 8, 10],\n",
       " '_i4': \"numbers = 'asdfqwer'\\nlist(map(lambda x: x +'2', numbers))\",\n",
       " '_4': ['a2', 's2', 'd2', 'f2', 'q2', 'w2', 'e2', 'r2'],\n",
       " '_i5': 'memoryview(numbers)',\n",
       " '_i6': \"bytearray(b'hello')\",\n",
       " '_6': bytearray(b'hello'),\n",
       " '_i7': \"type(bytearray(b'hello'))\",\n",
       " '_7': bytearray,\n",
       " '_i8': \"memoryview((bytearray(b'hello')))\",\n",
       " '_8': <memory at 0x000001F9E7864F40>,\n",
       " '_i9': \"memoryview((bytearray(b'hello')))\\nmv[0] = ord('H')\",\n",
       " '_i10': \"mv = memoryview((bytearray(b'hello')))\\nmv[0] = ord('H')\",\n",
       " 'mv': <memory at 0x000001F9E7865240>,\n",
       " '_i11': \"arr = bytearray(b'hello')\\nmv = memoryview(arr)\\nmv[0] = ord('H')\\nprint(arr) # bytearray(b'Hello')\",\n",
       " 'arr': bytearray(b'Hello'),\n",
       " '_i12': 'complex(1)',\n",
       " '_12': (1+0j),\n",
       " '_i13': 'divmod(100,17)',\n",
       " '_13': (5, 15),\n",
       " '_i14': 'pow(2,100)',\n",
       " '_14': 1267650600228229401496703205376,\n",
       " '_i15': 'pow(2,1000)',\n",
       " '_15': 10715086071862673209484250490600018105614048117055336074437503883703510511249361224931983788156958581275946729175531468251871452856923140435984577574698574803934567774824230985421074605062371141877954182153046474983581941267398767559165543946077062914571196477686542167660429831652624386837205668069376,\n",
       " '_i16': 'round(5.5)',\n",
       " '_16': 6,\n",
       " '_i17': 'round(5.45)',\n",
       " '_17': 5,\n",
       " '_i18': 'round(5.49)',\n",
       " '_18': 5,\n",
       " '_i19': 'type(round(5.49))',\n",
       " '_19': int,\n",
       " '_i20': 'oct(1234567)',\n",
       " '_20': '0o4553207',\n",
       " '_i21': 'oct(8)',\n",
       " '_21': '0o10',\n",
       " '_i22': 'oct(7)',\n",
       " '_22': '0o7',\n",
       " '_i23': 'oct(9)',\n",
       " '_23': '0o11',\n",
       " '_i24': 'oct(10)',\n",
       " '_24': '0o12',\n",
       " '_i25': 'hex(17)',\n",
       " '_25': '0x11',\n",
       " '_i26': 'complex(1,3)',\n",
       " '_26': (1+3j),\n",
       " '_i27': 'locals()'}"
      ]
     },
     "execution_count": 27,
     "metadata": {},
     "output_type": "execute_result"
    }
   ],
   "source": [
    "locals()"
   ]
  }
 ],
 "metadata": {
  "kernelspec": {
   "display_name": "base",
   "language": "python",
   "name": "python3"
  },
  "language_info": {
   "codemirror_mode": {
    "name": "ipython",
    "version": 3
   },
   "file_extension": ".py",
   "mimetype": "text/x-python",
   "name": "python",
   "nbconvert_exporter": "python",
   "pygments_lexer": "ipython3",
   "version": "3.10.9"
  },
  "orig_nbformat": 4
 },
 "nbformat": 4,
 "nbformat_minor": 2
}
