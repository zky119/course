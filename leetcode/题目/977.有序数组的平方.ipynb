{
 "cells": [
  {
   "cell_type": "code",
   "execution_count": null,
   "metadata": {},
   "outputs": [],
   "source": [
    "def sorted_squares(nums):\n",
    "    n = len(nums)\n",
    "    result = [0] * n\n",
    "    \n",
    "    left, right = 0, n - 1\n",
    "    index = n - 1\n",
    "    \n",
    "    while left <= right:\n",
    "        left_square = nums[left] * nums[left]\n",
    "        right_square = nums[right] * nums[right]\n",
    "        \n",
    "        if left_square > right_square:\n",
    "            result[index] = left_square\n",
    "            left += 1\n",
    "        else:\n",
    "            result[index] = right_square\n",
    "            right -= 1\n",
    "        \n",
    "        index -= 1\n",
    "    \n",
    "    return result\n",
    "\n",
    "# 示例 1\n",
    "nums1 = [-4, -1, 0, 3, 10]\n",
    "result1 = sorted_squares(nums1)\n",
    "print(result1)  # 输出：[0, 1, 9, 16, 100]\n",
    "\n",
    "# 示例 2\n",
    "nums2 = [-7, -3, 2, 3, 11]\n",
    "result2 = sorted_squares(nums2)\n",
    "print(result2)  # 输出：[4, 9, 9, 49, 121]\n"
   ]
  },
  {
   "cell_type": "code",
   "execution_count": 10,
   "metadata": {},
   "outputs": [
    {
     "data": {
      "text/plain": [
       "[4, 9, 9, 49, 121]"
      ]
     },
     "execution_count": 10,
     "metadata": {},
     "output_type": "execute_result"
    }
   ],
   "source": [
    "from typing import List\n",
    "class Solution:\n",
    "    def sortedSquares(self, nums: List[int]) -> List[int]:\n",
    "        n = len(nums)\n",
    "        left = 0\n",
    "        right = n - 1\n",
    "        index = n - 1\n",
    "        new_nums = [0] * n\n",
    "        while left <= right:\n",
    "            left_square = nums[left] *nums[left]\n",
    "            right_square = nums[right] * nums[right]\n",
    "            if left_square < right_square:\n",
    "                new_nums[index] = right_square\n",
    "                right -= 1\n",
    "            else:\n",
    "                new_nums[index] = left_square\n",
    "                left += 1\n",
    "            index -= 1\n",
    "        return new_nums\n",
    "Solution().sortedSquares([-7,-3,2,3,11])"
   ]
  },
  {
   "cell_type": "code",
   "execution_count": 8,
   "metadata": {},
   "outputs": [
    {
     "data": {
      "text/plain": [
       "[0, 9, 9, 49, 121]"
      ]
     },
     "execution_count": 8,
     "metadata": {},
     "output_type": "execute_result"
    }
   ],
   "source": []
  }
 ],
 "metadata": {
  "kernelspec": {
   "display_name": "base",
   "language": "python",
   "name": "python3"
  },
  "language_info": {
   "codemirror_mode": {
    "name": "ipython",
    "version": 3
   },
   "file_extension": ".py",
   "mimetype": "text/x-python",
   "name": "python",
   "nbconvert_exporter": "python",
   "pygments_lexer": "ipython3",
   "version": "3.10.9"
  },
  "orig_nbformat": 4
 },
 "nbformat": 4,
 "nbformat_minor": 2
}
