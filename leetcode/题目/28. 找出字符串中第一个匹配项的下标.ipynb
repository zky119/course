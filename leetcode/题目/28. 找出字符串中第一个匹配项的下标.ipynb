{
 "cells": [
  {
   "cell_type": "code",
   "execution_count": null,
   "metadata": {},
   "outputs": [],
   "source": [
    "# 给你两个字符串 haystack 和 needle ，\n",
    "# 请你在 haystack 字符串中找出 needle 字符串的第一个匹配项的下标（下标从 0 开始）。\n",
    "# 如果 needle 不是 haystack 的一部分，则返回  -1 。"
   ]
  },
  {
   "cell_type": "code",
   "execution_count": null,
   "metadata": {},
   "outputs": [],
   "source": [
    "class Solution:\n",
    "    def strStr(self, haystack: str, needle: str) -> int:\n",
    "        n = len(needle)\n",
    "        m = len(haystack)\n",
    "        #构造next数组\n",
    "        next = [0]\n",
    "        k = 0\n",
    "        for i in range(1,n):\n",
    "            while k > 0 and needle[k] != needle[i]:\n",
    "                k = next[k-1];\n",
    "            if needle[k] == needle[i]:\n",
    "                k += 1\n",
    "            next.append(k)\n",
    "            \n",
    "        #主串位置判断\n",
    "        j = 0\n",
    "        for i in range(m):\n",
    "            while j > 0 and haystack[i] != needle[j]:\n",
    "                j = next[j-1]\n",
    "            if haystack[i] == needle[j]:\n",
    "                j += 1\n",
    "            if j == n:\n",
    "                return i-j+1\n",
    "        return -1"
   ]
  },
  {
   "cell_type": "code",
   "execution_count": null,
   "metadata": {},
   "outputs": [],
   "source": []
  },
  {
   "cell_type": "code",
   "execution_count": 2,
   "metadata": {},
   "outputs": [],
   "source": [
    "class Solution:\n",
    "    def strStr(self, haystack: str, needle: str) -> int:\n",
    "        m = len(haystack)\n",
    "        n = len(needle)\n",
    "        for i in range(m):\n",
    "            if haystack[i:i+n] == needle:\n",
    "                return i\n",
    "        return -1"
   ]
  },
  {
   "cell_type": "code",
   "execution_count": 4,
   "metadata": {},
   "outputs": [
    {
     "data": {
      "text/plain": [
       "-1"
      ]
     },
     "execution_count": 4,
     "metadata": {},
     "output_type": "execute_result"
    }
   ],
   "source": [
    "Solution().strStr(haystack = \"leetcode\", needle = \"leeto\")"
   ]
  },
  {
   "cell_type": "code",
   "execution_count": 2,
   "metadata": {},
   "outputs": [
    {
     "data": {
      "text/plain": [
       "['', '', '', '', '', '', '', '', '', '']"
      ]
     },
     "execution_count": 2,
     "metadata": {},
     "output_type": "execute_result"
    }
   ],
   "source": [
    "next=['' for i in range(10)]\n",
    "next"
   ]
  }
 ],
 "metadata": {
  "kernelspec": {
   "display_name": "base",
   "language": "python",
   "name": "python3"
  },
  "language_info": {
   "codemirror_mode": {
    "name": "ipython",
    "version": 3
   },
   "file_extension": ".py",
   "mimetype": "text/x-python",
   "name": "python",
   "nbconvert_exporter": "python",
   "pygments_lexer": "ipython3",
   "version": "3.10.9"
  },
  "orig_nbformat": 4
 },
 "nbformat": 4,
 "nbformat_minor": 2
}
