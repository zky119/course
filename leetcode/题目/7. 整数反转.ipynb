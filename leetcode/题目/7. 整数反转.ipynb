{
 "cells": [
  {
   "attachments": {},
   "cell_type": "markdown",
   "metadata": {},
   "source": [
    "给你一个 32 位的有符号整数 x ，返回将 x 中的数字部分反转后的结果。\n",
    "\n",
    "如果反转后整数超过 32 位的有符号整数的范围 [−231,  231 − 1] ，就返回 0。\n",
    "\n",
    "假设环境不允许存储 64 位整数（有符号或无符号）。\n"
   ]
  },
  {
   "cell_type": "code",
   "execution_count": 3,
   "metadata": {},
   "outputs": [
    {
     "name": "stdout",
     "output_type": "stream",
     "text": [
      "-9646324351\n"
     ]
    }
   ],
   "source": [
    "x = -1534236469\n",
    "s = str(x)\n",
    "if s[0] == '-':\n",
    "    if len(s) < 32:\n",
    "        s_inverse = int(s[:0:-1])\n",
    "        print(-s_inverse)\n",
    "    else:\n",
    "        print(0)\n",
    "else:\n",
    "    if len(s) < 32:\n",
    "        s_inverse = int(s[::-1])\n",
    "        print(s_inverse)\n",
    "    else:\n",
    "        print(0)"
   ]
  },
  {
   "cell_type": "code",
   "execution_count": 1,
   "metadata": {},
   "outputs": [
    {
     "data": {
      "text/plain": [
       "-98765432"
      ]
     },
     "execution_count": 1,
     "metadata": {},
     "output_type": "execute_result"
    }
   ],
   "source": [
    "s = '123456789'\n",
    "-int(s[:0:-1])"
   ]
  },
  {
   "cell_type": "code",
   "execution_count": 34,
   "metadata": {},
   "outputs": [],
   "source": [
    "class Solution:\n",
    "    def reverse(self, x: int) -> int:\n",
    "        s = str(x)\n",
    "        if s[0] == '-':\n",
    "            if len(s)<32:\n",
    "                s_inverse = int(s[:0:-1])\n",
    "                res = -s_inverse\n",
    "                return res\n",
    "            else:\n",
    "                return 0\n",
    "        else:\n",
    "            if len(s)<32:\n",
    "                s_inverse = int(s[::-1])\n",
    "                return s_inverse\n",
    "            else:\n",
    "                return 0"
   ]
  },
  {
   "cell_type": "code",
   "execution_count": 35,
   "metadata": {},
   "outputs": [
    {
     "data": {
      "text/plain": [
       "9646324351"
      ]
     },
     "execution_count": 35,
     "metadata": {},
     "output_type": "execute_result"
    }
   ],
   "source": [
    "Solution().reverse(1534236469)"
   ]
  },
  {
   "cell_type": "code",
   "execution_count": 7,
   "metadata": {},
   "outputs": [
    {
     "data": {
      "text/plain": [
       "1"
      ]
     },
     "execution_count": 7,
     "metadata": {},
     "output_type": "execute_result"
    }
   ],
   "source": [
    "class Solution:\n",
    "    def reverse_better(\n",
    "        self, \n",
    "        x: int) -> int:\n",
    "       \n",
    "        \n",
    "        y, res = abs(x), 0\n",
    "        # 则其数值范围为 [−2^31,  2^31 − 1]\n",
    "        boundry = (1<<31) -1 if x>0 else 1<<31\n",
    "        while y != 0:\n",
    "            res = res*10 +y%10\n",
    "            if res > boundry :\n",
    "                return 0\n",
    "            y //=10\n",
    "        return res if x >0 else -res\n",
    "Solution().reverse_better(10)\n"
   ]
  },
  {
   "cell_type": "code",
   "execution_count": 6,
   "metadata": {},
   "outputs": [
    {
     "data": {
      "text/plain": [
       "1"
      ]
     },
     "execution_count": 6,
     "metadata": {},
     "output_type": "execute_result"
    }
   ],
   "source": [
    "Solution().reverse_better(10)"
   ]
  },
  {
   "cell_type": "code",
   "execution_count": null,
   "metadata": {},
   "outputs": [],
   "source": [
    "-2147483648 < x < 2147483647"
   ]
  }
 ],
 "metadata": {
  "kernelspec": {
   "display_name": "base",
   "language": "python",
   "name": "python3"
  },
  "language_info": {
   "codemirror_mode": {
    "name": "ipython",
    "version": 3
   },
   "file_extension": ".py",
   "mimetype": "text/x-python",
   "name": "python",
   "nbconvert_exporter": "python",
   "pygments_lexer": "ipython3",
   "version": "3.10.9"
  },
  "orig_nbformat": 4
 },
 "nbformat": 4,
 "nbformat_minor": 2
}
