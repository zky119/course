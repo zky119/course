{
 "cells": [
  {
   "attachments": {},
   "cell_type": "markdown",
   "metadata": {},
   "source": [
    "给你一个字符串 s，找到 s 中最长的回文子串。\n",
    "\n",
    "如果字符串的反序与原始字符串相同，则该字符串称为回文字符串。"
   ]
  },
  {
   "cell_type": "code",
   "execution_count": 35,
   "metadata": {},
   "outputs": [],
   "source": [
    "s = \"babad\""
   ]
  },
  {
   "cell_type": "code",
   "execution_count": 43,
   "metadata": {},
   "outputs": [
    {
     "name": "stdout",
     "output_type": "stream",
     "text": [
      "赋值了['b']\n",
      "['b', 'a', 'b', 'a', 'd']\n"
     ]
    }
   ],
   "source": [
    "s = \"babad\"\n",
    "s = list(s)\n",
    "\n",
    "tar = []\n",
    "for i in range(len(s)):\n",
    "    l = []\n",
    "    for i in s:\n",
    "        l.append(i)\n",
    "        p = ''.join(l)\n",
    "        q = ''.join(l[::-1])\n",
    "        # print(p,q)\n",
    "        if p is q and len(tar) < len(l):\n",
    "                tar = l\n",
    "                print(f'赋值了{tar}')\n",
    "    s.pop(0)\n",
    "    # print(l)\n",
    "print(tar)  "
   ]
  },
  {
   "cell_type": "code",
   "execution_count": 24,
   "metadata": {},
   "outputs": [
    {
     "name": "stdout",
     "output_type": "stream",
     "text": [
      "q\n"
     ]
    }
   ],
   "source": [
    "a = 'asa'\n",
    "b = list(a)\n",
    "q = ''.join(b)\n",
    "p = ''.join(b[::-1])\n",
    "if q == p:\n",
    "    print(\"q\")"
   ]
  }
 ],
 "metadata": {
  "kernelspec": {
   "display_name": "base",
   "language": "python",
   "name": "python3"
  },
  "language_info": {
   "name": "python",
   "version": "3.10.9"
  },
  "orig_nbformat": 4
 },
 "nbformat": 4,
 "nbformat_minor": 2
}
