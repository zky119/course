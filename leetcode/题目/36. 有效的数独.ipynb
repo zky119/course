{
 "cells": [
  {
   "cell_type": "code",
   "execution_count": 3,
   "metadata": {},
   "outputs": [],
   "source": [
    "from typing import List\n",
    "class Solution:\n",
    "    def isValidSudoku(self, board: List[List[str]]) -> bool:\n",
    "\n",
    "        row = [[0] * 9 for _ in range(9)]\n",
    "        col = [[0] * 9 for _ in range(9)]\n",
    "        block = [[0] * 9 for _ in range(9)]\n",
    "\n",
    "        for i in range(9):\n",
    "            for j in range(9):\n",
    "                if board[i][j] != '.':\n",
    "                    num = int(board[i][j]) - 1\n",
    "                    b = (i // 3) * 3 + j // 3\n",
    "                    if row[i][num] or col[j][num] or block[b][num]:\n",
    "                        return False\n",
    "                    row[i][num] = col[j][num] = block[b][num] = 1\n",
    "        return True"
   ]
  },
  {
   "cell_type": "code",
   "execution_count": 4,
   "metadata": {},
   "outputs": [
    {
     "data": {
      "text/plain": [
       "True"
      ]
     },
     "execution_count": 4,
     "metadata": {},
     "output_type": "execute_result"
    }
   ],
   "source": [
    "board = [\n",
    "     [\"5\",\"3\",\".\",\".\",\"7\",\".\",\".\",\".\",\".\"]\n",
    "    ,[\"6\",\".\",\".\",\"1\",\"9\",\"5\",\".\",\".\",\".\"]\n",
    "    ,[\".\",\"9\",\"8\",\".\",\".\",\".\",\".\",\"6\",\".\"]\n",
    "    ,[\"8\",\".\",\".\",\".\",\"6\",\".\",\".\",\".\",\"3\"]\n",
    "    ,[\"4\",\".\",\".\",\"8\",\".\",\"3\",\".\",\".\",\"1\"]\n",
    "    ,[\"7\",\".\",\".\",\".\",\"2\",\".\",\".\",\".\",\"6\"]\n",
    "    ,[\".\",\"6\",\".\",\".\",\".\",\".\",\"2\",\"8\",\".\"]\n",
    "    ,[\".\",\".\",\".\",\"4\",\"1\",\"9\",\".\",\".\",\"5\"]\n",
    "    ,[\".\",\".\",\".\",\".\",\"8\",\".\",\".\",\"7\",\"9\"]\n",
    "    ]\n",
    "\n",
    "Solution().isValidSudoku(board)"
   ]
  },
  {
   "cell_type": "code",
   "execution_count": 7,
   "metadata": {},
   "outputs": [
    {
     "name": "stdout",
     "output_type": "stream",
     "text": [
      "4 0\n",
      "2 0\n",
      "6 1\n",
      "5 0\n",
      "0 1\n",
      "8 1\n",
      "4 1\n",
      "8 0\n",
      "7 0\n",
      "5 2\n",
      "7 3\n",
      "5 4\n",
      "2 5\n",
      "3 3\n",
      "7 4\n",
      "2 4\n",
      "0 5\n",
      "6 3\n",
      "1 4\n",
      "5 5\n",
      "5 6\n",
      "1 8\n",
      "7 8\n",
      "3 7\n",
      "0 7\n",
      "8 7\n",
      "4 8\n",
      "7 7\n",
      "6 8\n",
      "8 8\n"
     ]
    }
   ],
   "source": [
    "row = [[0] * 9 for _ in range(9)]\n",
    "col = [[0] * 9 for _ in range(9)]\n",
    "block = [[0] * 9 for _ in range(9)]\n",
    "\n",
    "for i in range(9):\n",
    "    for j in range(9):\n",
    "        if board[i][j] != '.':\n",
    "            num = int(board[i][j]) - 1\n",
    "            \n",
    "            b = (i // 3) * 3 + j // 3\n",
    "            print(num,b)\n",
    "            if row[i][num] or col[j][num] or block[b][num]:\n",
    "                print('False')\n",
    "            row[i][num] = col[j][num] = block[b][num] = 1"
   ]
  }
 ],
 "metadata": {
  "kernelspec": {
   "display_name": "base",
   "language": "python",
   "name": "python3"
  },
  "language_info": {
   "codemirror_mode": {
    "name": "ipython",
    "version": 3
   },
   "file_extension": ".py",
   "mimetype": "text/x-python",
   "name": "python",
   "nbconvert_exporter": "python",
   "pygments_lexer": "ipython3",
   "version": "3.10.9"
  },
  "orig_nbformat": 4
 },
 "nbformat": 4,
 "nbformat_minor": 2
}
