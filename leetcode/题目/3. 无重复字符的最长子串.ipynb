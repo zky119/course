{
 "cells": [
  {
   "cell_type": "code",
   "execution_count": 20,
   "metadata": {},
   "outputs": [
    {
     "data": {
      "text/plain": [
       "'\\n给定一个字符串 s ，请你找出其中不含有重复字符的 最长子串 的长度。\\n'"
      ]
     },
     "execution_count": 20,
     "metadata": {},
     "output_type": "execute_result"
    }
   ],
   "source": [
    "'''\n",
    "给定一个字符串 s ，请你找出其中不含有重复字符的 最长子串 的长度。\n",
    "'''"
   ]
  },
  {
   "cell_type": "code",
   "execution_count": 21,
   "metadata": {},
   "outputs": [],
   "source": [
    "s = \"pwwkewuut\""
   ]
  },
  {
   "cell_type": "code",
   "execution_count": 24,
   "metadata": {},
   "outputs": [
    {
     "name": "stdout",
     "output_type": "stream",
     "text": [
      "['p', 'w']\n",
      "['w', 'k', 'e']\n",
      "['w', 'u']\n",
      "3\n"
     ]
    }
   ],
   "source": [
    "b = []\n",
    "chang = 0\n",
    "for i in s:\n",
    "    if i not in b:\n",
    "        b.append(i)\n",
    "    else:\n",
    "        # print(len(b))\n",
    "        if len(b)>chang:\n",
    "            chang = len(b)\n",
    "        print(b)\n",
    "        b.clear()\n",
    "        b.append(i)\n",
    "print(chang)"
   ]
  },
  {
   "cell_type": "code",
   "execution_count": null,
   "metadata": {},
   "outputs": [],
   "source": [
    "# b = []\n",
    "chang = 0\n",
    "for i in s:\n",
    "    for j in s:\n",
    "        b = []\n",
    "        if j not in b:\n",
    "            b.append(i)\n",
    "        else:\n",
    "            chang = len(b)\n",
    "            b.clear()\n",
    "    "
   ]
  },
  {
   "cell_type": "code",
   "execution_count": 1,
   "metadata": {},
   "outputs": [
    {
     "data": {
      "text/plain": [
       "{1, 2}"
      ]
     },
     "execution_count": 1,
     "metadata": {},
     "output_type": "execute_result"
    }
   ],
   "source": [
    "set1 = {1, 2, 3, 4}\n",
    "set2 = {3, 4, 5, 6}\n",
    "diff_set = set1 - set2\n",
    "diff_set"
   ]
  },
  {
   "cell_type": "code",
   "execution_count": 9,
   "metadata": {},
   "outputs": [],
   "source": [
    " def lengthOfLongestSubstring(s):\n",
    "        # 哈希集合，记录每个字符是否出现过\n",
    "        occ = set()\n",
    "        n = len(s)\n",
    "        # 右指针，初始值为 -1，相当于我们在字符串的左边界的左侧，还没有开始移动\n",
    "        rk, ans = -1, 0\n",
    "        for i in range(n):\n",
    "            if i != 0:\n",
    "                # 左指针向右移动一格，移除一个字符\n",
    "                occ.remove(s[i - 1])\n",
    "            while rk + 1 < n and s[rk + 1] not in occ:\n",
    "                # 不断地移动右指针\n",
    "                occ.add(s[rk + 1])\n",
    "                rk += 1\n",
    "            # 第 i 到 rk 个字符是一个极长的无重复字符子串\n",
    "            ans = max(ans, rk - i + 1)\n",
    "        return ans\n"
   ]
  },
  {
   "cell_type": "code",
   "execution_count": 6,
   "metadata": {},
   "outputs": [
    {
     "data": {
      "text/plain": [
       "8"
      ]
     },
     "execution_count": 6,
     "metadata": {},
     "output_type": "execute_result"
    }
   ],
   "source": [
    "lengthOfLongestSubstring('avsrabfgq')"
   ]
  },
  {
   "cell_type": "code",
   "execution_count": 12,
   "metadata": {},
   "outputs": [
    {
     "name": "stdout",
     "output_type": "stream",
     "text": [
      "前rk为  -1\n",
      "{'a'}\n",
      "后rk为  0\n",
      "前rk为  0\n",
      "{'a', 'b'}\n",
      "后rk为  1\n",
      "前rk为  1\n",
      "{'a', 'b', 'c'}\n",
      "后rk为  2\n",
      "前rk为  2\n",
      "{'a', 'b', 'c'}\n",
      "后rk为  3\n",
      "前rk为  3\n",
      "{'a', 'b', 'c'}\n",
      "后rk为  4\n",
      "前rk为  4\n",
      "{'a', 'b', 'c'}\n",
      "后rk为  5\n",
      "前rk为  5\n",
      "{'b', 'c'}\n",
      "后rk为  6\n",
      "前rk为  6\n",
      "{'b'}\n",
      "后rk为  7\n",
      "3\n"
     ]
    }
   ],
   "source": [
    "s = \"abcabcbb\"\n",
    "occ = set()\n",
    "n = len(s)\n",
    "# 右指针，初始值为 -1，相当于我们在字符串的左边界的左侧，还没有开始移动\n",
    "rk, ans = -1, 0\n",
    "for i in range(n):\n",
    "    if i != 0:\n",
    "        # 左指针向右移动一格，移除一个字符\n",
    "        occ.remove(s[i - 1])\n",
    "    while rk + 1 < n and s[rk + 1] not in occ:\n",
    "        print('前rk为 ',rk)\n",
    "        # 不断地移动右指针\n",
    "        occ.add(s[rk + 1])\n",
    "        print(occ)\n",
    "        rk += 1\n",
    "        print('后rk为 ',rk)\n",
    "    # 第 i 到 rk 个字符是一个极长的无重复字符子串\n",
    "    ans = max(ans, rk - i + 1)\n",
    "print(ans)"
   ]
  },
  {
   "cell_type": "code",
   "execution_count": 16,
   "metadata": {},
   "outputs": [
    {
     "name": "stdout",
     "output_type": "stream",
     "text": [
      "3\n"
     ]
    }
   ],
   "source": [
    "s = \"abcabcbb\"\n",
    "occ = set()\n",
    "rk,ans = -1,0\n",
    "n = len(s)\n",
    "\n",
    "for i in range(len(s)):\n",
    "    if i != 0:\n",
    "        pass\n",
    "    while rk + 1 < n and s[rk + 1] not in occ:\n",
    "        occ.add(s[rk+1])\n",
    "        rk += 1\n",
    "    ans = max(ans,rk-i+1)\n",
    "print(ans)"
   ]
  },
  {
   "cell_type": "code",
   "execution_count": null,
   "metadata": {},
   "outputs": [],
   "source": []
  }
 ],
 "metadata": {
  "kernelspec": {
   "display_name": "base",
   "language": "python",
   "name": "python3"
  },
  "language_info": {
   "codemirror_mode": {
    "name": "ipython",
    "version": 3
   },
   "file_extension": ".py",
   "mimetype": "text/x-python",
   "name": "python",
   "nbconvert_exporter": "python",
   "pygments_lexer": "ipython3",
   "version": "3.10.9"
  },
  "orig_nbformat": 4
 },
 "nbformat": 4,
 "nbformat_minor": 2
}
