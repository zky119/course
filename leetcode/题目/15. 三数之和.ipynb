{
 "cells": [
  {
   "cell_type": "markdown",
   "metadata": {},
   "source": [
    "给你一个整数数组 nums ，判断是否存在三元组 [nums[i], nums[j], nums[k]] 满足 i != j、i != k 且 j != k ，同时还满足 nums[i] + nums[j] + nums[k] == 0 。请\n",
    "\n",
    "你返回所有和为 0 且不重复的三元组。\n",
    "\n",
    "注意：答案中不可以包含重复的三元组。\n"
   ]
  },
  {
   "cell_type": "code",
   "execution_count": 41,
   "metadata": {},
   "outputs": [
    {
     "name": "stdout",
     "output_type": "stream",
     "text": [
      "[(-1, 0, 1), (-1, -1, 2)]\n"
     ]
    }
   ],
   "source": [
    "# 自己写的，时间超了\n",
    "nums = [-1,0,1,2,-1,-4]\n",
    "list_ = []\n",
    "for i in range(len(nums)):\n",
    "    for j in range(len(nums)):\n",
    "        if j == i:\n",
    "            break\n",
    "        for k in range(len(nums)):\n",
    "            if k == i or k == j:\n",
    "                break\n",
    "            if nums[i]+nums[j]+nums[k] == 0 and i!=j and j!=k and i!=k:\n",
    "                list_.append([nums[i],nums[j],nums[k]]) \n",
    "a = []\n",
    "for i in list_:\n",
    "    i = tuple(sorted(i))\n",
    "    a.append(i)\n",
    "b = set()\n",
    "for i in a:\n",
    "    b.add(i)\n",
    "c = []\n",
    "for i in b:\n",
    "    c.append(i)\n",
    "print(c)"
   ]
  },
  {
   "cell_type": "code",
   "execution_count": 31,
   "metadata": {},
   "outputs": [],
   "source": [
    "# 题解给的，双指针，向内聚合\n",
    "from typing import List\n",
    "\n",
    "class Solution:\n",
    "    def threeSum(self, nums: List[int]) -> List[List[int]]:\n",
    "        n = len(nums)\n",
    "        res = []\n",
    "        if (not nums or n <3):\n",
    "            return []\n",
    "        nums.sort()\n",
    "        res = []\n",
    "        for i in range(n):\n",
    "            if nums[i]>0:\n",
    "                return res \n",
    "            if i>0 and nums[i]==nums[i-1]:\n",
    "                continue\n",
    "            L = i + 1\n",
    "            R = n - 1\n",
    "            while L<R:\n",
    "                if nums[i]+nums[L]+nums[R] == 0:\n",
    "                    res.append([nums[i],nums[L],nums[R]])\n",
    "                    while L<R and nums[L]==nums[L+1]:\n",
    "                        L = L + 1\n",
    "                    while L<R and nums[R]==nums[R-1]:\n",
    "                        R = R -1\n",
    "                    L = L + 1\n",
    "                    R = R - 1\n",
    "                elif nums[i]+nums[L]+nums[R] > 0:\n",
    "                    R = R - 1\n",
    "                else:\n",
    "                    L = L + 1\n",
    "        return res"
   ]
  },
  {
   "cell_type": "code",
   "execution_count": 32,
   "metadata": {},
   "outputs": [
    {
     "data": {
      "text/plain": [
       "[[-1, -1, 2], [-1, 0, 1]]"
      ]
     },
     "execution_count": 32,
     "metadata": {},
     "output_type": "execute_result"
    }
   ],
   "source": [
    "Solution().threeSum([-1,0,1,2,-1,-4])"
   ]
  }
 ],
 "metadata": {
  "kernelspec": {
   "display_name": "base",
   "language": "python",
   "name": "python3"
  },
  "language_info": {
   "codemirror_mode": {
    "name": "ipython",
    "version": 3
   },
   "file_extension": ".py",
   "mimetype": "text/x-python",
   "name": "python",
   "nbconvert_exporter": "python",
   "pygments_lexer": "ipython3",
   "version": "3.10.9"
  },
  "orig_nbformat": 4
 },
 "nbformat": 4,
 "nbformat_minor": 2
}
