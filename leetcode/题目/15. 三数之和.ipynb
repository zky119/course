{
 "cells": [
  {
   "cell_type": "markdown",
   "metadata": {},
   "source": [
    "给你一个整数数组 nums ，判断是否存在三元组 [nums[i], nums[j], nums[k]] 满足 i != j、i != k 且 j != k ，同时还满足 nums[i] + nums[j] + nums[k] == 0 。请\n",
    "\n",
    "你返回所有和为 0 且不重复的三元组。\n",
    "\n",
    "注意：答案中不可以包含重复的三元组。\n"
   ]
  },
  {
   "cell_type": "code",
   "execution_count": 3,
   "metadata": {},
   "outputs": [
    {
     "name": "stdout",
     "output_type": "stream",
     "text": [
      "-1 0 1\n",
      "-1 0 1\n",
      "-1 1 0\n",
      "-1 1 0\n",
      "0 -1 1\n",
      "0 -1 1\n",
      "0 0 0\n",
      "1 -1 0\n",
      "1 -1 0\n"
     ]
    }
   ],
   "source": [
    "nums = [-1,0,1,2,-1,-4]\n",
    "for i in nums:\n",
    "    for j in nums[1:]:\n",
    "        for k in nums[2:]:\n",
    "            if nums[i]+nums[j]+nums[k] == 0 and :\n",
    "                print(nums[i],nums[j],nums[k])\n"
   ]
  },
  {
   "cell_type": "code",
   "execution_count": 4,
   "metadata": {},
   "outputs": [
    {
     "ename": "AttributeError",
     "evalue": "'list' object has no attribute 'idx'",
     "output_type": "error",
     "traceback": [
      "\u001b[1;31m---------------------------------------------------------------------------\u001b[0m",
      "\u001b[1;31mAttributeError\u001b[0m                            Traceback (most recent call last)",
      "Cell \u001b[1;32mIn[4], line 2\u001b[0m\n\u001b[0;32m      1\u001b[0m nums \u001b[39m=\u001b[39m [\u001b[39m-\u001b[39m\u001b[39m1\u001b[39m,\u001b[39m0\u001b[39m,\u001b[39m1\u001b[39m,\u001b[39m2\u001b[39m,\u001b[39m-\u001b[39m\u001b[39m1\u001b[39m,\u001b[39m-\u001b[39m\u001b[39m4\u001b[39m]\n\u001b[1;32m----> 2\u001b[0m nums\u001b[39m.\u001b[39;49midx(\u001b[39m-\u001b[39m\u001b[39m1\u001b[39m)\n",
      "\u001b[1;31mAttributeError\u001b[0m: 'list' object has no attribute 'idx'"
     ]
    }
   ],
   "source": [
    "nums = [-1,0,1,2,-1,-4]\n",
    "nums.idx(-1)"
   ]
  },
  {
   "cell_type": "code",
   "execution_count": 25,
   "metadata": {},
   "outputs": [
    {
     "name": "stdout",
     "output_type": "stream",
     "text": [
      "[[-1, 2, -1], [-1, -1, 2], [0, -1, 1], [0, 1, -1], [0, 1, -1], [0, -1, 1], [1, -1, 0], [1, 0, -1], [1, 0, -1], [1, -1, 0], [2, -1, -1], [2, -1, -1], [-1, -1, 2], [-1, 0, 1], [-1, 1, 0], [-1, 2, -1]]\n"
     ]
    }
   ],
   "source": [
    "nums = [-1,0,1,2,-1,-4]\n",
    "list_ = []\n",
    "for i in range(len(nums)):\n",
    "    for j in range(len(nums)):\n",
    "        for k in range(len(nums)):\n",
    "            if nums[i]+nums[j]+nums[k] == 0 and i!=j and j!=k and i!=k:\n",
    "                # print(nums[i],nums[j+1],nums[k+2])\n",
    "                # print(f'索引{i},{j+1},{k+2}')\n",
    "                list_.append([nums[i],nums[j],nums[k]]) \n",
    "a = []\n",
    "for i in list_:\n",
    "    if sorted(i) == a:\n",
    "        list_.pop(0)\n",
    "    else:\n",
    "        a = i\n",
    "print(list_)"
   ]
  },
  {
   "cell_type": "code",
   "execution_count": 23,
   "metadata": {},
   "outputs": [
    {
     "name": "stdout",
     "output_type": "stream",
     "text": [
      "{1, 2} {1, 2}\n"
     ]
    }
   ],
   "source": [
    "list1 = [1, 2, 1]\n",
    "list2 = [2, 1, 1]\n",
    "\n",
    "set1 = set(list1)\n",
    "set2 = set(list2)\n",
    "\n",
    "print(set1,set2)"
   ]
  }
 ],
 "metadata": {
  "kernelspec": {
   "display_name": "base",
   "language": "python",
   "name": "python3"
  },
  "language_info": {
   "codemirror_mode": {
    "name": "ipython",
    "version": 3
   },
   "file_extension": ".py",
   "mimetype": "text/x-python",
   "name": "python",
   "nbconvert_exporter": "python",
   "pygments_lexer": "ipython3",
   "version": "3.10.9"
  },
  "orig_nbformat": 4
 },
 "nbformat": 4,
 "nbformat_minor": 2
}
