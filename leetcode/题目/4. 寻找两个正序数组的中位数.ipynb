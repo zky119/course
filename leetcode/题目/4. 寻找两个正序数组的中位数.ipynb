{
 "cells": [
  {
   "cell_type": "code",
   "execution_count": 8,
   "metadata": {},
   "outputs": [
    {
     "data": {
      "text/plain": [
       "2.5"
      ]
     },
     "execution_count": 8,
     "metadata": {},
     "output_type": "execute_result"
    }
   ],
   "source": [
    "a = [1,2,3]\n",
    "b = [1,2.5,3]\n",
    "c = sorted(a+b)\n",
    "if len(c) % 2 ==0:\n",
    "    return (c[len(c)//2]+c[len(c)//2+1])/2\n",
    "else:\n",
    "    return c[len(c)//2]"
   ]
  },
  {
   "cell_type": "code",
   "execution_count": 20,
   "metadata": {},
   "outputs": [
    {
     "name": "stdout",
     "output_type": "stream",
     "text": [
      "2.5\n"
     ]
    }
   ],
   "source": [
    "a = [1,2]\n",
    "b = [3,4]\n",
    "c = sorted(a+b)\n",
    "# print(c)\n",
    "if len(c) % 2 ==0:\n",
    "    print((c[len(c)//2]+c[len(c)//2-1])/2)\n",
    "else:\n",
    "    # print(len(c)//2+1)\n",
    "    print(c[len(c)//2])"
   ]
  },
  {
   "cell_type": "code",
   "execution_count": 22,
   "metadata": {},
   "outputs": [
    {
     "data": {
      "text/plain": [
       "2.5"
      ]
     },
     "execution_count": 22,
     "metadata": {},
     "output_type": "execute_result"
    }
   ],
   "source": [
    "def findMedianSortedArrays(nums1, nums2):\n",
    "        \"\"\"\n",
    "        :type nums1: List[int]\n",
    "        :type nums2: List[int]\n",
    "        :rtype: float\n",
    "        \"\"\"\n",
    "        c = sorted(nums1+nums2)\n",
    "        if len(c) % 2 ==0:\n",
    "            d =(c[len(c)//2-1] + c[len(c)//2]) / 2\n",
    "            return d\n",
    "        else:\n",
    "            return c[len(c)//2]\n",
    "\n",
    "findMedianSortedArrays(a,b)"
   ]
  }
 ],
 "metadata": {
  "kernelspec": {
   "display_name": "base",
   "language": "python",
   "name": "python3"
  },
  "language_info": {
   "codemirror_mode": {
    "name": "ipython",
    "version": 3
   },
   "file_extension": ".py",
   "mimetype": "text/x-python",
   "name": "python",
   "nbconvert_exporter": "python",
   "pygments_lexer": "ipython3",
   "version": "3.10.9"
  },
  "orig_nbformat": 4
 },
 "nbformat": 4,
 "nbformat_minor": 2
}
