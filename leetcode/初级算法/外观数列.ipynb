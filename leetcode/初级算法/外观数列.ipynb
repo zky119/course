{
 "cells": [
  {
   "cell_type": "code",
   "execution_count": 13,
   "metadata": {},
   "outputs": [],
   "source": [
    "class Solution:\n",
    "    def countAndSay(self, n: int) -> str:\n",
    "        if n == 1:\n",
    "            return 1\n",
    "        n = str(n)\n",
    "        # a = 1\n",
    "        shuliang = {}\n",
    "        shuzi = []\n",
    "        # while 1:\n",
    "        for i in range(len(n)):\n",
    "            if n[i] == '1':\n",
    "                shuzi.append(1)\n",
    "            if n[i] == '2':\n",
    "                shuzi.append(2)\n",
    "            if n[i] == '3':\n",
    "                shuzi.append(3)\n",
    "            if n[i] == '4':\n",
    "                shuzi.append(4)\n",
    "            if n[i] == '5':\n",
    "                shuzi.append(5)\n",
    "            if n[i] == '6':\n",
    "                shuzi.append(6)\n",
    "            if n[i] == '7':\n",
    "                shuzi.append(7)\n",
    "            if n[i] == '8':\n",
    "                shuzi.append(8)\n",
    "            if n[i] == '9':\n",
    "                shuzi.append(9)\n",
    "        # return shuzi\n",
    "            count = 1\n",
    "            c = ''\n",
    "            for i in range(len(shuzi)):\n",
    "                \n",
    "                if shuzi[i] == shuzi[i+1]\n",
    "                    count = count +1\n",
    "                c = c + str(count) + str(shuzi[i])\n",
    "\n"
   ]
  },
  {
   "cell_type": "code",
   "execution_count": 14,
   "metadata": {},
   "outputs": [
    {
     "data": {
      "text/plain": [
       "{0: 1, 1: 2, 2: 1, 3: 1}"
      ]
     },
     "execution_count": 14,
     "metadata": {},
     "output_type": "execute_result"
    }
   ],
   "source": [
    "Solution().countAndSay(1211)"
   ]
  },
  {
   "cell_type": "code",
   "execution_count": 38,
   "metadata": {},
   "outputs": [
    {
     "name": "stdout",
     "output_type": "stream",
     "text": [
      "121222\n"
     ]
    }
   ],
   "source": [
    "shuzi = [1,1,1,2,1]\n",
    "\n",
    "\n",
    "zong = ''\n",
    "for i in range(len(shuzi)-1):\n",
    "    linshi = ''     # 初始化 d              \n",
    "    count = 1  # 初始化 count 为 1\n",
    "\n",
    "    if shuzi[i] == shuzi[i+1]:            # 如果当前位置和下一位置相等\n",
    "        count = count +1                  # 那就count 加 1\n",
    "        linshi =  str(count) + str(shuzi[i])          \n",
    "    else:                                 # 否则\n",
    "        linshi =  str(count) + str(shuzi[i])               \n",
    "\n",
    "    # d =  str(count) + str(shuzi[i])\n",
    "    # print(d)\n",
    "    if linshi[-1:] != zong[-1:]:\n",
    "        zong = zong + d\n",
    "    else:\n",
    "        # d = int(c[-2:])+10\n",
    "        # zong[-2:]\n",
    "        xin_d = int(zong[-2:])+10\n",
    "        zong = zong[:-2] + str(xin_d)\n",
    "print(zong)"
   ]
  },
  {
   "cell_type": "code",
   "execution_count": 35,
   "metadata": {},
   "outputs": [
    {
     "data": {
      "text/plain": [
       "'3'"
      ]
     },
     "execution_count": 35,
     "metadata": {},
     "output_type": "execute_result"
    }
   ],
   "source": [
    "c = '123'\n",
    "c[-1:]"
   ]
  },
  {
   "cell_type": "code",
   "execution_count": 44,
   "metadata": {},
   "outputs": [
    {
     "name": "stdout",
     "output_type": "stream",
     "text": [
      "['21', '11', '12', '21']\n"
     ]
    }
   ],
   "source": [
    "shuzi = '11211'\n",
    "lin = ''\n",
    "zong = []\n",
    "for i in range(len(shuzi)-1):\n",
    "    count = 1\n",
    "    # for j i\n",
    "    if shuzi[i] == shuzi[i+1]:\n",
    "        count += 1\n",
    "        lin = str(count) + shuzi[i]\n",
    "        \n",
    "    else:\n",
    "        lin = str(count) + shuzi[i]\n",
    "    zong.append(lin)\n",
    "for j in range(len(zong)):\n",
    "    if zong[j][-1] =zong \n",
    "print(zong)"
   ]
  },
  {
   "cell_type": "code",
   "execution_count": null,
   "metadata": {},
   "outputs": [],
   "source": [
    "shuzi = '11211'\n",
    "for i in range(len(shuzi)-1):\n",
    "    while shuzi[i] != shuzi[i+1]:\n",
    "        count+\n",
    "\n",
    "        "
   ]
  },
  {
   "cell_type": "code",
   "execution_count": 2,
   "metadata": {},
   "outputs": [
    {
     "name": "stdout",
     "output_type": "stream",
     "text": [
      "411213\n"
     ]
    }
   ],
   "source": [
    "class Solution():\n",
    "\n",
    "    def get_new(self, pre_str):\n",
    "        cur_cnt = 0\n",
    "        # 逐个遍历上一个字符串，然后统计重复的字符，再拼接到新字符中\n",
    "        new_str = ''\n",
    "        cur_c = pre_str[0]\n",
    "        for x in pre_str:\n",
    "            if x == cur_c:\n",
    "                cur_cnt += 1     #累加出现次数\n",
    "                continue\n",
    "            # 遇到新字符则把更新new_str，拼接：出现次数与前一个字符的数字,然后进入开始新的统计\n",
    "            new_str = new_str + str(cur_cnt) + cur_c\n",
    "            cur_c = x\n",
    "            cur_cnt = 1\n",
    "        # 注意最后一个元素或者说只有一个元素的情况做特殊处理\n",
    "        new_str = new_str + str(cur_cnt) + cur_c\n",
    "        # print(new_str)\n",
    "        return new_str\n",
    "\n",
    "    def countAndSay(self, n: int) -> str:\n",
    "        if n == 1:\n",
    "            return '1'\n",
    "        else:\n",
    "            get_pre_str = self.countAndSay(n - 1)\n",
    "            new_str = self.get_new(get_pre_str)\n",
    "            return new_str\n",
    "\n",
    "\n",
    "target = 10\n",
    "res = Solution().get_new('111123')\n",
    "print(res)"
   ]
  },
  {
   "cell_type": "code",
   "execution_count": 6,
   "metadata": {},
   "outputs": [
    {
     "name": "stdout",
     "output_type": "stream",
     "text": [
      "0\n",
      "1\n",
      "2\n",
      "3\n",
      "4\n",
      "6\n",
      "7\n",
      "8\n",
      "9\n"
     ]
    }
   ],
   "source": [
    "for i in range(10):\n",
    "    if i == 5:\n",
    "        continue\n",
    "    print(i)    \n"
   ]
  }
 ],
 "metadata": {
  "kernelspec": {
   "display_name": "base",
   "language": "python",
   "name": "python3"
  },
  "language_info": {
   "codemirror_mode": {
    "name": "ipython",
    "version": 3
   },
   "file_extension": ".py",
   "mimetype": "text/x-python",
   "name": "python",
   "nbconvert_exporter": "python",
   "pygments_lexer": "ipython3",
   "version": "3.10.9"
  },
  "orig_nbformat": 4
 },
 "nbformat": 4,
 "nbformat_minor": 2
}
