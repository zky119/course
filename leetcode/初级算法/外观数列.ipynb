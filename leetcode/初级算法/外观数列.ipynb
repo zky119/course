{
 "cells": [
  {
   "cell_type": "code",
   "execution_count": 2,
   "metadata": {},
   "outputs": [
    {
     "name": "stdout",
     "output_type": "stream",
     "text": [
      "411213\n"
     ]
    }
   ],
   "source": [
    "class Solution():\n",
    "\n",
    "    def get_new(self, pre_str):\n",
    "        cur_cnt = 0\n",
    "        # 逐个遍历上一个字符串，然后统计重复的字符，再拼接到新字符中\n",
    "        new_str = ''\n",
    "        cur_c = pre_str[0]\n",
    "        for x in pre_str:\n",
    "            if x == cur_c:\n",
    "                cur_cnt += 1     #累加出现次数\n",
    "                continue\n",
    "            # 遇到新字符则把更新new_str，拼接：出现次数与前一个字符的数字,然后进入开始新的统计\n",
    "            new_str = new_str + str(cur_cnt) + cur_c\n",
    "            cur_c = x\n",
    "            cur_cnt = 1\n",
    "        # 注意最后一个元素或者说只有一个元素的情况做特殊处理\n",
    "        new_str = new_str + str(cur_cnt) + cur_c\n",
    "        # print(new_str)\n",
    "        return new_str\n",
    "\n",
    "    def countAndSay(self, n: int) -> str:\n",
    "        if n == 1:\n",
    "            return '1'\n",
    "        else:\n",
    "            get_pre_str = self.countAndSay(n - 1)\n",
    "            new_str = self.get_new(get_pre_str)\n",
    "            return new_str\n",
    "\n",
    "\n",
    "target = 10\n",
    "res = Solution().get_new('111123')\n",
    "print(res)"
   ]
  },
  {
   "cell_type": "code",
   "execution_count": null,
   "metadata": {},
   "outputs": [],
   "source": []
  }
 ],
 "metadata": {
  "kernelspec": {
   "display_name": "base",
   "language": "python",
   "name": "python3"
  },
  "language_info": {
   "codemirror_mode": {
    "name": "ipython",
    "version": 3
   },
   "file_extension": ".py",
   "mimetype": "text/x-python",
   "name": "python",
   "nbconvert_exporter": "python",
   "pygments_lexer": "ipython3",
   "version": "3.10.9"
  },
  "orig_nbformat": 4
 },
 "nbformat": 4,
 "nbformat_minor": 2
}
