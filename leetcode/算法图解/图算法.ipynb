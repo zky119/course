{
 "cells": [
  {
   "cell_type": "code",
   "execution_count": 2,
   "metadata": {},
   "outputs": [],
   "source": [
    "import heapq\n",
    "\n",
    "def dijkstra(graph, start):\n",
    "    \"\"\"\n",
    "    使用狄克斯特拉算法计算最短路径\n",
    "\n",
    "    Args:\n",
    "        graph: 有向加权图，使用邻接表表示\n",
    "        start: 起始节点\n",
    "\n",
    "    Returns:\n",
    "        shortest_paths: 以字典形式返回起始节点到所有节点的最短路径和距离\n",
    "    \"\"\"\n",
    "    shortest_paths = {}\n",
    "    visited = set()\n",
    "    heap = [(0, start)]\n",
    "\n",
    "    while heap:\n",
    "        (distance, current_node) = heapq.heappop(heap)\n",
    "\n",
    "        if current_node in visited:\n",
    "            continue\n",
    "\n",
    "        visited.add(current_node)\n",
    "        shortest_paths[current_node] = distance\n",
    "\n",
    "        for neighbor, weight in graph[current_node].items():\n",
    "            if neighbor not in visited:\n",
    "                heapq.heappush(heap, (distance + weight, neighbor))\n",
    "\n",
    "    return shortest_paths\n"
   ]
  },
  {
   "cell_type": "code",
   "execution_count": 3,
   "metadata": {},
   "outputs": [
    {
     "name": "stdout",
     "output_type": "stream",
     "text": [
      "7\n"
     ]
    }
   ],
   "source": [
    "graph = {\n",
    "    'A': {'B': 5, 'D': 9, 'E': 2},\n",
    "    'B': {'C': 2},\n",
    "    'C': {},\n",
    "    'D': {'C': 3},\n",
    "    'E': {'B': 4}\n",
    "}\n",
    "shortest_paths = dijkstra(graph, 'A')\n",
    "print(shortest_paths['C'])  # 输出起点到终点的最短距离\n"
   ]
  }
 ],
 "metadata": {
  "kernelspec": {
   "display_name": "base",
   "language": "python",
   "name": "python3"
  },
  "language_info": {
   "codemirror_mode": {
    "name": "ipython",
    "version": 3
   },
   "file_extension": ".py",
   "mimetype": "text/x-python",
   "name": "python",
   "nbconvert_exporter": "python",
   "pygments_lexer": "ipython3",
   "version": "3.10.9"
  },
  "orig_nbformat": 4
 },
 "nbformat": 4,
 "nbformat_minor": 2
}
