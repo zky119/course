{
 "cells": [
  {
   "cell_type": "code",
   "execution_count": 7,
   "metadata": {},
   "outputs": [],
   "source": [
    "string = \"\"\"<a href=\"https://www.163.com/dy/article/HJ9B3MVP0531M1CO.html\">美团筹备出境：首站试点中国香港</a>\n",
    "<a href=\"https://www.163.com/dy/article/HJ98QANL05504DPG.html\">乌军抱怨“星链”常中断，甚至在激战时</a>\n",
    "<a href=\"https://www.163.com/tech/article/HJA5P9KT00097U7S.html\">iPhone 14车祸检测功能闹乌龙，坐过山车会持续报警</a>\n",
    "<a href=\"https://www.163.com/dy/article/HJA8MPLD05198CJN.html\">腾讯收购计划搁浅黑鲨手机半数岗位被裁撤</a>\n",
    "... 略 ...\n",
    "<a href=\"https://www.163.com/tech/article/HJ8D2SIC00097U7T.html\">传印度主动提出降低英国汽车进口关税，特斯拉还要等等</a>\n",
    "<a href=\"https://www.163.com/dy/article/HJ85E76L0530KP1K.html\">国产电动车海外卖爆，前8月超半数销欧洲</a>\n",
    "<a href=\"https://www.163.com/dy/article/HJ7V6TAM05319LDA.html\">火速裁员，扩张急刹车，虾皮离盈利还有多久</a>\n",
    "\"\"\""
   ]
  },
  {
   "cell_type": "code",
   "execution_count": 11,
   "metadata": {},
   "outputs": [
    {
     "name": "stdout",
     "output_type": "stream",
     "text": [
      "美团筹备出境：首站试点中国香港\n",
      "乌军抱怨“星链”常中断，甚至在激战时\n",
      "iPhone 14车祸检测功能闹乌龙，坐过山车会持续报警\n",
      "腾讯收购计划搁浅黑鲨手机半数岗位被裁撤\n",
      "传印度主动提出降低英国汽车进口关税，特斯拉还要等等\n",
      "国产电动车海外卖爆，前8月超半数销欧洲\n",
      "火速裁员，扩张急刹车，虾皮离盈利还有多久\n"
     ]
    }
   ],
   "source": [
    "a = string.split('>')\n",
    "for i in range(1,len(a),2):\n",
    "    print(a[i].replace('</a',''))"
   ]
  },
  {
   "cell_type": "code",
   "execution_count": null,
   "metadata": {},
   "outputs": [],
   "source": []
  }
 ],
 "metadata": {
  "kernelspec": {
   "display_name": "base",
   "language": "python",
   "name": "python3"
  },
  "language_info": {
   "codemirror_mode": {
    "name": "ipython",
    "version": 3
   },
   "file_extension": ".py",
   "mimetype": "text/x-python",
   "name": "python",
   "nbconvert_exporter": "python",
   "pygments_lexer": "ipython3",
   "version": "3.10.9"
  },
  "orig_nbformat": 4
 },
 "nbformat": 4,
 "nbformat_minor": 2
}
