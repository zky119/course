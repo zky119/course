{
 "cells": [
  {
   "cell_type": "code",
   "execution_count": 7,
   "metadata": {},
   "outputs": [],
   "source": [
    "string = \"\"\"<a href=\"https://www.163.com/dy/article/HJ9B3MVP0531M1CO.html\">美团筹备出境：首站试点中国香港</a>\n",
    "<a href=\"https://www.163.com/dy/article/HJ98QANL05504DPG.html\">乌军抱怨“星链”常中断，甚至在激战时</a>\n",
    "<a href=\"https://www.163.com/tech/article/HJA5P9KT00097U7S.html\">iPhone 14车祸检测功能闹乌龙，坐过山车会持续报警</a>\n",
    "<a href=\"https://www.163.com/dy/article/HJA8MPLD05198CJN.html\">腾讯收购计划搁浅黑鲨手机半数岗位被裁撤</a>\n",
    "... 略 ...\n",
    "<a href=\"https://www.163.com/tech/article/HJ8D2SIC00097U7T.html\">传印度主动提出降低英国汽车进口关税，特斯拉还要等等</a>\n",
    "<a href=\"https://www.163.com/dy/article/HJ85E76L0530KP1K.html\">国产电动车海外卖爆，前8月超半数销欧洲</a>\n",
    "<a href=\"https://www.163.com/dy/article/HJ7V6TAM05319LDA.html\">火速裁员，扩张急刹车，虾皮离盈利还有多久</a>\n",
    "\"\"\""
   ]
  },
  {
   "cell_type": "code",
   "execution_count": 11,
   "metadata": {},
   "outputs": [
    {
     "name": "stdout",
     "output_type": "stream",
     "text": [
      "美团筹备出境：首站试点中国香港\n",
      "乌军抱怨“星链”常中断，甚至在激战时\n",
      "iPhone 14车祸检测功能闹乌龙，坐过山车会持续报警\n",
      "腾讯收购计划搁浅黑鲨手机半数岗位被裁撤\n",
      "传印度主动提出降低英国汽车进口关税，特斯拉还要等等\n",
      "国产电动车海外卖爆，前8月超半数销欧洲\n",
      "火速裁员，扩张急刹车，虾皮离盈利还有多久\n"
     ]
    }
   ],
   "source": [
    "a = string.split('>')\n",
    "for i in range(1,len(a),2):\n",
    "    print(a[i].replace('</a',''))"
   ]
  },
  {
   "cell_type": "code",
   "execution_count": 1,
   "metadata": {},
   "outputs": [
    {
     "name": "stdout",
     "output_type": "stream",
     "text": [
      "                            <span class=\"title\">肖申克的救赎</span>\n",
      "\n",
      "                                    <span class=\"title\">&nbsp;/&nbsp;The Shawshank Redemption</span>\n",
      "\n",
      "                            <span class=\"title\">霸王别姬</span>\n",
      "\n",
      "                            <span class=\"title\">阿甘正传</span>\n",
      "\n",
      "                                    <span class=\"title\">&nbsp;/&nbsp;Forrest Gump</span>\n",
      "\n",
      "                            <span class=\"title\">泰坦尼克号</span>\n",
      "\n",
      "                                    <span class=\"title\">&nbsp;/&nbsp;Titanic</span>\n",
      "\n",
      "                            <span class=\"title\">这个杀手不太冷</span>\n",
      "\n",
      "                                    <span class=\"title\">&nbsp;/&nbsp;Léon</span>\n",
      "\n",
      "                            <span class=\"title\">美丽人生</span>\n",
      "\n",
      "                                    <span class=\"title\">&nbsp;/&nbsp;La vita è bella</span>\n",
      "\n",
      "                            <span class=\"title\">千与千寻</span>\n",
      "\n",
      "                                    <span class=\"title\">&nbsp;/&nbsp;千と千尋の神隠し</span>\n",
      "\n",
      "                            <span class=\"title\">辛德勒的名单</span>\n",
      "\n",
      "                                    <span class=\"title\">&nbsp;/&nbsp;Schindler's List</span>\n",
      "\n",
      "                            <span class=\"title\">星际穿越</span>\n",
      "\n",
      "                                    <span class=\"title\">&nbsp;/&nbsp;Interstellar</span>\n",
      "\n",
      "                            <span class=\"title\">盗梦空间</span>\n",
      "\n",
      "                                    <span class=\"title\">&nbsp;/&nbsp;Inception</span>\n",
      "\n",
      "                            <span class=\"title\">楚门的世界</span>\n",
      "\n",
      "                                    <span class=\"title\">&nbsp;/&nbsp;The Truman Show</span>\n",
      "\n",
      "                            <span class=\"title\">忠犬八公的故事</span>\n",
      "\n",
      "                                    <span class=\"title\">&nbsp;/&nbsp;Hachi: A Dog's Tale</span>\n",
      "\n",
      "                            <span class=\"title\">海上钢琴师</span>\n",
      "\n",
      "                                    <span class=\"title\">&nbsp;/&nbsp;La leggenda del pianista sull'oceano</span>\n",
      "\n",
      "                            <span class=\"title\">三傻大闹宝莱坞</span>\n",
      "\n",
      "                                    <span class=\"title\">&nbsp;/&nbsp;3 Idiots</span>\n",
      "\n",
      "                            <span class=\"title\">放牛班的春天</span>\n",
      "\n",
      "                                    <span class=\"title\">&nbsp;/&nbsp;Les choristes</span>\n",
      "\n",
      "                            <span class=\"title\">机器人总动员</span>\n",
      "\n",
      "                                    <span class=\"title\">&nbsp;/&nbsp;WALL·E</span>\n",
      "\n",
      "                            <span class=\"title\">无间道</span>\n",
      "\n",
      "                                    <span class=\"title\">&nbsp;/&nbsp;無間道</span>\n",
      "\n",
      "                            <span class=\"title\">疯狂动物城</span>\n",
      "\n",
      "                                    <span class=\"title\">&nbsp;/&nbsp;Zootopia</span>\n",
      "\n",
      "                            <span class=\"title\">控方证人</span>\n",
      "\n",
      "                                    <span class=\"title\">&nbsp;/&nbsp;Witness for the Prosecution</span>\n",
      "\n",
      "                            <span class=\"title\">大话西游之大圣娶亲</span>\n",
      "\n",
      "                                    <span class=\"title\">&nbsp;/&nbsp;西遊記大結局之仙履奇緣</span>\n",
      "\n",
      "                            <span class=\"title\">熔炉</span>\n",
      "\n",
      "                                    <span class=\"title\">&nbsp;/&nbsp;도가니</span>\n",
      "\n",
      "                            <span class=\"title\">教父</span>\n",
      "\n",
      "                                    <span class=\"title\">&nbsp;/&nbsp;The Godfather</span>\n",
      "\n",
      "                            <span class=\"title\">当幸福来敲门</span>\n",
      "\n",
      "                                    <span class=\"title\">&nbsp;/&nbsp;The Pursuit of Happyness</span>\n",
      "\n",
      "                            <span class=\"title\">触不可及</span>\n",
      "\n",
      "                                    <span class=\"title\">&nbsp;/&nbsp;Intouchables</span>\n",
      "\n",
      "                            <span class=\"title\">怦然心动</span>\n",
      "\n",
      "                                    <span class=\"title\">&nbsp;/&nbsp;Flipped</span>\n",
      "\n"
     ]
    }
   ],
   "source": [
    "with open('./豆瓣电影 Top 250.html',encoding='utf-8') as f:\n",
    "    lines = f.readlines()\n",
    "for line in lines:\n",
    "    if '<span class=\"title\">' in line:\n",
    "        print(line)"
   ]
  }
 ],
 "metadata": {
  "kernelspec": {
   "display_name": "base",
   "language": "python",
   "name": "python3"
  },
  "language_info": {
   "codemirror_mode": {
    "name": "ipython",
    "version": 3
   },
   "file_extension": ".py",
   "mimetype": "text/x-python",
   "name": "python",
   "nbconvert_exporter": "python",
   "pygments_lexer": "ipython3",
   "version": "3.10.9"
  },
  "orig_nbformat": 4
 },
 "nbformat": 4,
 "nbformat_minor": 2
}
