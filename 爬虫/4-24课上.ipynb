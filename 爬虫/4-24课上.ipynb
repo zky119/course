{
 "cells": [
  {
   "cell_type": "code",
   "execution_count": 1,
   "metadata": {},
   "outputs": [],
   "source": [
    "string = \"\"\"<a href=\"https://www.163.com/dy/article/HJ9B3MVP0531M1CO.html\">美团筹备出境：首站试点中国香港</a>\n",
    "<a href=\"https://www.163.com/dy/article/HJ98QANL05504DPG.html\">乌军抱怨“星链”常中断，甚至在激战时</a>\n",
    "<a href=\"https://www.163.com/tech/article/HJA5P9KT00097U7S.html\">iPhone 14车祸检测功能闹乌龙，坐过山车会持续报警</a>\n",
    "<a href=\"https://www.163.com/dy/article/HJA8MPLD05198CJN.html\">腾讯收购计划搁浅黑鲨手机半数岗位被裁撤</a>\n",
    "... 略 ...\n",
    "<a href=\"https://www.163.com/tech/article/HJ8D2SIC00097U7T.html\">传印度主动提出降低英国汽车进口关税，特斯拉还要等等</a>\n",
    "<a href=\"https://www.163.com/dy/article/HJ85E76L0530KP1K.html\">国产电动车海外卖爆，前8月超半数销欧洲</a>\n",
    "<a href=\"https://www.163.com/dy/article/HJ7V6TAM05319LDA.html\">火速裁员，扩张急刹车，虾皮离盈利还有多久</a>\n",
    "\"\"\""
   ]
  },
  {
   "cell_type": "code",
   "execution_count": 2,
   "metadata": {},
   "outputs": [
    {
     "name": "stdout",
     "output_type": "stream",
     "text": [
      "美团筹备出境：首站试点中国香港\n",
      "乌军抱怨“星链”常中断，甚至在激战时\n",
      "iPhone 14车祸检测功能闹乌龙，坐过山车会持续报警\n",
      "腾讯收购计划搁浅黑鲨手机半数岗位被裁撤\n",
      "传印度主动提出降低英国汽车进口关税，特斯拉还要等等\n",
      "国产电动车海外卖爆，前8月超半数销欧洲\n",
      "火速裁员，扩张急刹车，虾皮离盈利还有多久\n"
     ]
    }
   ],
   "source": [
    "a = string.split('>')\n",
    "for i in range(1,len(a),2):\n",
    "    # print(a[i].replace('</a',''))\n",
    "    print(a[i][:-3])"
   ]
  },
  {
   "attachments": {},
   "cell_type": "markdown",
   "metadata": {},
   "source": [
    "#### 动态生成豆瓣250的链接"
   ]
  },
  {
   "cell_type": "code",
   "execution_count": 3,
   "metadata": {},
   "outputs": [
    {
     "name": "stdout",
     "output_type": "stream",
     "text": [
      "https://movie.douban.com/top250?start=0&filter=\n",
      "https://movie.douban.com/top250?start=25&filter=\n",
      "https://movie.douban.com/top250?start=50&filter=\n",
      "https://movie.douban.com/top250?start=75&filter=\n",
      "https://movie.douban.com/top250?start=100&filter=\n",
      "https://movie.douban.com/top250?start=125&filter=\n",
      "https://movie.douban.com/top250?start=150&filter=\n",
      "https://movie.douban.com/top250?start=175&filter=\n",
      "https://movie.douban.com/top250?start=200&filter=\n",
      "https://movie.douban.com/top250?start=225&filter=\n"
     ]
    }
   ],
   "source": [
    "for i in range(0,250,25):\n",
    "    print(f'https://movie.douban.com/top250?start={i}&filter=')"
   ]
  },
  {
   "cell_type": "markdown",
   "metadata": {},
   "source": [
    "#### 3.取豆瓣电影TOP250文本，链接，图片地址"
   ]
  },
  {
   "cell_type": "code",
   "execution_count": 8,
   "metadata": {},
   "outputs": [
    {
     "name": "stdout",
     "output_type": "stream",
     "text": [
      "肖申克的救赎\n",
      "霸王别姬\n",
      "阿甘正传\n",
      "泰坦尼克号\n",
      "这个杀手不太冷\n",
      "美丽人生\n",
      "千与千寻\n",
      "辛德勒的名单\n",
      "星际穿越\n",
      "盗梦空间\n",
      "楚门的世界\n",
      "忠犬八公的故事\n",
      "海上钢琴师\n",
      "三傻大闹宝莱坞\n",
      "放牛班的春天\n",
      "机器人总动员\n",
      "无间道\n",
      "疯狂动物城\n",
      "控方证人\n",
      "大话西游之大圣娶亲\n",
      "熔炉\n",
      "教父\n",
      "当幸福来敲门\n",
      "触不可及\n",
      "怦然心动\n"
     ]
    }
   ],
   "source": [
    "with open('./豆瓣电影 Top 250.html',encoding='utf-8') as f:\n",
    "    html_list = f.readlines()\n",
    "for line in html_list:\n",
    "    if '<span class=\"title\">' in line:\n",
    "        title = line.replace('<span class=\"title\">','').replace('</span>','').strip()\n",
    "        if 0x4e00 <= ord(title[0]) <= 0x9fa5:\n",
    "            print(title)"
   ]
  },
  {
   "cell_type": "markdown",
   "metadata": {},
   "source": [
    "#### 取图片和链接"
   ]
  },
  {
   "cell_type": "code",
   "execution_count": 22,
   "metadata": {},
   "outputs": [
    {
     "name": "stdout",
     "output_type": "stream",
     "text": [
      "{'标题': ['肖申克的救赎', '霸王别姬', '阿甘正传', '泰坦尼克号', '这个杀手不太冷', '美丽人生', '千与千寻', '辛德勒的名单', '星际穿越', '盗梦空间', '楚门的世界', '忠犬八公的故事', '海上钢琴师', '三傻大闹宝莱坞', '放牛班的春天', '机器人总动员', '无间道', '疯狂动物城', '控方证人', '大话西游之大圣娶亲', '熔炉', '教父', '当幸福来敲门', '触不可及', '怦然心动'], '资源链接': ['https://movie.douban.com/subject/1292052/', 'https://movie.douban.com/subject/1291546/', 'https://movie.douban.com/subject/1292720/', 'https://movie.douban.com/subject/1292722/', 'https://movie.douban.com/subject/1295644/', 'https://movie.douban.com/subject/1292063/', 'https://movie.douban.com/subject/1291561/', 'https://movie.douban.com/subject/1295124/', 'https://movie.douban.com/subject/1889243/', 'https://movie.douban.com/subject/3541415/', 'https://movie.douban.com/subject/1292064/', 'https://movie.douban.com/subject/3011091/', 'https://movie.douban.com/subject/1292001/', 'https://movie.douban.com/subject/3793023/', 'https://movie.douban.com/subject/1291549/', 'https://movie.douban.com/subject/2131459/', 'https://movie.douban.com/subject/1307914/', 'https://movie.douban.com/subject/25662329/', 'https://movie.douban.com/subject/1296141/', 'https://movie.douban.com/subject/1292213/', 'https://movie.douban.com/subject/5912992/', 'https://movie.douban.com/subject/1291841/', 'https://movie.douban.com/subject/1849031/', 'https://movie.douban.com/subject/6786002/', 'https://movie.douban.com/subject/3319755/']}\n"
     ]
    }
   ],
   "source": [
    "move_dict = {\n",
    "    '标题':[],\n",
    "    '资源链接':[]\n",
    "}\n",
    "with open('./豆瓣电影 Top 250.html',encoding='utf-8') as f:\n",
    "    html_list = f.readlines()\n",
    "for line in html_list:\n",
    "    if '<span class=\"title\">' in line:\n",
    "        title = line.replace('<span class=\"title\">','').replace('</span>','').strip()\n",
    "        if 0x4e00 <= ord(title[0]) <= 0x9fa5:\n",
    "            # print(title)\n",
    "            move_dict['标题'].append(title)\n",
    "    if '<a href=\"https://movie.douban.com/subject/' in line:\n",
    "        move_href = line.strip().replace('<a href=\"','').replace('\">','').replace('\" class=\"','')\n",
    "        if move_href not in move_dict['资源链接']:\n",
    "            move_dict['资源链接'].append(move_href)\n",
    "\n",
    "print(move_dict)"
   ]
  },
  {
   "cell_type": "markdown",
   "metadata": {},
   "source": [
    "### 取图片"
   ]
  },
  {
   "cell_type": "code",
   "execution_count": 33,
   "metadata": {},
   "outputs": [],
   "source": [
    "with open('./豆瓣电影 Top 250.html',encoding='utf-8') as f:\n",
    "    html_list = f.readlines()\n",
    "    \n",
    "    move_dict = {\n",
    "        '标题':[],\n",
    "        '资源链接':[]\n",
    "    }\n",
    "    with open('./豆瓣电影 Top 250.html',encoding='utf-8') as f:\n",
    "        html_list = f.readlines()\n",
    "    for line in html_list:\n",
    "        if '<span class=\"title\">' in line:\n",
    "            title = line.replace('<span class=\"title\">','').replace('</span>','').strip()\n",
    "            if 0x4e00 <= ord(title[0]) <= 0x9fa5:\n",
    "                # print(title)\n",
    "                move_dict['标题'].append(title)\n",
    "        elif '<a href=\"https://movie.douban.com/subject/' in line:\n",
    "            move_href = line.strip().replace('<a href=\"','').replace('\">','').replace('\" class=\"','')\n",
    "            if move_href not in move_dict['资源链接']:\n",
    "                move_dict['资源链接'].append(move_href)\n",
    "        elif '<img width=\"100 alt=' in line:\n",
    "            img_href = line\n",
    "            print(img_href)\n",
    "    # print(move_dict)"
   ]
  }
 ],
 "metadata": {
  "kernelspec": {
   "display_name": "base",
   "language": "python",
   "name": "python3"
  },
  "language_info": {
   "codemirror_mode": {
    "name": "ipython",
    "version": 3
   },
   "file_extension": ".py",
   "mimetype": "text/x-python",
   "name": "python",
   "nbconvert_exporter": "python",
   "pygments_lexer": "ipython3",
   "version": "3.10.9"
  },
  "orig_nbformat": 4
 },
 "nbformat": 4,
 "nbformat_minor": 2
}
