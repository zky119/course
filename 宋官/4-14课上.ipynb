{
 "cells": [
  {
   "cell_type": "code",
   "execution_count": 1,
   "metadata": {},
   "outputs": [],
   "source": [
    "import numpy as np \n",
    "import pandas as pd "
   ]
  },
  {
   "cell_type": "code",
   "execution_count": 6,
   "metadata": {},
   "outputs": [],
   "source": [
    "relation = pd.read_csv('./officer_relationship_song.csv')\n",
    "\n",
    "kinship = pd.read_csv('./officer_kinship_song.csv')"
   ]
  },
  {
   "cell_type": "markdown",
   "metadata": {},
   "source": []
  },
  {
   "cell_type": "code",
   "execution_count": 7,
   "metadata": {},
   "outputs": [
    {
     "data": {
      "text/html": [
       "<div>\n",
       "<style scoped>\n",
       "    .dataframe tbody tr th:only-of-type {\n",
       "        vertical-align: middle;\n",
       "    }\n",
       "\n",
       "    .dataframe tbody tr th {\n",
       "        vertical-align: top;\n",
       "    }\n",
       "\n",
       "    .dataframe thead th {\n",
       "        text-align: right;\n",
       "    }\n",
       "</style>\n",
       "<table border=\"1\" class=\"dataframe\">\n",
       "  <thead>\n",
       "    <tr style=\"text-align: right;\">\n",
       "      <th></th>\n",
       "      <th>Name</th>\n",
       "      <th>姓名</th>\n",
       "      <th>Index year</th>\n",
       "      <th>Sex</th>\n",
       "      <th>Associate</th>\n",
       "      <th>社会关系人姓名</th>\n",
       "      <th>Assoc. Index Year</th>\n",
       "      <th>Assoc. Sex</th>\n",
       "      <th>Association</th>\n",
       "      <th>联系</th>\n",
       "      <th>...</th>\n",
       "      <th>亲属关系</th>\n",
       "      <th>Kin Name</th>\n",
       "      <th>亲戚姓名</th>\n",
       "      <th>Assoc. Kinship Rel.</th>\n",
       "      <th>关系人的亲属关系</th>\n",
       "      <th>Assoc. Kin Name</th>\n",
       "      <th>关系人的亲戚姓名</th>\n",
       "      <th>Distance 距离</th>\n",
       "      <th>Person ID</th>\n",
       "      <th>Assoc ID</th>\n",
       "    </tr>\n",
       "  </thead>\n",
       "  <tbody>\n",
       "    <tr>\n",
       "      <th>0</th>\n",
       "      <td>An Dun</td>\n",
       "      <td>安惇</td>\n",
       "      <td>1042</td>\n",
       "      <td>M</td>\n",
       "      <td>Zou Hao</td>\n",
       "      <td>邹浩</td>\n",
       "      <td>1060.0</td>\n",
       "      <td>M</td>\n",
       "      <td>Opposed or attacked</td>\n",
       "      <td>反对/攻讦</td>\n",
       "      <td>...</td>\n",
       "      <td>未详</td>\n",
       "      <td>Wei Xiang</td>\n",
       "      <td>未详</td>\n",
       "      <td>U</td>\n",
       "      <td>未详</td>\n",
       "      <td>Wei Xiang</td>\n",
       "      <td>未详</td>\n",
       "      <td>1275.341259</td>\n",
       "      <td>1</td>\n",
       "      <td>3888</td>\n",
       "    </tr>\n",
       "  </tbody>\n",
       "</table>\n",
       "<p>1 rows × 29 columns</p>\n",
       "</div>"
      ],
      "text/plain": [
       "     Name  姓名  Index year Sex Associate 社会关系人姓名  Assoc. Index Year Assoc. Sex  \\\n",
       "0  An Dun  安惇        1042   M   Zou Hao      邹浩             1060.0          M   \n",
       "\n",
       "           Association     联系  ... 亲属关系   Kin Name  亲戚姓名  Assoc. Kinship Rel.  \\\n",
       "0  Opposed or attacked  反对/攻讦  ...   未详  Wei Xiang    未详                    U   \n",
       "\n",
       "  关系人的亲属关系 Assoc. Kin Name  关系人的亲戚姓名  Distance 距离 Person ID Assoc ID  \n",
       "0       未详       Wei Xiang        未详  1275.341259         1     3888  \n",
       "\n",
       "[1 rows x 29 columns]"
      ]
     },
     "execution_count": 7,
     "metadata": {},
     "output_type": "execute_result"
    }
   ],
   "source": [
    "relation.head(1)"
   ]
  },
  {
   "cell_type": "code",
   "execution_count": 19,
   "metadata": {},
   "outputs": [],
   "source": [
    "list_ = relation[['姓名','社会关系人姓名','联系']].groupby('联系').nunique()"
   ]
  },
  {
   "cell_type": "code",
   "execution_count": 20,
   "metadata": {},
   "outputs": [
    {
     "data": {
      "text/html": [
       "<div>\n",
       "<style scoped>\n",
       "    .dataframe tbody tr th:only-of-type {\n",
       "        vertical-align: middle;\n",
       "    }\n",
       "\n",
       "    .dataframe tbody tr th {\n",
       "        vertical-align: top;\n",
       "    }\n",
       "\n",
       "    .dataframe thead th {\n",
       "        text-align: right;\n",
       "    }\n",
       "</style>\n",
       "<table border=\"1\" class=\"dataframe\">\n",
       "  <thead>\n",
       "    <tr style=\"text-align: right;\">\n",
       "      <th></th>\n",
       "      <th>姓名</th>\n",
       "      <th>社会关系人姓名</th>\n",
       "      <th>记录</th>\n",
       "    </tr>\n",
       "    <tr>\n",
       "      <th>联系</th>\n",
       "      <th></th>\n",
       "      <th></th>\n",
       "      <th></th>\n",
       "    </tr>\n",
       "  </thead>\n",
       "  <tbody>\n",
       "    <tr>\n",
       "      <th>不合</th>\n",
       "      <td>35</td>\n",
       "      <td>49</td>\n",
       "      <td>61</td>\n",
       "    </tr>\n",
       "    <tr>\n",
       "      <th>反对/攻讦</th>\n",
       "      <td>58</td>\n",
       "      <td>56</td>\n",
       "      <td>78</td>\n",
       "    </tr>\n",
       "    <tr>\n",
       "      <th>得到Y的支持</th>\n",
       "      <td>55</td>\n",
       "      <td>97</td>\n",
       "      <td>132</td>\n",
       "    </tr>\n",
       "    <tr>\n",
       "      <th>支持</th>\n",
       "      <td>51</td>\n",
       "      <td>49</td>\n",
       "      <td>80</td>\n",
       "    </tr>\n",
       "    <tr>\n",
       "      <th>政见趋同</th>\n",
       "      <td>21</td>\n",
       "      <td>23</td>\n",
       "      <td>25</td>\n",
       "    </tr>\n",
       "    <tr>\n",
       "      <th>遭到Y的反对/攻讦</th>\n",
       "      <td>52</td>\n",
       "      <td>111</td>\n",
       "      <td>130</td>\n",
       "    </tr>\n",
       "  </tbody>\n",
       "</table>\n",
       "</div>"
      ],
      "text/plain": [
       "           姓名  社会关系人姓名   记录\n",
       "联系                         \n",
       "不合         35       49   61\n",
       "反对/攻讦      58       56   78\n",
       "得到Y的支持     55       97  132\n",
       "支持         51       49   80\n",
       "政见趋同       21       23   25\n",
       "遭到Y的反对/攻讦  52      111  130"
      ]
     },
     "execution_count": 20,
     "metadata": {},
     "output_type": "execute_result"
    }
   ],
   "source": [
    "list_['记录'] = relation[['姓名','联系']].groupby('联系').count()\n",
    "list_"
   ]
  },
  {
   "cell_type": "code",
   "execution_count": 24,
   "metadata": {},
   "outputs": [
    {
     "data": {
      "text/html": [
       "<div>\n",
       "<style scoped>\n",
       "    .dataframe tbody tr th:only-of-type {\n",
       "        vertical-align: middle;\n",
       "    }\n",
       "\n",
       "    .dataframe tbody tr th {\n",
       "        vertical-align: top;\n",
       "    }\n",
       "\n",
       "    .dataframe thead th {\n",
       "        text-align: right;\n",
       "    }\n",
       "</style>\n",
       "<table border=\"1\" class=\"dataframe\">\n",
       "  <thead>\n",
       "    <tr style=\"text-align: right;\">\n",
       "      <th></th>\n",
       "      <th>Distance 距离</th>\n",
       "    </tr>\n",
       "    <tr>\n",
       "      <th>联系</th>\n",
       "      <th></th>\n",
       "    </tr>\n",
       "  </thead>\n",
       "  <tbody>\n",
       "    <tr>\n",
       "      <th>支持</th>\n",
       "      <td>703.809609</td>\n",
       "    </tr>\n",
       "    <tr>\n",
       "      <th>得到Y的支持</th>\n",
       "      <td>699.818200</td>\n",
       "    </tr>\n",
       "    <tr>\n",
       "      <th>遭到Y的反对/攻讦</th>\n",
       "      <td>689.981035</td>\n",
       "    </tr>\n",
       "    <tr>\n",
       "      <th>反对/攻讦</th>\n",
       "      <td>664.581145</td>\n",
       "    </tr>\n",
       "    <tr>\n",
       "      <th>不合</th>\n",
       "      <td>566.486530</td>\n",
       "    </tr>\n",
       "    <tr>\n",
       "      <th>政见趋同</th>\n",
       "      <td>553.851090</td>\n",
       "    </tr>\n",
       "  </tbody>\n",
       "</table>\n",
       "</div>"
      ],
      "text/plain": [
       "           Distance 距离\n",
       "联系                    \n",
       "支持          703.809609\n",
       "得到Y的支持      699.818200\n",
       "遭到Y的反对/攻讦   689.981035\n",
       "反对/攻讦       664.581145\n",
       "不合          566.486530\n",
       "政见趋同        553.851090"
      ]
     },
     "execution_count": 24,
     "metadata": {},
     "output_type": "execute_result"
    }
   ],
   "source": [
    "juli = relation[['联系','Distance 距离']].groupby('联系').mean().sort_values(by = 'Distance 距离',ascending = False)\n",
    "juli"
   ]
  },
  {
   "cell_type": "code",
   "execution_count": 27,
   "metadata": {},
   "outputs": [
    {
     "data": {
      "image/png": "[encoded data removed]",
      "text/plain": [
       "<Figure size 640x480 with 1 Axes>"
      ]
     },
     "metadata": {},
     "output_type": "display_data"
    }
   ],
   "source": [
    "import matplotlib.pyplot as plt\n",
    "plt.rcParams['font.family'] = 'sans-serif'\n",
    "plt.rcParams['font.sans-serif'] = ['SimHei']\n",
    "plt.barh(juli.index, juli['Distance 距离'])\n",
    "plt.show()"
   ]
  },
  {
   "cell_type": "code",
   "execution_count": 35,
   "metadata": {},
   "outputs": [
    {
     "data": {
      "text/plain": [
       "685.6485615160851"
      ]
     },
     "execution_count": 35,
     "metadata": {},
     "output_type": "execute_result"
    }
   ],
   "source": [
    "relation.query(\"联系=='支持' or 联系=='得到Y的支持' or 联系=='政见趋同'\")['Distance 距离'].mean()"
   ]
  },
  {
   "cell_type": "code",
   "execution_count": 36,
   "metadata": {},
   "outputs": [
    {
     "data": {
      "text/plain": [
       "654.5744813763433"
      ]
     },
     "execution_count": 36,
     "metadata": {},
     "output_type": "execute_result"
    }
   ],
   "source": [
    "relation.query(\"~(联系=='支持' or 联系=='得到Y的支持' or 联系=='政见趋同')\")['Distance 距离'].mean()"
   ]
  },
  {
   "cell_type": "code",
   "execution_count": 41,
   "metadata": {},
   "outputs": [],
   "source": [
    "relation['指数年之差'] = abs(relation['Assoc. Index Year'] - relation['Index year'])\n",
    "tu = relation[relation.notnull()].groupby('联系')[['指数年之差']].mean()"
   ]
  },
  {
   "cell_type": "code",
   "execution_count": 42,
   "metadata": {},
   "outputs": [
    {
     "data": {
      "text/html": [
       "<div>\n",
       "<style scoped>\n",
       "    .dataframe tbody tr th:only-of-type {\n",
       "        vertical-align: middle;\n",
       "    }\n",
       "\n",
       "    .dataframe tbody tr th {\n",
       "        vertical-align: top;\n",
       "    }\n",
       "\n",
       "    .dataframe thead th {\n",
       "        text-align: right;\n",
       "    }\n",
       "</style>\n",
       "<table border=\"1\" class=\"dataframe\">\n",
       "  <thead>\n",
       "    <tr style=\"text-align: right;\">\n",
       "      <th></th>\n",
       "      <th>指数年之差</th>\n",
       "    </tr>\n",
       "    <tr>\n",
       "      <th>联系</th>\n",
       "      <th></th>\n",
       "    </tr>\n",
       "  </thead>\n",
       "  <tbody>\n",
       "    <tr>\n",
       "      <th>不合</th>\n",
       "      <td>10.758621</td>\n",
       "    </tr>\n",
       "    <tr>\n",
       "      <th>反对/攻讦</th>\n",
       "      <td>21.513889</td>\n",
       "    </tr>\n",
       "    <tr>\n",
       "      <th>得到Y的支持</th>\n",
       "      <td>17.614679</td>\n",
       "    </tr>\n",
       "    <tr>\n",
       "      <th>支持</th>\n",
       "      <td>13.373333</td>\n",
       "    </tr>\n",
       "    <tr>\n",
       "      <th>政见趋同</th>\n",
       "      <td>16.708333</td>\n",
       "    </tr>\n",
       "    <tr>\n",
       "      <th>遭到Y的反对/攻讦</th>\n",
       "      <td>20.242991</td>\n",
       "    </tr>\n",
       "  </tbody>\n",
       "</table>\n",
       "</div>"
      ],
      "text/plain": [
       "               指数年之差\n",
       "联系                  \n",
       "不合         10.758621\n",
       "反对/攻讦      21.513889\n",
       "得到Y的支持     17.614679\n",
       "支持         13.373333\n",
       "政见趋同       16.708333\n",
       "遭到Y的反对/攻讦  20.242991"
      ]
     },
     "execution_count": 42,
     "metadata": {},
     "output_type": "execute_result"
    }
   ],
   "source": [
    "tu"
   ]
  },
  {
   "cell_type": "code",
   "execution_count": 44,
   "metadata": {},
   "outputs": [
    {
     "data": {
      "text/html": [
       "<div>\n",
       "<style scoped>\n",
       "    .dataframe tbody tr th:only-of-type {\n",
       "        vertical-align: middle;\n",
       "    }\n",
       "\n",
       "    .dataframe tbody tr th {\n",
       "        vertical-align: top;\n",
       "    }\n",
       "\n",
       "    .dataframe thead th {\n",
       "        text-align: right;\n",
       "    }\n",
       "</style>\n",
       "<table border=\"1\" class=\"dataframe\">\n",
       "  <thead>\n",
       "    <tr style=\"text-align: right;\">\n",
       "      <th></th>\n",
       "      <th>指数年之差</th>\n",
       "    </tr>\n",
       "    <tr>\n",
       "      <th>联系</th>\n",
       "      <th></th>\n",
       "    </tr>\n",
       "  </thead>\n",
       "  <tbody>\n",
       "    <tr>\n",
       "      <th>反对/攻讦</th>\n",
       "      <td>21.513889</td>\n",
       "    </tr>\n",
       "    <tr>\n",
       "      <th>遭到Y的反对/攻讦</th>\n",
       "      <td>20.242991</td>\n",
       "    </tr>\n",
       "    <tr>\n",
       "      <th>不合</th>\n",
       "      <td>10.758621</td>\n",
       "    </tr>\n",
       "    <tr>\n",
       "      <th>得到Y的支持</th>\n",
       "      <td>17.614679</td>\n",
       "    </tr>\n",
       "    <tr>\n",
       "      <th>政见趋同</th>\n",
       "      <td>16.708333</td>\n",
       "    </tr>\n",
       "    <tr>\n",
       "      <th>支持</th>\n",
       "      <td>13.373333</td>\n",
       "    </tr>\n",
       "  </tbody>\n",
       "</table>\n",
       "</div>"
      ],
      "text/plain": [
       "               指数年之差\n",
       "联系                  \n",
       "反对/攻讦      21.513889\n",
       "遭到Y的反对/攻讦  20.242991\n",
       "不合         10.758621\n",
       "得到Y的支持     17.614679\n",
       "政见趋同       16.708333\n",
       "支持         13.373333"
      ]
     },
     "execution_count": 44,
     "metadata": {},
     "output_type": "execute_result"
    }
   ],
   "source": [
    "tu = tu.loc[['反对/攻讦','遭到Y的反对/攻讦','不合','得到Y的支持','政见趋同','支持']]\n",
    "tu"
   ]
  },
  {
   "cell_type": "code",
   "execution_count": 45,
   "metadata": {},
   "outputs": [
    {
     "data": {
      "image/png": "[encoded data removed]",
      "text/plain": [
       "<Figure size 640x480 with 1 Axes>"
      ]
     },
     "metadata": {},
     "output_type": "display_data"
    }
   ],
   "source": [
    "plt.bar(tu.index,tu['指数年之差'])\n",
    "plt.show()"
   ]
  },
  {
   "cell_type": "code",
   "execution_count": 78,
   "metadata": {},
   "outputs": [],
   "source": [
    "biao = relation.groupby(['姓名','联系'])['联系'].count().unstack().fillna(0)"
   ]
  },
  {
   "cell_type": "code",
   "execution_count": 52,
   "metadata": {},
   "outputs": [
    {
     "data": {
      "text/html": [
       "<div>\n",
       "<style scoped>\n",
       "    .dataframe tbody tr th:only-of-type {\n",
       "        vertical-align: middle;\n",
       "    }\n",
       "\n",
       "    .dataframe tbody tr th {\n",
       "        vertical-align: top;\n",
       "    }\n",
       "\n",
       "    .dataframe thead th {\n",
       "        text-align: right;\n",
       "    }\n",
       "</style>\n",
       "<table border=\"1\" class=\"dataframe\">\n",
       "  <thead>\n",
       "    <tr style=\"text-align: right;\">\n",
       "      <th>姓名</th>\n",
       "      <th>丁谓</th>\n",
       "      <th>万俟卨</th>\n",
       "      <th>令狐挻</th>\n",
       "      <th>何执中</th>\n",
       "      <th>余靖</th>\n",
       "      <th>侯蒙</th>\n",
       "      <th>冯京</th>\n",
       "      <th>刘安上</th>\n",
       "      <th>刘安世</th>\n",
       "      <th>刘氏(赵恒皇后)</th>\n",
       "      <th>...</th>\n",
       "      <th>韩缜</th>\n",
       "      <th>马伸</th>\n",
       "      <th>马知节</th>\n",
       "      <th>高氏(赵曙妻)</th>\n",
       "      <th>高琼</th>\n",
       "      <th>高登</th>\n",
       "      <th>高若讷</th>\n",
       "      <th>鲁宗道</th>\n",
       "      <th>黄庭坚</th>\n",
       "      <th>黄策</th>\n",
       "    </tr>\n",
       "    <tr>\n",
       "      <th>联系</th>\n",
       "      <th></th>\n",
       "      <th></th>\n",
       "      <th></th>\n",
       "      <th></th>\n",
       "      <th></th>\n",
       "      <th></th>\n",
       "      <th></th>\n",
       "      <th></th>\n",
       "      <th></th>\n",
       "      <th></th>\n",
       "      <th></th>\n",
       "      <th></th>\n",
       "      <th></th>\n",
       "      <th></th>\n",
       "      <th></th>\n",
       "      <th></th>\n",
       "      <th></th>\n",
       "      <th></th>\n",
       "      <th></th>\n",
       "      <th></th>\n",
       "      <th></th>\n",
       "    </tr>\n",
       "  </thead>\n",
       "  <tbody>\n",
       "    <tr>\n",
       "      <th>不合</th>\n",
       "      <td>NaN</td>\n",
       "      <td>NaN</td>\n",
       "      <td>NaN</td>\n",
       "      <td>NaN</td>\n",
       "      <td>NaN</td>\n",
       "      <td>1.0</td>\n",
       "      <td>NaN</td>\n",
       "      <td>NaN</td>\n",
       "      <td>NaN</td>\n",
       "      <td>NaN</td>\n",
       "      <td>...</td>\n",
       "      <td>NaN</td>\n",
       "      <td>NaN</td>\n",
       "      <td>NaN</td>\n",
       "      <td>NaN</td>\n",
       "      <td>NaN</td>\n",
       "      <td>NaN</td>\n",
       "      <td>NaN</td>\n",
       "      <td>NaN</td>\n",
       "      <td>NaN</td>\n",
       "      <td>NaN</td>\n",
       "    </tr>\n",
       "    <tr>\n",
       "      <th>反对/攻讦</th>\n",
       "      <td>NaN</td>\n",
       "      <td>NaN</td>\n",
       "      <td>NaN</td>\n",
       "      <td>NaN</td>\n",
       "      <td>NaN</td>\n",
       "      <td>NaN</td>\n",
       "      <td>NaN</td>\n",
       "      <td>NaN</td>\n",
       "      <td>2.0</td>\n",
       "      <td>1.0</td>\n",
       "      <td>...</td>\n",
       "      <td>1.0</td>\n",
       "      <td>NaN</td>\n",
       "      <td>1.0</td>\n",
       "      <td>1.0</td>\n",
       "      <td>NaN</td>\n",
       "      <td>1.0</td>\n",
       "      <td>1.0</td>\n",
       "      <td>NaN</td>\n",
       "      <td>NaN</td>\n",
       "      <td>1.0</td>\n",
       "    </tr>\n",
       "    <tr>\n",
       "      <th>得到Y的支持</th>\n",
       "      <td>1.0</td>\n",
       "      <td>NaN</td>\n",
       "      <td>NaN</td>\n",
       "      <td>NaN</td>\n",
       "      <td>2.0</td>\n",
       "      <td>NaN</td>\n",
       "      <td>NaN</td>\n",
       "      <td>NaN</td>\n",
       "      <td>NaN</td>\n",
       "      <td>NaN</td>\n",
       "      <td>...</td>\n",
       "      <td>NaN</td>\n",
       "      <td>1.0</td>\n",
       "      <td>NaN</td>\n",
       "      <td>NaN</td>\n",
       "      <td>NaN</td>\n",
       "      <td>NaN</td>\n",
       "      <td>NaN</td>\n",
       "      <td>1.0</td>\n",
       "      <td>NaN</td>\n",
       "      <td>NaN</td>\n",
       "    </tr>\n",
       "    <tr>\n",
       "      <th>支持</th>\n",
       "      <td>1.0</td>\n",
       "      <td>1.0</td>\n",
       "      <td>1.0</td>\n",
       "      <td>NaN</td>\n",
       "      <td>1.0</td>\n",
       "      <td>NaN</td>\n",
       "      <td>1.0</td>\n",
       "      <td>NaN</td>\n",
       "      <td>NaN</td>\n",
       "      <td>NaN</td>\n",
       "      <td>...</td>\n",
       "      <td>NaN</td>\n",
       "      <td>NaN</td>\n",
       "      <td>NaN</td>\n",
       "      <td>1.0</td>\n",
       "      <td>1.0</td>\n",
       "      <td>2.0</td>\n",
       "      <td>NaN</td>\n",
       "      <td>NaN</td>\n",
       "      <td>NaN</td>\n",
       "      <td>NaN</td>\n",
       "    </tr>\n",
       "    <tr>\n",
       "      <th>政见趋同</th>\n",
       "      <td>NaN</td>\n",
       "      <td>NaN</td>\n",
       "      <td>NaN</td>\n",
       "      <td>NaN</td>\n",
       "      <td>2.0</td>\n",
       "      <td>NaN</td>\n",
       "      <td>NaN</td>\n",
       "      <td>1.0</td>\n",
       "      <td>NaN</td>\n",
       "      <td>NaN</td>\n",
       "      <td>...</td>\n",
       "      <td>NaN</td>\n",
       "      <td>NaN</td>\n",
       "      <td>NaN</td>\n",
       "      <td>NaN</td>\n",
       "      <td>NaN</td>\n",
       "      <td>NaN</td>\n",
       "      <td>NaN</td>\n",
       "      <td>NaN</td>\n",
       "      <td>NaN</td>\n",
       "      <td>NaN</td>\n",
       "    </tr>\n",
       "    <tr>\n",
       "      <th>遭到Y的反对/攻讦</th>\n",
       "      <td>4.0</td>\n",
       "      <td>NaN</td>\n",
       "      <td>NaN</td>\n",
       "      <td>2.0</td>\n",
       "      <td>1.0</td>\n",
       "      <td>NaN</td>\n",
       "      <td>NaN</td>\n",
       "      <td>NaN</td>\n",
       "      <td>1.0</td>\n",
       "      <td>NaN</td>\n",
       "      <td>...</td>\n",
       "      <td>NaN</td>\n",
       "      <td>NaN</td>\n",
       "      <td>NaN</td>\n",
       "      <td>NaN</td>\n",
       "      <td>NaN</td>\n",
       "      <td>NaN</td>\n",
       "      <td>1.0</td>\n",
       "      <td>NaN</td>\n",
       "      <td>1.0</td>\n",
       "      <td>NaN</td>\n",
       "    </tr>\n",
       "  </tbody>\n",
       "</table>\n",
       "<p>6 rows × 188 columns</p>\n",
       "</div>"
      ],
      "text/plain": [
       "姓名          丁谓  万俟卨  令狐挻  何执中   余靖   侯蒙   冯京  刘安上  刘安世  刘氏(赵恒皇后)  ...   韩缜  \\\n",
       "联系                                                                ...        \n",
       "不合         NaN  NaN  NaN  NaN  NaN  1.0  NaN  NaN  NaN       NaN  ...  NaN   \n",
       "反对/攻讦      NaN  NaN  NaN  NaN  NaN  NaN  NaN  NaN  2.0       1.0  ...  1.0   \n",
       "得到Y的支持     1.0  NaN  NaN  NaN  2.0  NaN  NaN  NaN  NaN       NaN  ...  NaN   \n",
       "支持         1.0  1.0  1.0  NaN  1.0  NaN  1.0  NaN  NaN       NaN  ...  NaN   \n",
       "政见趋同       NaN  NaN  NaN  NaN  2.0  NaN  NaN  1.0  NaN       NaN  ...  NaN   \n",
       "遭到Y的反对/攻讦  4.0  NaN  NaN  2.0  1.0  NaN  NaN  NaN  1.0       NaN  ...  NaN   \n",
       "\n",
       "姓名          马伸  马知节  高氏(赵曙妻)   高琼   高登  高若讷  鲁宗道  黄庭坚   黄策  \n",
       "联系                                                          \n",
       "不合         NaN  NaN      NaN  NaN  NaN  NaN  NaN  NaN  NaN  \n",
       "反对/攻讦      NaN  1.0      1.0  NaN  1.0  1.0  NaN  NaN  1.0  \n",
       "得到Y的支持     1.0  NaN      NaN  NaN  NaN  NaN  1.0  NaN  NaN  \n",
       "支持         NaN  NaN      1.0  1.0  2.0  NaN  NaN  NaN  NaN  \n",
       "政见趋同       NaN  NaN      NaN  NaN  NaN  NaN  NaN  NaN  NaN  \n",
       "遭到Y的反对/攻讦  NaN  NaN      NaN  NaN  NaN  1.0  NaN  1.0  NaN  \n",
       "\n",
       "[6 rows x 188 columns]"
      ]
     },
     "execution_count": 52,
     "metadata": {},
     "output_type": "execute_result"
    }
   ],
   "source": [
    "relation.groupby(['姓名','联系'])['联系'].count().unstack(level = 0)"
   ]
  },
  {
   "cell_type": "code",
   "execution_count": 57,
   "metadata": {},
   "outputs": [
    {
     "data": {
      "text/html": [
       "<div>\n",
       "<style scoped>\n",
       "    .dataframe tbody tr th:only-of-type {\n",
       "        vertical-align: middle;\n",
       "    }\n",
       "\n",
       "    .dataframe tbody tr th {\n",
       "        vertical-align: top;\n",
       "    }\n",
       "\n",
       "    .dataframe thead tr th {\n",
       "        text-align: left;\n",
       "    }\n",
       "\n",
       "    .dataframe thead tr:last-of-type th {\n",
       "        text-align: right;\n",
       "    }\n",
       "</style>\n",
       "<table border=\"1\" class=\"dataframe\">\n",
       "  <thead>\n",
       "    <tr>\n",
       "      <th></th>\n",
       "      <th></th>\n",
       "      <th colspan=\"2\" halign=\"left\">D</th>\n",
       "    </tr>\n",
       "    <tr>\n",
       "      <th></th>\n",
       "      <th>A</th>\n",
       "      <th>bar</th>\n",
       "      <th>foo</th>\n",
       "    </tr>\n",
       "    <tr>\n",
       "      <th>B</th>\n",
       "      <th>C</th>\n",
       "      <th></th>\n",
       "      <th></th>\n",
       "    </tr>\n",
       "  </thead>\n",
       "  <tbody>\n",
       "    <tr>\n",
       "      <th rowspan=\"2\" valign=\"top\">one</th>\n",
       "      <th>x</th>\n",
       "      <td>5.0</td>\n",
       "      <td>1.0</td>\n",
       "    </tr>\n",
       "    <tr>\n",
       "      <th>y</th>\n",
       "      <td>6.0</td>\n",
       "      <td>2.0</td>\n",
       "    </tr>\n",
       "    <tr>\n",
       "      <th rowspan=\"2\" valign=\"top\">two</th>\n",
       "      <th>x</th>\n",
       "      <td>NaN</td>\n",
       "      <td>3.0</td>\n",
       "    </tr>\n",
       "    <tr>\n",
       "      <th>y</th>\n",
       "      <td>4.0</td>\n",
       "      <td>NaN</td>\n",
       "    </tr>\n",
       "  </tbody>\n",
       "</table>\n",
       "</div>"
      ],
      "text/plain": [
       "         D     \n",
       "A      bar  foo\n",
       "B   C          \n",
       "one x  5.0  1.0\n",
       "    y  6.0  2.0\n",
       "two x  NaN  3.0\n",
       "    y  4.0  NaN"
      ]
     },
     "execution_count": 57,
     "metadata": {},
     "output_type": "execute_result"
    }
   ],
   "source": [
    "data = {'A': ['foo', 'foo', 'foo', 'bar', 'bar', 'bar'],\n",
    "        'B': ['one', 'one', 'two', 'two', 'one', 'one'],\n",
    "        'C': ['x', 'y', 'x', 'y', 'x', 'y'],\n",
    "        'D': [1, 2, 3, 4, 5, 6]}\n",
    "\n",
    "df = pd.DataFrame(data).set_index(['A', 'B', 'C'])\n",
    "df.unstack(level=0)"
   ]
  },
  {
   "cell_type": "code",
   "execution_count": 58,
   "metadata": {},
   "outputs": [
    {
     "data": {
      "text/plain": [
       "Index(['Name', '姓名', 'Kin Name', '亲戚姓名', 'Kinship'], dtype='object')"
      ]
     },
     "execution_count": 58,
     "metadata": {},
     "output_type": "execute_result"
    }
   ],
   "source": [
    "kinship.columns"
   ]
  },
  {
   "cell_type": "code",
   "execution_count": 64,
   "metadata": {},
   "outputs": [
    {
     "data": {
      "text/plain": [
       "['范仲淹',\n",
       " '曾布',\n",
       " '苏辙',\n",
       " '苏轼',\n",
       " '韩忠彦',\n",
       " '赵祯',\n",
       " '王安石',\n",
       " '章縡',\n",
       " '王安礼',\n",
       " '范纯礼',\n",
       " '韩琦',\n",
       " '章綡',\n",
       " '曾肇',\n",
       " '范纯仁',\n",
       " '赵顼']"
      ]
     },
     "execution_count": 64,
     "metadata": {},
     "output_type": "execute_result"
    }
   ],
   "source": [
    "officer = set(relation['姓名'])\n",
    "kin = set(kinship['亲戚姓名'])\n",
    "list_ = list(officer & kin )\n",
    "list_"
   ]
  },
  {
   "cell_type": "code",
   "execution_count": 91,
   "metadata": {},
   "outputs": [
    {
     "data": {
      "text/html": [
       "<div>\n",
       "<style scoped>\n",
       "    .dataframe tbody tr th:only-of-type {\n",
       "        vertical-align: middle;\n",
       "    }\n",
       "\n",
       "    .dataframe tbody tr th {\n",
       "        vertical-align: top;\n",
       "    }\n",
       "\n",
       "    .dataframe thead th {\n",
       "        text-align: right;\n",
       "    }\n",
       "</style>\n",
       "<table border=\"1\" class=\"dataframe\">\n",
       "  <thead>\n",
       "    <tr style=\"text-align: right;\">\n",
       "      <th></th>\n",
       "      <th>Name</th>\n",
       "      <th>姓名</th>\n",
       "      <th>Index year</th>\n",
       "      <th>Sex</th>\n",
       "      <th>Associate</th>\n",
       "      <th>社会关系人姓名</th>\n",
       "      <th>Assoc. Index Year</th>\n",
       "      <th>Assoc. Sex</th>\n",
       "      <th>Association</th>\n",
       "      <th>联系</th>\n",
       "      <th>...</th>\n",
       "      <th>Kin Name</th>\n",
       "      <th>亲戚姓名</th>\n",
       "      <th>Assoc. Kinship Rel.</th>\n",
       "      <th>关系人的亲属关系</th>\n",
       "      <th>Assoc. Kin Name</th>\n",
       "      <th>关系人的亲戚姓名</th>\n",
       "      <th>Distance 距离</th>\n",
       "      <th>Person ID</th>\n",
       "      <th>Assoc ID</th>\n",
       "      <th>指数年之差</th>\n",
       "    </tr>\n",
       "  </thead>\n",
       "  <tbody>\n",
       "  </tbody>\n",
       "</table>\n",
       "<p>0 rows × 30 columns</p>\n",
       "</div>"
      ],
      "text/plain": [
       "Empty DataFrame\n",
       "Columns: [Name, 姓名, Index year, Sex, Associate, 社会关系人姓名, Assoc. Index Year, Assoc. Sex, Association, 联系, Address, 籍贯, X, Y, Assoc. Address, 联系人籍贯, Assoc. X, Assoc. Y, Kinship Relation, 亲属关系, Kin Name, 亲戚姓名, Assoc. Kinship Rel., 关系人的亲属关系, Assoc. Kin Name, 关系人的亲戚姓名, Distance 距离, Person ID, Assoc ID, 指数年之差]\n",
       "Index: []\n",
       "\n",
       "[0 rows x 30 columns]"
      ]
     },
     "execution_count": 91,
     "metadata": {},
     "output_type": "execute_result"
    }
   ],
   "source": [
    "df_temp = relation[relation['亲戚姓名'].isin(list_)]\n",
    "df_temp"
   ]
  },
  {
   "cell_type": "code",
   "execution_count": 94,
   "metadata": {},
   "outputs": [],
   "source": [
    "b = officer & kin\n",
    "df_temp = kinship.query(\"亲戚姓名 in @b\")"
   ]
  },
  {
   "cell_type": "code",
   "execution_count": 95,
   "metadata": {},
   "outputs": [
    {
     "data": {
      "text/plain": [
       "亲戚姓名\n",
       "曾布      1\n",
       "曾肇      6\n",
       "王安石     1\n",
       "王安礼    21\n",
       "章綡      2\n",
       "章縡      2\n",
       "苏轼      7\n",
       "苏辙      7\n",
       "范仲淹    10\n",
       "范纯仁     8\n",
       "范纯礼    16\n",
       "赵祯      1\n",
       "赵顼      2\n",
       "韩忠彦     5\n",
       "韩琦      3\n",
       "Name: 姓名, dtype: int64"
      ]
     },
     "execution_count": 95,
     "metadata": {},
     "output_type": "execute_result"
    }
   ],
   "source": [
    "kinoff = df_temp.groupby('亲戚姓名')['姓名'].count()\n",
    "kinoff"
   ]
  },
  {
   "cell_type": "code",
   "execution_count": 103,
   "metadata": {},
   "outputs": [],
   "source": [
    "biao['亲戚为官数'] = kinoff\n",
    "biao = biao.fillna(0)\n",
    "biao\n",
    "biao.to_csv('./官员关系表.csv',encoding='utf_8_sig')\n"
   ]
  },
  {
   "cell_type": "code",
   "execution_count": 108,
   "metadata": {},
   "outputs": [
    {
     "data": {
      "text/html": [
       "<div>\n",
       "<style scoped>\n",
       "    .dataframe tbody tr th:only-of-type {\n",
       "        vertical-align: middle;\n",
       "    }\n",
       "\n",
       "    .dataframe tbody tr th {\n",
       "        vertical-align: top;\n",
       "    }\n",
       "\n",
       "    .dataframe thead th {\n",
       "        text-align: right;\n",
       "    }\n",
       "</style>\n",
       "<table border=\"1\" class=\"dataframe\">\n",
       "  <thead>\n",
       "    <tr style=\"text-align: right;\">\n",
       "      <th></th>\n",
       "      <th>不合</th>\n",
       "      <th>反对/攻讦</th>\n",
       "      <th>得到Y的支持</th>\n",
       "      <th>支持</th>\n",
       "      <th>政见趋同</th>\n",
       "      <th>遭到Y的反对/攻讦</th>\n",
       "      <th>亲戚为官数</th>\n",
       "    </tr>\n",
       "    <tr>\n",
       "      <th>姓名</th>\n",
       "      <th></th>\n",
       "      <th></th>\n",
       "      <th></th>\n",
       "      <th></th>\n",
       "      <th></th>\n",
       "      <th></th>\n",
       "      <th></th>\n",
       "    </tr>\n",
       "  </thead>\n",
       "  <tbody>\n",
       "    <tr>\n",
       "      <th>丁谓</th>\n",
       "      <td>0.0</td>\n",
       "      <td>0.0</td>\n",
       "      <td>1.0</td>\n",
       "      <td>1.0</td>\n",
       "      <td>0.0</td>\n",
       "      <td>4.0</td>\n",
       "      <td>0.0</td>\n",
       "    </tr>\n",
       "    <tr>\n",
       "      <th>万俟卨</th>\n",
       "      <td>0.0</td>\n",
       "      <td>0.0</td>\n",
       "      <td>0.0</td>\n",
       "      <td>1.0</td>\n",
       "      <td>0.0</td>\n",
       "      <td>0.0</td>\n",
       "      <td>0.0</td>\n",
       "    </tr>\n",
       "    <tr>\n",
       "      <th>令狐挻</th>\n",
       "      <td>0.0</td>\n",
       "      <td>0.0</td>\n",
       "      <td>0.0</td>\n",
       "      <td>1.0</td>\n",
       "      <td>0.0</td>\n",
       "      <td>0.0</td>\n",
       "      <td>0.0</td>\n",
       "    </tr>\n",
       "    <tr>\n",
       "      <th>何执中</th>\n",
       "      <td>0.0</td>\n",
       "      <td>0.0</td>\n",
       "      <td>0.0</td>\n",
       "      <td>0.0</td>\n",
       "      <td>0.0</td>\n",
       "      <td>2.0</td>\n",
       "      <td>0.0</td>\n",
       "    </tr>\n",
       "    <tr>\n",
       "      <th>余靖</th>\n",
       "      <td>0.0</td>\n",
       "      <td>0.0</td>\n",
       "      <td>2.0</td>\n",
       "      <td>1.0</td>\n",
       "      <td>2.0</td>\n",
       "      <td>1.0</td>\n",
       "      <td>0.0</td>\n",
       "    </tr>\n",
       "    <tr>\n",
       "      <th>...</th>\n",
       "      <td>...</td>\n",
       "      <td>...</td>\n",
       "      <td>...</td>\n",
       "      <td>...</td>\n",
       "      <td>...</td>\n",
       "      <td>...</td>\n",
       "      <td>...</td>\n",
       "    </tr>\n",
       "    <tr>\n",
       "      <th>高登</th>\n",
       "      <td>0.0</td>\n",
       "      <td>1.0</td>\n",
       "      <td>0.0</td>\n",
       "      <td>2.0</td>\n",
       "      <td>0.0</td>\n",
       "      <td>0.0</td>\n",
       "      <td>0.0</td>\n",
       "    </tr>\n",
       "    <tr>\n",
       "      <th>高若讷</th>\n",
       "      <td>0.0</td>\n",
       "      <td>1.0</td>\n",
       "      <td>0.0</td>\n",
       "      <td>0.0</td>\n",
       "      <td>0.0</td>\n",
       "      <td>1.0</td>\n",
       "      <td>0.0</td>\n",
       "    </tr>\n",
       "    <tr>\n",
       "      <th>鲁宗道</th>\n",
       "      <td>0.0</td>\n",
       "      <td>0.0</td>\n",
       "      <td>1.0</td>\n",
       "      <td>0.0</td>\n",
       "      <td>0.0</td>\n",
       "      <td>0.0</td>\n",
       "      <td>0.0</td>\n",
       "    </tr>\n",
       "    <tr>\n",
       "      <th>黄庭坚</th>\n",
       "      <td>0.0</td>\n",
       "      <td>0.0</td>\n",
       "      <td>0.0</td>\n",
       "      <td>0.0</td>\n",
       "      <td>0.0</td>\n",
       "      <td>1.0</td>\n",
       "      <td>0.0</td>\n",
       "    </tr>\n",
       "    <tr>\n",
       "      <th>黄策</th>\n",
       "      <td>0.0</td>\n",
       "      <td>1.0</td>\n",
       "      <td>0.0</td>\n",
       "      <td>0.0</td>\n",
       "      <td>0.0</td>\n",
       "      <td>0.0</td>\n",
       "      <td>0.0</td>\n",
       "    </tr>\n",
       "  </tbody>\n",
       "</table>\n",
       "<p>188 rows × 7 columns</p>\n",
       "</div>"
      ],
      "text/plain": [
       "      不合  反对/攻讦  得到Y的支持   支持  政见趋同  遭到Y的反对/攻讦  亲戚为官数\n",
       "姓名                                                  \n",
       "丁谓   0.0    0.0     1.0  1.0   0.0        4.0    0.0\n",
       "万俟卨  0.0    0.0     0.0  1.0   0.0        0.0    0.0\n",
       "令狐挻  0.0    0.0     0.0  1.0   0.0        0.0    0.0\n",
       "何执中  0.0    0.0     0.0  0.0   0.0        2.0    0.0\n",
       "余靖   0.0    0.0     2.0  1.0   2.0        1.0    0.0\n",
       "..   ...    ...     ...  ...   ...        ...    ...\n",
       "高登   0.0    1.0     0.0  2.0   0.0        0.0    0.0\n",
       "高若讷  0.0    1.0     0.0  0.0   0.0        1.0    0.0\n",
       "鲁宗道  0.0    0.0     1.0  0.0   0.0        0.0    0.0\n",
       "黄庭坚  0.0    0.0     0.0  0.0   0.0        1.0    0.0\n",
       "黄策   0.0    1.0     0.0  0.0   0.0        0.0    0.0\n",
       "\n",
       "[188 rows x 7 columns]"
      ]
     },
     "execution_count": 108,
     "metadata": {},
     "output_type": "execute_result"
    }
   ],
   "source": [
    "df8 = pd.read_csv('./官员关系表.csv')\n",
    "df8 = df8.set_index('姓名')\n",
    "df8"
   ]
  },
  {
   "cell_type": "code",
   "execution_count": 109,
   "metadata": {},
   "outputs": [
    {
     "name": "stderr",
     "output_type": "stream",
     "text": [
      "c:\\ProgramData\\Anaconda3\\lib\\site-packages\\sklearn\\cluster\\_kmeans.py:870: FutureWarning: The default value of `n_init` will change from 10 to 'auto' in 1.4. Set the value of `n_init` explicitly to suppress the warning\n",
      "  warnings.warn(\n"
     ]
    },
    {
     "data": {
      "text/plain": [
       "array([0, 0, 0, 0, 0, 0, 0, 0, 0, 0, 0, 0, 0, 0, 0, 1, 0, 0, 0, 0, 0, 0,\n",
       "       0, 0, 0, 0, 0, 0, 0, 0, 0, 0, 0, 0, 0, 0, 0, 0, 0, 0, 0, 0, 0, 0,\n",
       "       0, 0, 0, 0, 0, 0, 0, 0, 0, 0, 0, 0, 0, 0, 0, 0, 0, 0, 0, 0, 0, 0,\n",
       "       0, 0, 0, 0, 0, 0, 0, 0, 0, 0, 0, 0, 0, 0, 0, 0, 0, 0, 0, 0, 0, 0,\n",
       "       0, 0, 0, 0, 0, 0, 0, 0, 1, 0, 0, 0, 0, 0, 0, 0, 0, 0, 0, 0, 0, 0,\n",
       "       0, 0, 1, 0, 0, 0, 0, 1, 0, 0, 0, 0, 0, 0, 0, 0, 0, 0, 0, 0, 0, 0,\n",
       "       0, 0, 0, 0, 0, 0, 0, 0, 0, 0, 0, 0, 0, 0, 0, 0, 0, 0, 0, 0, 0, 0,\n",
       "       0, 0, 0, 0, 0, 0, 0, 0, 0, 0, 0, 0, 0, 0, 0, 0, 0, 0, 0, 0, 0, 0,\n",
       "       0, 0, 0, 0, 0, 0, 0, 0, 0, 0, 0, 0])"
      ]
     },
     "execution_count": 109,
     "metadata": {},
     "output_type": "execute_result"
    }
   ],
   "source": [
    "from sklearn.cluster import KMeans\n",
    "KMeans(n_clusters = 2,random_state = 0).fit_predict(df8)"
   ]
  },
  {
   "cell_type": "code",
   "execution_count": 111,
   "metadata": {},
   "outputs": [
    {
     "name": "stderr",
     "output_type": "stream",
     "text": [
      "c:\\ProgramData\\Anaconda3\\lib\\site-packages\\sklearn\\cluster\\_kmeans.py:870: FutureWarning: The default value of `n_init` will change from 10 to 'auto' in 1.4. Set the value of `n_init` explicitly to suppress the warning\n",
      "  warnings.warn(\n"
     ]
    },
    {
     "data": {
      "text/html": [
       "<div>\n",
       "<style scoped>\n",
       "    .dataframe tbody tr th:only-of-type {\n",
       "        vertical-align: middle;\n",
       "    }\n",
       "\n",
       "    .dataframe tbody tr th {\n",
       "        vertical-align: top;\n",
       "    }\n",
       "\n",
       "    .dataframe thead th {\n",
       "        text-align: right;\n",
       "    }\n",
       "</style>\n",
       "<table border=\"1\" class=\"dataframe\">\n",
       "  <thead>\n",
       "    <tr style=\"text-align: right;\">\n",
       "      <th></th>\n",
       "      <th>不合</th>\n",
       "      <th>反对/攻讦</th>\n",
       "      <th>得到Y的支持</th>\n",
       "      <th>支持</th>\n",
       "      <th>政见趋同</th>\n",
       "      <th>遭到Y的反对/攻讦</th>\n",
       "      <th>亲戚为官数</th>\n",
       "      <th>聚类标签</th>\n",
       "    </tr>\n",
       "    <tr>\n",
       "      <th>姓名</th>\n",
       "      <th></th>\n",
       "      <th></th>\n",
       "      <th></th>\n",
       "      <th></th>\n",
       "      <th></th>\n",
       "      <th></th>\n",
       "      <th></th>\n",
       "      <th></th>\n",
       "    </tr>\n",
       "  </thead>\n",
       "  <tbody>\n",
       "    <tr>\n",
       "      <th>丁谓</th>\n",
       "      <td>0.0</td>\n",
       "      <td>0.0</td>\n",
       "      <td>1.0</td>\n",
       "      <td>1.0</td>\n",
       "      <td>0.0</td>\n",
       "      <td>4.0</td>\n",
       "      <td>0.0</td>\n",
       "      <td>0</td>\n",
       "    </tr>\n",
       "    <tr>\n",
       "      <th>万俟卨</th>\n",
       "      <td>0.0</td>\n",
       "      <td>0.0</td>\n",
       "      <td>0.0</td>\n",
       "      <td>1.0</td>\n",
       "      <td>0.0</td>\n",
       "      <td>0.0</td>\n",
       "      <td>0.0</td>\n",
       "      <td>0</td>\n",
       "    </tr>\n",
       "    <tr>\n",
       "      <th>令狐挻</th>\n",
       "      <td>0.0</td>\n",
       "      <td>0.0</td>\n",
       "      <td>0.0</td>\n",
       "      <td>1.0</td>\n",
       "      <td>0.0</td>\n",
       "      <td>0.0</td>\n",
       "      <td>0.0</td>\n",
       "      <td>0</td>\n",
       "    </tr>\n",
       "    <tr>\n",
       "      <th>何执中</th>\n",
       "      <td>0.0</td>\n",
       "      <td>0.0</td>\n",
       "      <td>0.0</td>\n",
       "      <td>0.0</td>\n",
       "      <td>0.0</td>\n",
       "      <td>2.0</td>\n",
       "      <td>0.0</td>\n",
       "      <td>0</td>\n",
       "    </tr>\n",
       "    <tr>\n",
       "      <th>余靖</th>\n",
       "      <td>0.0</td>\n",
       "      <td>0.0</td>\n",
       "      <td>2.0</td>\n",
       "      <td>1.0</td>\n",
       "      <td>2.0</td>\n",
       "      <td>1.0</td>\n",
       "      <td>0.0</td>\n",
       "      <td>0</td>\n",
       "    </tr>\n",
       "  </tbody>\n",
       "</table>\n",
       "</div>"
      ],
      "text/plain": [
       "      不合  反对/攻讦  得到Y的支持   支持  政见趋同  遭到Y的反对/攻讦  亲戚为官数  聚类标签\n",
       "姓名                                                        \n",
       "丁谓   0.0    0.0     1.0  1.0   0.0        4.0    0.0     0\n",
       "万俟卨  0.0    0.0     0.0  1.0   0.0        0.0    0.0     0\n",
       "令狐挻  0.0    0.0     0.0  1.0   0.0        0.0    0.0     0\n",
       "何执中  0.0    0.0     0.0  0.0   0.0        2.0    0.0     0\n",
       "余靖   0.0    0.0     2.0  1.0   2.0        1.0    0.0     0"
      ]
     },
     "execution_count": 111,
     "metadata": {},
     "output_type": "execute_result"
    }
   ],
   "source": [
    "df8['聚类标签'] = KMeans(n_clusters = 2,random_state = 0).fit_predict(df8)\n",
    "df8.head()"
   ]
  },
  {
   "cell_type": "code",
   "execution_count": 112,
   "metadata": {},
   "outputs": [
    {
     "data": {
      "text/plain": [
       "0    184\n",
       "1      4\n",
       "Name: 聚类标签, dtype: int64"
      ]
     },
     "execution_count": 112,
     "metadata": {},
     "output_type": "execute_result"
    }
   ],
   "source": [
    "df8['聚类标签'].value_counts()"
   ]
  },
  {
   "cell_type": "code",
   "execution_count": 114,
   "metadata": {},
   "outputs": [
    {
     "name": "stderr",
     "output_type": "stream",
     "text": [
      "c:\\ProgramData\\Anaconda3\\lib\\site-packages\\sklearn\\cluster\\_kmeans.py:870: FutureWarning: The default value of `n_init` will change from 10 to 'auto' in 1.4. Set the value of `n_init` explicitly to suppress the warning\n",
      "  warnings.warn(\n"
     ]
    },
    {
     "data": {
      "text/plain": [
       "array([0, 0, 0, 0, 0, 0, 0, 0, 0, 0, 0, 0, 0, 0, 0, 1, 0, 0, 0, 0, 0, 0,\n",
       "       0, 0, 0, 0, 0, 0, 0, 0, 0, 0, 0, 0, 0, 0, 0, 0, 0, 0, 0, 0, 0, 0,\n",
       "       0, 0, 0, 0, 0, 0, 0, 0, 0, 0, 0, 0, 0, 0, 0, 0, 0, 0, 0, 0, 2, 0,\n",
       "       0, 0, 0, 0, 0, 0, 0, 0, 0, 0, 0, 0, 0, 0, 0, 0, 0, 0, 0, 0, 0, 0,\n",
       "       0, 0, 0, 0, 0, 0, 0, 0, 1, 2, 0, 0, 0, 0, 0, 0, 0, 0, 0, 0, 0, 0,\n",
       "       0, 0, 1, 0, 0, 0, 0, 1, 0, 0, 0, 0, 0, 0, 0, 0, 0, 0, 2, 2, 0, 2,\n",
       "       0, 0, 0, 0, 0, 0, 2, 2, 0, 0, 0, 0, 0, 0, 0, 0, 0, 0, 0, 0, 0, 0,\n",
       "       0, 0, 0, 0, 0, 0, 0, 0, 0, 0, 0, 0, 0, 0, 0, 0, 0, 0, 0, 0, 0, 0,\n",
       "       0, 0, 0, 0, 0, 0, 0, 0, 0, 0, 0, 0])"
      ]
     },
     "execution_count": 114,
     "metadata": {},
     "output_type": "execute_result"
    }
   ],
   "source": [
    "KMeans(n_clusters = 3,random_state = 0).fit_predict(df8)"
   ]
  }
 ],
 "metadata": {
  "kernelspec": {
   "display_name": "base",
   "language": "python",
   "name": "python3"
  },
  "language_info": {
   "codemirror_mode": {
    "name": "ipython",
    "version": 3
   },
   "file_extension": ".py",
   "mimetype": "text/x-python",
   "name": "python",
   "nbconvert_exporter": "python",
   "pygments_lexer": "ipython3",
   "version": "3.10.9"
  },
  "orig_nbformat": 4
 },
 "nbformat": 4,
 "nbformat_minor": 2
}
