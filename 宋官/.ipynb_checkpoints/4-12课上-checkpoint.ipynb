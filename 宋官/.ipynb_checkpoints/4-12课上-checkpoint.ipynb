{
 "cells": [
  {
   "cell_type": "code",
   "execution_count": 1,
   "metadata": {},
   "outputs": [],
   "source": [
    "import pandas as pd"
   ]
  },
  {
   "cell_type": "code",
   "execution_count": 2,
   "metadata": {},
   "outputs": [],
   "source": [
    "relation = pd.read_csv('./officer_relationship_song.csv')\n",
    "kinship = pd.read_csv('./officer_kinship_song.csv')"
   ]
  },
  {
   "cell_type": "code",
   "execution_count": 3,
   "metadata": {},
   "outputs": [
    {
     "data": {
      "text/plain": [
       "array(['安惇', '陈戬', '程瑀', '张商英', '章惇', '周嘉正', '范如圭', '韩缜', '许将', '寇准',\n",
       "       '高若讷', '郭贽', '郭知章', '李师中', '李迪', '吕颐浩', '潘良贵', '彭汝砺', '彭思永', '施昌言',\n",
       "       '司马光', '苏辙', '孙固', '蔡承禧', '曾布', '王纶', '吴懋', '邹浩', '范祖禹', '刘安世',\n",
       "       '吕诲', '陈瓘', '师骥', '秦桧', '赵普', '赵鼎', '朱胜非', '胡宿', '李处耘', '李光', '李邴',\n",
       "       '吕夷简', '马知节', '王旦', '岳飞', '洪皓', '刘筠', '陈次升', '高氏(赵曙妻)', '杨徽之',\n",
       "       '叶祖洽', '邢焕', '黄策', '刘氏(赵恒皇后)', '王公彦', '高登', '李宾王', '唐重', '陈执中',\n",
       "       '程琳', '范纯仁', '范纯礼', '韩忠彦', '夏竦', '向子諲', '胡宗愈', '吕惠卿', '吕大防', '皮公弼',\n",
       "       '丁谓', '王安石', '王钦若', '王畴', '王珪', '王尧臣', '晏殊', '胡瑗', '苏轼', '曾肇',\n",
       "       '黄庭坚', '柳瑊', '柴禹锡', '秦熺', '郑雍', '贾昌朝', '种师道', '何执中', '李纲', '李邦彦',\n",
       "       '卢多逊', '汪伯彦', '王黼', '王显', '杨愿', '余靖', '向宗良', '苗傅', '张康国', '周敦颐',\n",
       "       '富弼', '韩琦', '胡则', '潘美', '祖无择', '杜衍', '程颐', '章縡', '宋乔年', '宗泽',\n",
       "       '常安民', '贾蕃', '苏舜钦', '尹洙', '章綡', '江褒', '郑居中', '范仲淹', '鲁宗道', '狄青',\n",
       "       '曹利用', '温益', '赵匡胤', '赵祯', '张载', '张扩', '郑侠', '孟彦卿', '孟氏(赵煦妻)', '刘錡',\n",
       "       '李氏(赵祯母)', '马伸', '范琼', '施庭臣', '张士逊', '范同', '冯京', '薛奎', '万俟卨',\n",
       "       '沈季长', '苏安世', '王安礼', '王祖道', '吴充', '杨畏', '萧服', '高琼', '曹修古', '张邵',\n",
       "       '赵槩', '范宗尹', '韩世忠', '邓洵武', '赵顼', '胡宪', '郑獬', '郑刚中', '石介', '常秩',\n",
       "       '邓肃', '句龙如渊', '李渭', '令狐挻', '陈若拙', '陈尧佐', '张知白', '张逊', '赵玭', '赵抃',\n",
       "       '李弥大', '沈辽', '孙览', '杨覃', '范镇', '王震', '胥偃', '侯蒙', '吴玠', '汪藻', '张九成',\n",
       "       '邵伯温', '范濬', '薛弼', '唐介', '杨偕', '安扶', '孔道辅', '刘安上', '韩熙载'],\n",
       "      dtype=object)"
      ]
     },
     "execution_count": 3,
     "metadata": {},
     "output_type": "execute_result"
    }
   ],
   "source": [
    "relation['姓名'].unique()"
   ]
  },
  {
   "cell_type": "code",
   "execution_count": 4,
   "metadata": {},
   "outputs": [
    {
     "data": {
      "text/html": [
       "<div>\n",
       "<style scoped>\n",
       "    .dataframe tbody tr th:only-of-type {\n",
       "        vertical-align: middle;\n",
       "    }\n",
       "\n",
       "    .dataframe tbody tr th {\n",
       "        vertical-align: top;\n",
       "    }\n",
       "\n",
       "    .dataframe thead th {\n",
       "        text-align: right;\n",
       "    }\n",
       "</style>\n",
       "<table border=\"1\" class=\"dataframe\">\n",
       "  <thead>\n",
       "    <tr style=\"text-align: right;\">\n",
       "      <th></th>\n",
       "      <th>Name</th>\n",
       "      <th>姓名</th>\n",
       "      <th>Kin Name</th>\n",
       "      <th>亲戚姓名</th>\n",
       "      <th>Kinship</th>\n",
       "    </tr>\n",
       "  </thead>\n",
       "  <tbody>\n",
       "    <tr>\n",
       "      <th>0</th>\n",
       "      <td>An Dun</td>\n",
       "      <td>安惇</td>\n",
       "      <td>An Fang</td>\n",
       "      <td>安邡</td>\n",
       "      <td>S</td>\n",
       "    </tr>\n",
       "    <tr>\n",
       "      <th>1</th>\n",
       "      <td>An Dun</td>\n",
       "      <td>安惇</td>\n",
       "      <td>An Fang</td>\n",
       "      <td>安邡</td>\n",
       "      <td>S</td>\n",
       "    </tr>\n",
       "    <tr>\n",
       "      <th>2</th>\n",
       "      <td>An Dun</td>\n",
       "      <td>安惇</td>\n",
       "      <td>An Fang</td>\n",
       "      <td>安邡</td>\n",
       "      <td>S</td>\n",
       "    </tr>\n",
       "    <tr>\n",
       "      <th>3</th>\n",
       "      <td>An Dun</td>\n",
       "      <td>安惇</td>\n",
       "      <td>An Fang</td>\n",
       "      <td>安邡</td>\n",
       "      <td>S</td>\n",
       "    </tr>\n",
       "    <tr>\n",
       "      <th>4</th>\n",
       "      <td>An Dun</td>\n",
       "      <td>安惇</td>\n",
       "      <td>An Fang</td>\n",
       "      <td>安邡</td>\n",
       "      <td>S</td>\n",
       "    </tr>\n",
       "    <tr>\n",
       "      <th>...</th>\n",
       "      <td>...</td>\n",
       "      <td>...</td>\n",
       "      <td>...</td>\n",
       "      <td>...</td>\n",
       "      <td>...</td>\n",
       "    </tr>\n",
       "    <tr>\n",
       "      <th>1940</th>\n",
       "      <td>Li Shi(Mother of Zhao Zhen)</td>\n",
       "      <td>李氏(赵祯母)</td>\n",
       "      <td>Li Rende</td>\n",
       "      <td>李仁德</td>\n",
       "      <td>F</td>\n",
       "    </tr>\n",
       "    <tr>\n",
       "      <th>1941</th>\n",
       "      <td>Li Shi(Mother of Zhao Zhen)</td>\n",
       "      <td>李氏(赵祯母)</td>\n",
       "      <td>Zhao Zhen</td>\n",
       "      <td>赵祯</td>\n",
       "      <td>S</td>\n",
       "    </tr>\n",
       "    <tr>\n",
       "      <th>1942</th>\n",
       "      <td>Li Shi(Mother of Zhao Zhen)</td>\n",
       "      <td>李氏(赵祯母)</td>\n",
       "      <td>Li Yonghe</td>\n",
       "      <td>李用和</td>\n",
       "      <td>B-</td>\n",
       "    </tr>\n",
       "    <tr>\n",
       "      <th>1943</th>\n",
       "      <td>Shi Tingchen</td>\n",
       "      <td>施庭臣</td>\n",
       "      <td>Shi Yuanran</td>\n",
       "      <td>施渊然</td>\n",
       "      <td>S</td>\n",
       "    </tr>\n",
       "    <tr>\n",
       "      <th>1944</th>\n",
       "      <td>Han Xizai</td>\n",
       "      <td>韩熙载</td>\n",
       "      <td>Han Guangsi</td>\n",
       "      <td>韩光嗣</td>\n",
       "      <td>F</td>\n",
       "    </tr>\n",
       "  </tbody>\n",
       "</table>\n",
       "<p>1945 rows × 5 columns</p>\n",
       "</div>"
      ],
      "text/plain": [
       "                             Name       姓名     Kin Name 亲戚姓名 Kinship\n",
       "0                          An Dun       安惇      An Fang   安邡       S\n",
       "1                          An Dun       安惇      An Fang   安邡       S\n",
       "2                          An Dun       安惇      An Fang   安邡       S\n",
       "3                          An Dun       安惇      An Fang   安邡       S\n",
       "4                          An Dun       安惇      An Fang   安邡       S\n",
       "...                           ...      ...          ...  ...     ...\n",
       "1940  Li Shi(Mother of Zhao Zhen)  李氏(赵祯母)     Li Rende  李仁德       F\n",
       "1941  Li Shi(Mother of Zhao Zhen)  李氏(赵祯母)    Zhao Zhen   赵祯       S\n",
       "1942  Li Shi(Mother of Zhao Zhen)  李氏(赵祯母)    Li Yonghe  李用和      B-\n",
       "1943                 Shi Tingchen      施庭臣  Shi Yuanran  施渊然       S\n",
       "1944                    Han Xizai      韩熙载  Han Guangsi  韩光嗣       F\n",
       "\n",
       "[1945 rows x 5 columns]"
      ]
     },
     "execution_count": 4,
     "metadata": {},
     "output_type": "execute_result"
    }
   ],
   "source": [
    "kinship"
   ]
  },
  {
   "cell_type": "code",
   "execution_count": 6,
   "metadata": {},
   "outputs": [
    {
     "data": {
      "text/plain": [
       "188"
      ]
     },
     "execution_count": 6,
     "metadata": {},
     "output_type": "execute_result"
    }
   ],
   "source": [
    "relation['姓名'].nunique()"
   ]
  },
  {
   "cell_type": "code",
   "execution_count": 7,
   "metadata": {},
   "outputs": [
    {
     "data": {
      "text/plain": [
       "Index(['Name', '姓名', 'Index year', 'Sex', 'Associate', '社会关系人姓名',\n",
       "       'Assoc. Index Year', 'Assoc. Sex', 'Association', '联系', 'Address', '籍贯',\n",
       "       'X', 'Y', 'Assoc. Address', '联系人籍贯', 'Assoc. X', 'Assoc. Y',\n",
       "       'Kinship Relation', '亲属关系', 'Kin Name', '亲戚姓名', 'Assoc. Kinship Rel.',\n",
       "       '关系人的亲属关系', 'Assoc. Kin Name', '关系人的亲戚姓名', 'Distance 距离', 'Person ID',\n",
       "       'Assoc ID'],\n",
       "      dtype='object')"
      ]
     },
     "execution_count": 7,
     "metadata": {},
     "output_type": "execute_result"
    }
   ],
   "source": [
    "relation.columns"
   ]
  },
  {
   "cell_type": "code",
   "execution_count": 8,
   "metadata": {},
   "outputs": [
    {
     "data": {
      "text/plain": [
       "312"
      ]
     },
     "execution_count": 8,
     "metadata": {},
     "output_type": "execute_result"
    }
   ],
   "source": [
    "relation['社会关系人姓名'].nunique()"
   ]
  },
  {
   "cell_type": "markdown",
   "metadata": {},
   "source": [
    "### 3.每个官员有多少个关系人"
   ]
  },
  {
   "cell_type": "code",
   "execution_count": 9,
   "metadata": {},
   "outputs": [
    {
     "ename": "NameError",
     "evalue": "name 'realation' is not defined",
     "output_type": "error",
     "traceback": [
      "\u001b[1;31m---------------------------------------------------------------------------\u001b[0m",
      "\u001b[1;31mNameError\u001b[0m                                 Traceback (most recent call last)",
      "Cell \u001b[1;32mIn[9], line 1\u001b[0m\n\u001b[1;32m----> 1\u001b[0m y \u001b[38;5;241m=\u001b[39m \u001b[43mrealation\u001b[49m\u001b[38;5;241m.\u001b[39mgroupby(\u001b[38;5;124m'\u001b[39m\u001b[38;5;124m姓名\u001b[39m\u001b[38;5;124m'\u001b[39m)[\u001b[38;5;124m'\u001b[39m\u001b[38;5;124m社会关系人姓名\u001b[39m\u001b[38;5;124m'\u001b[39m]\u001b[38;5;241m.\u001b[39mcount()\u001b[38;5;241m.\u001b[39msort_values(ascending \u001b[38;5;241m=\u001b[39m \u001b[38;5;28;01mFalse\u001b[39;00m)\n\u001b[0;32m      2\u001b[0m y\n",
      "\u001b[1;31mNameError\u001b[0m: name 'realation' is not defined"
     ]
    }
   ],
   "source": [
    "y = realation.groupby('姓名')['社会关系人姓名'].count().sort_values(ascending = False)\n",
    "y"
   ]
  },
  {
   "cell_type": "code",
   "execution_count": 10,
   "metadata": {},
   "outputs": [
    {
     "ename": "NameError",
     "evalue": "name 'y' is not defined",
     "output_type": "error",
     "traceback": [
      "\u001b[1;31m---------------------------------------------------------------------------\u001b[0m",
      "\u001b[1;31mNameError\u001b[0m                                 Traceback (most recent call last)",
      "Cell \u001b[1;32mIn[10], line 7\u001b[0m\n\u001b[0;32m      4\u001b[0m mpl\u001b[38;5;241m.\u001b[39mrcParams[\u001b[38;5;124m'\u001b[39m\u001b[38;5;124mfont.sans-serif\u001b[39m\u001b[38;5;124m'\u001b[39m]\u001b[38;5;241m=\u001b[39m[\u001b[38;5;124m'\u001b[39m\u001b[38;5;124mSimHei\u001b[39m\u001b[38;5;124m'\u001b[39m]  \u001b[38;5;66;03m# 结局字体问题\u001b[39;00m\n\u001b[0;32m      6\u001b[0m plt\u001b[38;5;241m.\u001b[39mtitle(\u001b[38;5;124m'\u001b[39m\u001b[38;5;124m官员-亲戚数量\u001b[39m\u001b[38;5;124m'\u001b[39m)\n\u001b[1;32m----> 7\u001b[0m bar \u001b[38;5;241m=\u001b[39m plt\u001b[38;5;241m.\u001b[39mbar(np\u001b[38;5;241m.\u001b[39marange(\u001b[38;5;28mlen\u001b[39m(\u001b[43my\u001b[49m)),y)\n\u001b[0;32m      8\u001b[0m plt\u001b[38;5;241m.\u001b[39mshow()\n",
      "\u001b[1;31mNameError\u001b[0m: name 'y' is not defined"
     ]
    },
    {
     "data": {
      "image/png": "[encoded data removed]",
      "text/plain": [
       "<Figure size 640x480 with 1 Axes>"
      ]
     },
     "metadata": {},
     "output_type": "display_data"
    }
   ],
   "source": [
    "import matplotlib.pyplot as plt\n",
    "import numpy as np\n",
    "from pylab import mpl\n",
    "mpl.rcParams['font.sans-serif']=['SimHei']  # 结局字体问题\n",
    "\n",
    "plt.title('官员-亲戚数量')\n",
    "bar = plt.bar(np.arange(len(y)),y)\n",
    "plt.show()"
   ]
  },
  {
   "cell_type": "code",
   "execution_count": null,
   "metadata": {},
   "outputs": [],
   "source": [
    "officer = set(relation['姓名'])\n",
    "associate = set(realation['社会关系人姓名'])\n",
    "kin = set(kinship['亲戚姓名'])"
   ]
  },
  {
   "cell_type": "code",
   "execution_count": null,
   "metadata": {},
   "outputs": [],
   "source": [
    "officer"
   ]
  },
  {
   "cell_type": "code",
   "execution_count": null,
   "metadata": {},
   "outputs": [],
   "source": [
    "!pip install matplotlib-venn"
   ]
  },
  {
   "cell_type": "code",
   "execution_count": null,
   "metadata": {},
   "outputs": [],
   "source": [
    "import matplotlib_venn as venn"
   ]
  },
  {
   "cell_type": "code",
   "execution_count": null,
   "metadata": {},
   "outputs": [],
   "source": [
    "venn.venn3([officer,associate,kin],set_labels=('官员','关系人','亲戚'))"
   ]
  },
  {
   "cell_type": "code",
   "execution_count": 11,
   "metadata": {},
   "outputs": [
    {
     "ename": "NameError",
     "evalue": "name 'officer' is not defined",
     "output_type": "error",
     "traceback": [
      "\u001b[1;31m---------------------------------------------------------------------------\u001b[0m",
      "\u001b[1;31mNameError\u001b[0m                                 Traceback (most recent call last)",
      "Cell \u001b[1;32mIn[11], line 1\u001b[0m\n\u001b[1;32m----> 1\u001b[0m \u001b[43mofficer\u001b[49m\u001b[38;5;241m&\u001b[39massociate\u001b[38;5;241m&\u001b[39mkin\n",
      "\u001b[1;31mNameError\u001b[0m: name 'officer' is not defined"
     ]
    }
   ],
   "source": [
    "officer&associate&kin"
   ]
  },
  {
   "cell_type": "code",
   "execution_count": 12,
   "metadata": {},
   "outputs": [
    {
     "data": {
      "text/plain": [
       "Index(['Name', '姓名', 'Index year', 'Sex', 'Associate', '社会关系人姓名',\n",
       "       'Assoc. Index Year', 'Assoc. Sex', 'Association', '联系', 'Address', '籍贯',\n",
       "       'X', 'Y', 'Assoc. Address', '联系人籍贯', 'Assoc. X', 'Assoc. Y',\n",
       "       'Kinship Relation', '亲属关系', 'Kin Name', '亲戚姓名', 'Assoc. Kinship Rel.',\n",
       "       '关系人的亲属关系', 'Assoc. Kin Name', '关系人的亲戚姓名', 'Distance 距离', 'Person ID',\n",
       "       'Assoc ID'],\n",
       "      dtype='object')"
      ]
     },
     "execution_count": 12,
     "metadata": {},
     "output_type": "execute_result"
    }
   ],
   "source": [
    "relation.columns"
   ]
  },
  {
   "cell_type": "code",
   "execution_count": 13,
   "metadata": {},
   "outputs": [
    {
     "data": {
      "text/plain": [
       "1008"
      ]
     },
     "execution_count": 13,
     "metadata": {},
     "output_type": "execute_result"
    }
   ],
   "source": [
    "relation.groupby('Index year')['姓名'].nunique().sort_values(ascending = False).idxmax()"
   ]
  },
  {
   "cell_type": "code",
   "execution_count": 14,
   "metadata": {},
   "outputs": [
    {
     "ename": "NameError",
     "evalue": "name 'realation' is not defined",
     "output_type": "error",
     "traceback": [
      "\u001b[1;31m---------------------------------------------------------------------------\u001b[0m",
      "\u001b[1;31mNameError\u001b[0m                                 Traceback (most recent call last)",
      "Cell \u001b[1;32mIn[14], line 1\u001b[0m\n\u001b[1;32m----> 1\u001b[0m \u001b[43mrealation\u001b[49m\u001b[38;5;241m.\u001b[39mquery(\u001b[38;5;124m\"\u001b[39m\u001b[38;5;124m`Index year` == 1008\u001b[39m\u001b[38;5;124m\"\u001b[39m)\n",
      "\u001b[1;31mNameError\u001b[0m: name 'realation' is not defined"
     ]
    }
   ],
   "source": [
    "realation.query(\"`Index year` == 1008\")"
   ]
  },
  {
   "cell_type": "code",
   "execution_count": 15,
   "metadata": {},
   "outputs": [
    {
     "data": {
      "text/html": [
       "<div>\n",
       "<style scoped>\n",
       "    .dataframe tbody tr th:only-of-type {\n",
       "        vertical-align: middle;\n",
       "    }\n",
       "\n",
       "    .dataframe tbody tr th {\n",
       "        vertical-align: top;\n",
       "    }\n",
       "\n",
       "    .dataframe thead th {\n",
       "        text-align: right;\n",
       "    }\n",
       "</style>\n",
       "<table border=\"1\" class=\"dataframe\">\n",
       "  <thead>\n",
       "    <tr style=\"text-align: right;\">\n",
       "      <th></th>\n",
       "      <th>Name</th>\n",
       "      <th>姓名</th>\n",
       "      <th>Index year</th>\n",
       "      <th>Associate</th>\n",
       "      <th>社会关系人姓名</th>\n",
       "      <th>Assoc. Index Year</th>\n",
       "      <th>Assoc. Sex</th>\n",
       "      <th>Association</th>\n",
       "      <th>联系</th>\n",
       "      <th>Address</th>\n",
       "      <th>...</th>\n",
       "      <th>亲属关系</th>\n",
       "      <th>Kin Name</th>\n",
       "      <th>亲戚姓名</th>\n",
       "      <th>Assoc. Kinship Rel.</th>\n",
       "      <th>关系人的亲属关系</th>\n",
       "      <th>Assoc. Kin Name</th>\n",
       "      <th>关系人的亲戚姓名</th>\n",
       "      <th>Distance 距离</th>\n",
       "      <th>Person ID</th>\n",
       "      <th>Assoc ID</th>\n",
       "    </tr>\n",
       "  </thead>\n",
       "  <tbody>\n",
       "    <tr>\n",
       "      <th>0</th>\n",
       "      <td>An Dun</td>\n",
       "      <td>安惇</td>\n",
       "      <td>1042</td>\n",
       "      <td>Zou Hao</td>\n",
       "      <td>邹浩</td>\n",
       "      <td>1060.0</td>\n",
       "      <td>M</td>\n",
       "      <td>Opposed or attacked</td>\n",
       "      <td>反对/攻讦</td>\n",
       "      <td>Qujiang</td>\n",
       "      <td>...</td>\n",
       "      <td>未详</td>\n",
       "      <td>Wei Xiang</td>\n",
       "      <td>未详</td>\n",
       "      <td>U</td>\n",
       "      <td>未详</td>\n",
       "      <td>Wei Xiang</td>\n",
       "      <td>未详</td>\n",
       "      <td>1275.341259</td>\n",
       "      <td>1</td>\n",
       "      <td>3888</td>\n",
       "    </tr>\n",
       "    <tr>\n",
       "      <th>1</th>\n",
       "      <td>An Dun</td>\n",
       "      <td>安惇</td>\n",
       "      <td>1042</td>\n",
       "      <td>Zhang Shiliang</td>\n",
       "      <td>张士良</td>\n",
       "      <td>NaN</td>\n",
       "      <td>M</td>\n",
       "      <td>Opposed or attacked</td>\n",
       "      <td>反对/攻讦</td>\n",
       "      <td>Qujiang</td>\n",
       "      <td>...</td>\n",
       "      <td>未详</td>\n",
       "      <td>Wei Xiang</td>\n",
       "      <td>未详</td>\n",
       "      <td>U</td>\n",
       "      <td>未详</td>\n",
       "      <td>Wei Xiang</td>\n",
       "      <td>未详</td>\n",
       "      <td>NaN</td>\n",
       "      <td>1</td>\n",
       "      <td>25065</td>\n",
       "    </tr>\n",
       "    <tr>\n",
       "      <th>2</th>\n",
       "      <td>Chen Jian(2)</td>\n",
       "      <td>陈戬</td>\n",
       "      <td>1081</td>\n",
       "      <td>Tong Guan</td>\n",
       "      <td>童贯</td>\n",
       "      <td>1054.0</td>\n",
       "      <td>M</td>\n",
       "      <td>Opposed or attacked</td>\n",
       "      <td>反对/攻讦</td>\n",
       "      <td>Songxi</td>\n",
       "      <td>...</td>\n",
       "      <td>未详</td>\n",
       "      <td>Wei Xiang</td>\n",
       "      <td>未详</td>\n",
       "      <td>U</td>\n",
       "      <td>未详</td>\n",
       "      <td>Wei Xiang</td>\n",
       "      <td>未详</td>\n",
       "      <td>910.189663</td>\n",
       "      <td>31</td>\n",
       "      <td>8124</td>\n",
       "    </tr>\n",
       "    <tr>\n",
       "      <th>3</th>\n",
       "      <td>Cheng Yu</td>\n",
       "      <td>程瑀</td>\n",
       "      <td>1087</td>\n",
       "      <td>Wu Min</td>\n",
       "      <td>吴敏</td>\n",
       "      <td>1087.0</td>\n",
       "      <td>M</td>\n",
       "      <td>Opposed or attacked</td>\n",
       "      <td>反对/攻讦</td>\n",
       "      <td>Fuliang</td>\n",
       "      <td>...</td>\n",
       "      <td>未详</td>\n",
       "      <td>Wei Xiang</td>\n",
       "      <td>未详</td>\n",
       "      <td>U</td>\n",
       "      <td>未详</td>\n",
       "      <td>Wei Xiang</td>\n",
       "      <td>未详</td>\n",
       "      <td>370.461638</td>\n",
       "      <td>128</td>\n",
       "      <td>8163</td>\n",
       "    </tr>\n",
       "    <tr>\n",
       "      <th>4</th>\n",
       "      <td>Zhang Shangying</td>\n",
       "      <td>张商英</td>\n",
       "      <td>1043</td>\n",
       "      <td>Sima Guang</td>\n",
       "      <td>司马光</td>\n",
       "      <td>1019.0</td>\n",
       "      <td>M</td>\n",
       "      <td>Opposed or attacked</td>\n",
       "      <td>反对/攻讦</td>\n",
       "      <td>Xinjin</td>\n",
       "      <td>...</td>\n",
       "      <td>未详</td>\n",
       "      <td>Wei Xiang</td>\n",
       "      <td>未详</td>\n",
       "      <td>U</td>\n",
       "      <td>未详</td>\n",
       "      <td>Wei Xiang</td>\n",
       "      <td>未详</td>\n",
       "      <td>868.170971</td>\n",
       "      <td>272</td>\n",
       "      <td>1488</td>\n",
       "    </tr>\n",
       "    <tr>\n",
       "      <th>...</th>\n",
       "      <td>...</td>\n",
       "      <td>...</td>\n",
       "      <td>...</td>\n",
       "      <td>...</td>\n",
       "      <td>...</td>\n",
       "      <td>...</td>\n",
       "      <td>...</td>\n",
       "      <td>...</td>\n",
       "      <td>...</td>\n",
       "      <td>...</td>\n",
       "      <td>...</td>\n",
       "      <td>...</td>\n",
       "      <td>...</td>\n",
       "      <td>...</td>\n",
       "      <td>...</td>\n",
       "      <td>...</td>\n",
       "      <td>...</td>\n",
       "      <td>...</td>\n",
       "      <td>...</td>\n",
       "      <td>...</td>\n",
       "      <td>...</td>\n",
       "    </tr>\n",
       "    <tr>\n",
       "      <th>501</th>\n",
       "      <td>Yu Jing</td>\n",
       "      <td>余靖</td>\n",
       "      <td>1000</td>\n",
       "      <td>Ouyang Xiu</td>\n",
       "      <td>欧阳修</td>\n",
       "      <td>1007.0</td>\n",
       "      <td>M</td>\n",
       "      <td>Agreed with views of</td>\n",
       "      <td>政见趋同</td>\n",
       "      <td>Qujiang</td>\n",
       "      <td>...</td>\n",
       "      <td>未详</td>\n",
       "      <td>Wei Xiang</td>\n",
       "      <td>未详</td>\n",
       "      <td>U</td>\n",
       "      <td>未详</td>\n",
       "      <td>Wei Xiang</td>\n",
       "      <td>未详</td>\n",
       "      <td>1066.098438</td>\n",
       "      <td>12319</td>\n",
       "      <td>1384</td>\n",
       "    </tr>\n",
       "    <tr>\n",
       "      <th>502</th>\n",
       "      <td>Yu Jing</td>\n",
       "      <td>余靖</td>\n",
       "      <td>1000</td>\n",
       "      <td>Yin Zhu</td>\n",
       "      <td>尹洙</td>\n",
       "      <td>1001.0</td>\n",
       "      <td>M</td>\n",
       "      <td>Agreed with views of</td>\n",
       "      <td>政见趋同</td>\n",
       "      <td>Qujiang</td>\n",
       "      <td>...</td>\n",
       "      <td>未详</td>\n",
       "      <td>Wei Xiang</td>\n",
       "      <td>未详</td>\n",
       "      <td>U</td>\n",
       "      <td>未详</td>\n",
       "      <td>Wei Xiang</td>\n",
       "      <td>未详</td>\n",
       "      <td>1102.124909</td>\n",
       "      <td>12319</td>\n",
       "      <td>7104</td>\n",
       "    </tr>\n",
       "    <tr>\n",
       "      <th>503</th>\n",
       "      <td>Kong Daofu</td>\n",
       "      <td>孔道辅</td>\n",
       "      <td>986</td>\n",
       "      <td>Yang Xie</td>\n",
       "      <td>杨偕</td>\n",
       "      <td>980.0</td>\n",
       "      <td>M</td>\n",
       "      <td>Agreed with views of</td>\n",
       "      <td>政见趋同</td>\n",
       "      <td>Xianyuan</td>\n",
       "      <td>...</td>\n",
       "      <td>未详</td>\n",
       "      <td>Wei Xiang</td>\n",
       "      <td>未详</td>\n",
       "      <td>U</td>\n",
       "      <td>未详</td>\n",
       "      <td>Wei Xiang</td>\n",
       "      <td>未详</td>\n",
       "      <td>431.228735</td>\n",
       "      <td>15939</td>\n",
       "      <td>2003</td>\n",
       "    </tr>\n",
       "    <tr>\n",
       "      <th>504</th>\n",
       "      <td>Liu Anshang</td>\n",
       "      <td>刘安上</td>\n",
       "      <td>1069</td>\n",
       "      <td>Shi Gongbi</td>\n",
       "      <td>石公弼</td>\n",
       "      <td>1061.0</td>\n",
       "      <td>M</td>\n",
       "      <td>Agreed with views of</td>\n",
       "      <td>政见趋同</td>\n",
       "      <td>Yongjia</td>\n",
       "      <td>...</td>\n",
       "      <td>未详</td>\n",
       "      <td>Wei Xiang</td>\n",
       "      <td>未详</td>\n",
       "      <td>U</td>\n",
       "      <td>未详</td>\n",
       "      <td>Wei Xiang</td>\n",
       "      <td>未详</td>\n",
       "      <td>165.947261</td>\n",
       "      <td>17479</td>\n",
       "      <td>13417</td>\n",
       "    </tr>\n",
       "    <tr>\n",
       "      <th>505</th>\n",
       "      <td>Han Xizai</td>\n",
       "      <td>韩熙载</td>\n",
       "      <td>902</td>\n",
       "      <td>Xu Xuan</td>\n",
       "      <td>徐铉</td>\n",
       "      <td>920.0</td>\n",
       "      <td>M</td>\n",
       "      <td>Agreed with views of</td>\n",
       "      <td>政见趋同</td>\n",
       "      <td>Beihai</td>\n",
       "      <td>...</td>\n",
       "      <td>未详</td>\n",
       "      <td>Wei Xiang</td>\n",
       "      <td>未详</td>\n",
       "      <td>U</td>\n",
       "      <td>未详</td>\n",
       "      <td>Wei Xiang</td>\n",
       "      <td>未详</td>\n",
       "      <td>941.629297</td>\n",
       "      <td>94724</td>\n",
       "      <td>12236</td>\n",
       "    </tr>\n",
       "  </tbody>\n",
       "</table>\n",
       "<p>506 rows × 28 columns</p>\n",
       "</div>"
      ],
      "text/plain": [
       "                Name   姓名  Index year       Associate 社会关系人姓名  \\\n",
       "0             An Dun   安惇        1042         Zou Hao      邹浩   \n",
       "1             An Dun   安惇        1042  Zhang Shiliang     张士良   \n",
       "2       Chen Jian(2)   陈戬        1081       Tong Guan      童贯   \n",
       "3           Cheng Yu   程瑀        1087          Wu Min      吴敏   \n",
       "4    Zhang Shangying  张商英        1043      Sima Guang     司马光   \n",
       "..               ...  ...         ...             ...     ...   \n",
       "501          Yu Jing   余靖        1000      Ouyang Xiu     欧阳修   \n",
       "502          Yu Jing   余靖        1000         Yin Zhu      尹洙   \n",
       "503       Kong Daofu  孔道辅         986        Yang Xie      杨偕   \n",
       "504      Liu Anshang  刘安上        1069      Shi Gongbi     石公弼   \n",
       "505        Han Xizai  韩熙载         902         Xu Xuan      徐铉   \n",
       "\n",
       "     Assoc. Index Year Assoc. Sex           Association     联系   Address  ...  \\\n",
       "0               1060.0          M   Opposed or attacked  反对/攻讦   Qujiang  ...   \n",
       "1                  NaN          M   Opposed or attacked  反对/攻讦   Qujiang  ...   \n",
       "2               1054.0          M   Opposed or attacked  反对/攻讦    Songxi  ...   \n",
       "3               1087.0          M   Opposed or attacked  反对/攻讦   Fuliang  ...   \n",
       "4               1019.0          M   Opposed or attacked  反对/攻讦    Xinjin  ...   \n",
       "..                 ...        ...                   ...    ...       ...  ...   \n",
       "501             1007.0          M  Agreed with views of   政见趋同   Qujiang  ...   \n",
       "502             1001.0          M  Agreed with views of   政见趋同   Qujiang  ...   \n",
       "503              980.0          M  Agreed with views of   政见趋同  Xianyuan  ...   \n",
       "504             1061.0          M  Agreed with views of   政见趋同   Yongjia  ...   \n",
       "505              920.0          M  Agreed with views of   政见趋同    Beihai  ...   \n",
       "\n",
       "    亲属关系   Kin Name  亲戚姓名 Assoc. Kinship Rel. 关系人的亲属关系  Assoc. Kin Name  \\\n",
       "0     未详  Wei Xiang    未详                   U       未详        Wei Xiang   \n",
       "1     未详  Wei Xiang    未详                   U       未详        Wei Xiang   \n",
       "2     未详  Wei Xiang    未详                   U       未详        Wei Xiang   \n",
       "3     未详  Wei Xiang    未详                   U       未详        Wei Xiang   \n",
       "4     未详  Wei Xiang    未详                   U       未详        Wei Xiang   \n",
       "..   ...        ...   ...                 ...      ...              ...   \n",
       "501   未详  Wei Xiang    未详                   U       未详        Wei Xiang   \n",
       "502   未详  Wei Xiang    未详                   U       未详        Wei Xiang   \n",
       "503   未详  Wei Xiang    未详                   U       未详        Wei Xiang   \n",
       "504   未详  Wei Xiang    未详                   U       未详        Wei Xiang   \n",
       "505   未详  Wei Xiang    未详                   U       未详        Wei Xiang   \n",
       "\n",
       "     关系人的亲戚姓名  Distance 距离 Person ID Assoc ID  \n",
       "0          未详  1275.341259         1     3888  \n",
       "1          未详          NaN         1    25065  \n",
       "2          未详   910.189663        31     8124  \n",
       "3          未详   370.461638       128     8163  \n",
       "4          未详   868.170971       272     1488  \n",
       "..        ...          ...       ...      ...  \n",
       "501        未详  1066.098438     12319     1384  \n",
       "502        未详  1102.124909     12319     7104  \n",
       "503        未详   431.228735     15939     2003  \n",
       "504        未详   165.947261     17479    13417  \n",
       "505        未详   941.629297     94724    12236  \n",
       "\n",
       "[506 rows x 28 columns]"
      ]
     },
     "execution_count": 15,
     "metadata": {},
     "output_type": "execute_result"
    }
   ],
   "source": [
    "relation.drop('Sex',axis=1)"
   ]
  },
  {
   "cell_type": "code",
   "execution_count": 16,
   "metadata": {},
   "outputs": [
    {
     "data": {
      "text/html": [
       "\n",
       "<script>\n",
       "    require.config({\n",
       "        paths: {\n",
       "            'echarts':'https://assets.pyecharts.org/assets/v5/echarts.min', 'china':'https://assets.pyecharts.org/assets/v5/maps/china'\n",
       "        }\n",
       "    });\n",
       "</script>\n",
       "\n",
       "        <div id=\"172f70db3ad749dc98cb14561eb0a776\" style=\"width:900px; height:500px;\"></div>\n",
       "\n",
       "<script>\n",
       "        require(['echarts', 'china'], function(echarts) {\n",
       "                var chart_172f70db3ad749dc98cb14561eb0a776 = echarts.init(\n",
       "                    document.getElementById('172f70db3ad749dc98cb14561eb0a776'), 'white', {renderer: 'canvas'});\n",
       "                var option_172f70db3ad749dc98cb14561eb0a776 = {\n",
       "    \"animation\": true,\n",
       "    \"animationThreshold\": 2000,\n",
       "    \"animationDuration\": 1000,\n",
       "    \"animationEasing\": \"cubicOut\",\n",
       "    \"animationDelay\": 0,\n",
       "    \"animationDurationUpdate\": 300,\n",
       "    \"animationEasingUpdate\": \"cubicOut\",\n",
       "    \"animationDelayUpdate\": 0,\n",
       "    \"aria\": {\n",
       "        \"enabled\": false\n",
       "    },\n",
       "    \"color\": [\n",
       "        \"#5470c6\",\n",
       "        \"#91cc75\",\n",
       "        \"#fac858\",\n",
       "        \"#ee6666\",\n",
       "        \"#73c0de\",\n",
       "        \"#3ba272\",\n",
       "        \"#fc8452\",\n",
       "        \"#9a60b4\",\n",
       "        \"#ea7ccc\"\n",
       "    ],\n",
       "    \"series\": [\n",
       "        {\n",
       "            \"type\": \"scatter\",\n",
       "            \"name\": \"geo\",\n",
       "            \"coordinateSystem\": \"geo\",\n",
       "            \"symbolSize\": 12,\n",
       "            \"data\": [\n",
       "                {\n",
       "                    \"name\": \"\\u5e7f\\u4e1c\\u7701\",\n",
       "                    \"value\": [\n",
       "                        113.26653,\n",
       "                        23.132191,\n",
       "                        150\n",
       "                    ]\n",
       "                },\n",
       "                {\n",
       "                    \"name\": \"\\u5317\\u4eac\\u5e02\",\n",
       "                    \"value\": [\n",
       "                        116.4,\n",
       "                        39.9,\n",
       "                        108\n",
       "                    ]\n",
       "                },\n",
       "                {\n",
       "                    \"name\": \"\\u4e0a\\u6d77\\u5e02\",\n",
       "                    \"value\": [\n",
       "                        121.47,\n",
       "                        31.23,\n",
       "                        133\n",
       "                    ]\n",
       "                },\n",
       "                {\n",
       "                    \"name\": \"\\u6c5f\\u897f\\u7701\",\n",
       "                    \"value\": [\n",
       "                        115.909228,\n",
       "                        28.675696,\n",
       "                        31\n",
       "                    ]\n",
       "                },\n",
       "                {\n",
       "                    \"name\": \"\\u6e56\\u5357\\u7701\",\n",
       "                    \"value\": [\n",
       "                        112.98381,\n",
       "                        28.112444,\n",
       "                        37\n",
       "                    ]\n",
       "                },\n",
       "                {\n",
       "                    \"name\": \"\\u6d59\\u6c5f\\u7701\",\n",
       "                    \"value\": [\n",
       "                        120.152791,\n",
       "                        30.267446,\n",
       "                        35\n",
       "                    ]\n",
       "                },\n",
       "                {\n",
       "                    \"name\": \"\\u6c5f\\u82cf\\u7701\",\n",
       "                    \"value\": [\n",
       "                        118.763232,\n",
       "                        32.061707,\n",
       "                        31\n",
       "                    ]\n",
       "                }\n",
       "            ],\n",
       "            \"label\": {\n",
       "                \"show\": false,\n",
       "                \"margin\": 8\n",
       "            },\n",
       "            \"rippleEffect\": {\n",
       "                \"show\": true,\n",
       "                \"brushType\": \"stroke\",\n",
       "                \"scale\": 2.5,\n",
       "                \"period\": 4\n",
       "            }\n",
       "        }\n",
       "    ],\n",
       "    \"legend\": [\n",
       "        {\n",
       "            \"data\": [\n",
       "                \"geo\"\n",
       "            ],\n",
       "            \"selected\": {\n",
       "                \"geo\": true\n",
       "            },\n",
       "            \"show\": true,\n",
       "            \"padding\": 5,\n",
       "            \"itemGap\": 10,\n",
       "            \"itemWidth\": 25,\n",
       "            \"itemHeight\": 14,\n",
       "            \"backgroundColor\": \"transparent\",\n",
       "            \"borderColor\": \"#ccc\",\n",
       "            \"borderWidth\": 1,\n",
       "            \"borderRadius\": 0,\n",
       "            \"pageButtonItemGap\": 5,\n",
       "            \"pageButtonPosition\": \"end\",\n",
       "            \"pageFormatter\": \"{current}/{total}\",\n",
       "            \"pageIconColor\": \"#2f4554\",\n",
       "            \"pageIconInactiveColor\": \"#aaa\",\n",
       "            \"pageIconSize\": 15,\n",
       "            \"animationDurationUpdate\": 800,\n",
       "            \"selector\": false,\n",
       "            \"selectorPosition\": \"auto\",\n",
       "            \"selectorItemGap\": 7,\n",
       "            \"selectorButtonGap\": 10\n",
       "        }\n",
       "    ],\n",
       "    \"tooltip\": {\n",
       "        \"show\": true,\n",
       "        \"trigger\": \"item\",\n",
       "        \"triggerOn\": \"mousemove|click\",\n",
       "        \"axisPointer\": {\n",
       "            \"type\": \"line\"\n",
       "        },\n",
       "        \"showContent\": true,\n",
       "        \"alwaysShowContent\": false,\n",
       "        \"showDelay\": 0,\n",
       "        \"hideDelay\": 100,\n",
       "        \"enterable\": false,\n",
       "        \"confine\": false,\n",
       "        \"appendToBody\": false,\n",
       "        \"transitionDuration\": 0.4,\n",
       "        \"formatter\": function (params) {        return params.name + ' : ' + params.value[2];    },\n",
       "        \"textStyle\": {\n",
       "            \"fontSize\": 14\n",
       "        },\n",
       "        \"borderWidth\": 0,\n",
       "        \"padding\": 5,\n",
       "        \"order\": \"seriesAsc\"\n",
       "    },\n",
       "    \"title\": [\n",
       "        {\n",
       "            \"show\": true,\n",
       "            \"text\": \"Geo-\\u57fa\\u672c\\u793a\\u4f8b\",\n",
       "            \"target\": \"blank\",\n",
       "            \"subtarget\": \"blank\",\n",
       "            \"padding\": 5,\n",
       "            \"itemGap\": 10,\n",
       "            \"textAlign\": \"auto\",\n",
       "            \"textVerticalAlign\": \"auto\",\n",
       "            \"triggerEvent\": false\n",
       "        }\n",
       "    ],\n",
       "    \"visualMap\": {\n",
       "        \"show\": true,\n",
       "        \"type\": \"continuous\",\n",
       "        \"min\": 0,\n",
       "        \"max\": 100,\n",
       "        \"inRange\": {\n",
       "            \"color\": [\n",
       "                \"#50a3ba\",\n",
       "                \"#eac763\",\n",
       "                \"#d94e5d\"\n",
       "            ]\n",
       "        },\n",
       "        \"calculable\": true,\n",
       "        \"inverse\": false,\n",
       "        \"splitNumber\": 5,\n",
       "        \"hoverLink\": true,\n",
       "        \"orient\": \"vertical\",\n",
       "        \"padding\": 5,\n",
       "        \"showLabel\": true,\n",
       "        \"itemWidth\": 20,\n",
       "        \"itemHeight\": 140,\n",
       "        \"borderWidth\": 0\n",
       "    },\n",
       "    \"geo\": {\n",
       "        \"map\": \"china\",\n",
       "        \"roam\": true,\n",
       "        \"aspectScale\": 0.75,\n",
       "        \"nameProperty\": \"name\",\n",
       "        \"selectedMode\": false,\n",
       "        \"emphasis\": {}\n",
       "    }\n",
       "};\n",
       "                chart_172f70db3ad749dc98cb14561eb0a776.setOption(option_172f70db3ad749dc98cb14561eb0a776);\n",
       "        });\n",
       "    </script>\n"
      ],
      "text/plain": [
       "<pyecharts.render.display.HTML at 0x145e6c53fd0>"
      ]
     },
     "execution_count": 16,
     "metadata": {},
     "output_type": "execute_result"
    }
   ],
   "source": [
    "from pyecharts import options as opts\n",
    "from pyecharts.charts import Geo\n",
    "from pyecharts.faker import Faker\n",
    "\n",
    "c = (\n",
    "    Geo()\n",
    "    .add_schema(maptype=\"china\")\n",
    "    .add(\"geo\", [list(z) for z in zip(Faker.provinces, Faker.values())])\n",
    "    .set_series_opts(label_opts=opts.LabelOpts(is_show=False))\n",
    "    .set_global_opts(\n",
    "        visualmap_opts=opts.VisualMapOpts(), title_opts=opts.TitleOpts(title=\"Geo-基本示例\")\n",
    "    )\n",
    "#     .render(\"geo_base.html\")\n",
    "    .render_notebook()\n",
    ")\n",
    "c"
   ]
  },
  {
   "cell_type": "code",
   "execution_count": 17,
   "metadata": {},
   "outputs": [
    {
     "ename": "NameError",
     "evalue": "name 'realation' is not defined",
     "output_type": "error",
     "traceback": [
      "\u001b[1;31m---------------------------------------------------------------------------\u001b[0m",
      "\u001b[1;31mNameError\u001b[0m                                 Traceback (most recent call last)",
      "Cell \u001b[1;32mIn[17], line 1\u001b[0m\n\u001b[1;32m----> 1\u001b[0m \u001b[43mrealation\u001b[49m\u001b[38;5;241m.\u001b[39mcolumns\n",
      "\u001b[1;31mNameError\u001b[0m: name 'realation' is not defined"
     ]
    }
   ],
   "source": [
    "realation.columns"
   ]
  },
  {
   "cell_type": "code",
   "execution_count": null,
   "metadata": {},
   "outputs": [],
   "source": [
    "realation[['X','Y']].groupby(realation['籍贯']).first()"
   ]
  },
  {
   "cell_type": "code",
   "execution_count": null,
   "metadata": {},
   "outputs": [],
   "source": [
    "jiguanxy = relation[['籍贯','X','Y']].groupby('籍贯').first()\n",
    "jiguanxy"
   ]
  },
  {
   "cell_type": "code",
   "execution_count": 18,
   "metadata": {},
   "outputs": [
    {
     "data": {
      "text/plain": [
       "籍贯\n",
       "上元     2\n",
       "上蔡     1\n",
       "上虞     1\n",
       "下邽     1\n",
       "东平府    1\n",
       "      ..\n",
       "雍邱     2\n",
       "须城     1\n",
       "高密     1\n",
       "高邮     1\n",
       "龙泉     1\n",
       "Name: 姓名, Length: 112, dtype: int64"
      ]
     },
     "execution_count": 18,
     "metadata": {},
     "output_type": "execute_result"
    }
   ],
   "source": [
    "jiguangy = relation.groupby('籍贯')['姓名'].nunique()\n",
    "jiguangy"
   ]
  },
  {
   "cell_type": "code",
   "execution_count": 19,
   "metadata": {},
   "outputs": [
    {
     "ename": "NameError",
     "evalue": "name 'jiguanxy' is not defined",
     "output_type": "error",
     "traceback": [
      "\u001b[1;31m---------------------------------------------------------------------------\u001b[0m",
      "\u001b[1;31mNameError\u001b[0m                                 Traceback (most recent call last)",
      "Cell \u001b[1;32mIn[19], line 1\u001b[0m\n\u001b[1;32m----> 1\u001b[0m a \u001b[38;5;241m=\u001b[39m pd\u001b[38;5;241m.\u001b[39mmerge(jiguangy,\u001b[43mjiguanxy\u001b[49m,on\u001b[38;5;241m=\u001b[39m\u001b[38;5;124m'\u001b[39m\u001b[38;5;124m籍贯\u001b[39m\u001b[38;5;124m'\u001b[39m)\n\u001b[0;32m      2\u001b[0m a\n",
      "\u001b[1;31mNameError\u001b[0m: name 'jiguanxy' is not defined"
     ]
    }
   ],
   "source": [
    "a = pd.merge(jiguangy,jiguanxy,on='籍贯')\n",
    "a"
   ]
  },
  {
   "cell_type": "code",
   "execution_count": 20,
   "metadata": {},
   "outputs": [
    {
     "ename": "NameError",
     "evalue": "name 'a' is not defined",
     "output_type": "error",
     "traceback": [
      "\u001b[1;31m---------------------------------------------------------------------------\u001b[0m",
      "\u001b[1;31mNameError\u001b[0m                                 Traceback (most recent call last)",
      "Cell \u001b[1;32mIn[20], line 1\u001b[0m\n\u001b[1;32m----> 1\u001b[0m \u001b[43ma\u001b[49m\u001b[38;5;241m.\u001b[39mloc[\u001b[38;5;124m'\u001b[39m\u001b[38;5;124m上元\u001b[39m\u001b[38;5;124m'\u001b[39m,[\u001b[38;5;124m'\u001b[39m\u001b[38;5;124mX\u001b[39m\u001b[38;5;124m'\u001b[39m,\u001b[38;5;124m'\u001b[39m\u001b[38;5;124mY\u001b[39m\u001b[38;5;124m'\u001b[39m]]\n",
      "\u001b[1;31mNameError\u001b[0m: name 'a' is not defined"
     ]
    }
   ],
   "source": [
    "a.loc['上元',['X','Y']]"
   ]
  },
  {
   "cell_type": "code",
   "execution_count": 21,
   "metadata": {},
   "outputs": [
    {
     "ename": "NameError",
     "evalue": "name 'a' is not defined",
     "output_type": "error",
     "traceback": [
      "\u001b[1;31m---------------------------------------------------------------------------\u001b[0m",
      "\u001b[1;31mNameError\u001b[0m                                 Traceback (most recent call last)",
      "Cell \u001b[1;32mIn[21], line 2\u001b[0m\n\u001b[0;32m      1\u001b[0m dic \u001b[38;5;241m=\u001b[39m {}\n\u001b[1;32m----> 2\u001b[0m \u001b[38;5;28;01mfor\u001b[39;00m city \u001b[38;5;129;01min\u001b[39;00m \u001b[43ma\u001b[49m\u001b[38;5;241m.\u001b[39mindex\u001b[38;5;241m.\u001b[39mtolist():\n\u001b[0;32m      3\u001b[0m     dic[city] \u001b[38;5;241m=\u001b[39m a\u001b[38;5;241m.\u001b[39mloc[city,[\u001b[38;5;124m'\u001b[39m\u001b[38;5;124mX\u001b[39m\u001b[38;5;124m'\u001b[39m,\u001b[38;5;124m'\u001b[39m\u001b[38;5;124mY\u001b[39m\u001b[38;5;124m'\u001b[39m]]\u001b[38;5;241m.\u001b[39mtolist()\n\u001b[0;32m      4\u001b[0m dic\n",
      "\u001b[1;31mNameError\u001b[0m: name 'a' is not defined"
     ]
    }
   ],
   "source": [
    "dic = {}\n",
    "for city in a.index.tolist():\n",
    "    dic[city] = a.loc[city,['X','Y']].tolist()\n",
    "dic"
   ]
  },
  {
   "cell_type": "code",
   "execution_count": 22,
   "metadata": {},
   "outputs": [
    {
     "data": {
      "text/plain": [
       "'{}'"
      ]
     },
     "execution_count": 22,
     "metadata": {},
     "output_type": "execute_result"
    }
   ],
   "source": [
    "import json\n",
    "js = json.dumps(dic,ensure_ascii = False)\n",
    "js"
   ]
  },
  {
   "cell_type": "code",
   "execution_count": 23,
   "metadata": {},
   "outputs": [],
   "source": [
    "with open('./addr.json',mode='w') as f:\n",
    "    json.dump(dic,f,ensure_ascii=False)"
   ]
  },
  {
   "cell_type": "code",
   "execution_count": null,
   "metadata": {},
   "outputs": [],
   "source": []
  }
 ],
 "metadata": {
  "kernelspec": {
   "display_name": "Python 3 (ipykernel)",
   "language": "python",
   "name": "python3"
  },
  "language_info": {
   "codemirror_mode": {
    "name": "ipython",
    "version": 3
   },
   "file_extension": ".py",
   "mimetype": "text/x-python",
   "name": "python",
   "nbconvert_exporter": "python",
   "pygments_lexer": "ipython3",
   "version": "3.10.9"
  }
 },
 "nbformat": 4,
 "nbformat_minor": 2
}
